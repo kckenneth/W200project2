{
 "cells": [
  {
   "cell_type": "markdown",
   "metadata": {},
   "source": [
    "# W200 Python for Data Science   \n",
    "## Week 2 Assignment - Spring Session 2018\n",
    "******"
   ]
  },
  {
   "cell_type": "markdown",
   "metadata": {},
   "source": [
    "## Python Coding"
   ]
  },
  {
   "cell_type": "markdown",
   "metadata": {},
   "source": [
    "Write a script to solve each of the following problems.  Each problem should have its solution as a separate .py file, named as outlined in each problem. Please upload the .py scripts to your GitHub repository in your week_2 folder.\n",
    "\n",
    "Assignment due date: 11:59PM the night before the Week 3 Live Session.\n",
    "\n",
    "NOTE #1: Even though your final submission must be individual .py files, it may be helpful to first solve the problems in this Jupyter Notebook, then translate the files into .py form.\n",
    "\n",
    "NOTE #2: Please format your input and output strings to be user friendly.  For tips on how to do this, see the python string formatting cookbook at: https://mkaz.tech/code/python-string-format-cookbook/.  For example, in the first problem below, format the tip to two decimal places like 15.25 instead of 15.25000001.\n",
    "\n",
    "### 1. Tip Calculator\n",
    "\n",
    "Below, you can see the script we wrote to compute the tip for a meal.  Fix it so that it works correctly.  \n",
    "Save your result as the file: tip_LastName.py."
   ]
  },
  {
   "cell_type": "code",
   "execution_count": 1,
   "metadata": {},
   "outputs": [
    {
     "name": "stdout",
     "output_type": "stream",
     "text": [
      "Enter the price of a meal:5.00\n"
     ]
    },
    {
     "ename": "TypeError",
     "evalue": "can't multiply sequence by non-int of type 'float'",
     "output_type": "error",
     "traceback": [
      "\u001b[0;31m---------------------------------------------------------------------------\u001b[0m",
      "\u001b[0;31mTypeError\u001b[0m                                 Traceback (most recent call last)",
      "\u001b[0;32m<ipython-input-1-d881f9fb5a0f>\u001b[0m in \u001b[0;36m<module>\u001b[0;34m()\u001b[0m\n\u001b[1;32m      1\u001b[0m \u001b[0mprice\u001b[0m \u001b[0;34m=\u001b[0m \u001b[0minput\u001b[0m\u001b[0;34m(\u001b[0m\u001b[0;34m\"Enter the price of a meal:\"\u001b[0m\u001b[0;34m)\u001b[0m\u001b[0;34m\u001b[0m\u001b[0m\n\u001b[1;32m      2\u001b[0m \u001b[0;34m\u001b[0m\u001b[0m\n\u001b[0;32m----> 3\u001b[0;31m \u001b[0mtip\u001b[0m \u001b[0;34m=\u001b[0m \u001b[0mprice\u001b[0m \u001b[0;34m*\u001b[0m \u001b[0;36m0.16\u001b[0m\u001b[0;34m\u001b[0m\u001b[0m\n\u001b[0m\u001b[1;32m      4\u001b[0m \u001b[0mtotal\u001b[0m \u001b[0;34m=\u001b[0m \u001b[0mprice\u001b[0m \u001b[0;34m+\u001b[0m \u001b[0mtip\u001b[0m\u001b[0;34m\u001b[0m\u001b[0m\n\u001b[1;32m      5\u001b[0m \u001b[0;34m\u001b[0m\u001b[0m\n",
      "\u001b[0;31mTypeError\u001b[0m: can't multiply sequence by non-int of type 'float'"
     ]
    }
   ],
   "source": [
    "price = input(\"Enter the price of a meal:\")\n",
    "\n",
    "tip = price * 0.16\n",
    "total = price + tip\n",
    "\n",
    "print(\"A 16% tip would be \", tip)\n",
    "print(\"The total including tip would be \", total)"
   ]
  },
  {
   "cell_type": "markdown",
   "metadata": {},
   "source": [
    "### 2. Gas Pump Informer\n",
    "\n",
    "Write a script that prompts the user for a number of gallons of gasoline. Reprint that value, along with its conversion to other measurements:\n",
    "\n",
    "- Equivalent number of liters\n",
    "- Number of barrels of oil required to produce it\n",
    "- Price in U.S. dollars\n",
    "\n",
    "Figures to use:\n",
    "\n",
    "- 1 gallon is equivalent to 3.7854 liters.\n",
    "- 1 barrel of oil produces 19.5 gallons of gas.\n",
    "- The average price of gas is approximately $3.65.\n",
    "\n",
    "Save your script as: gas_LastName.py"
   ]
  },
  {
   "cell_type": "markdown",
   "metadata": {},
   "source": [
    "### 3. Number Averager\n",
    "\n",
    "Write a script that prompts the user for two numbers, a and b.  Then, prompt the user to enter a type of average (out of the three options below). Output the correct average, based on what the user selected:\n",
    "\n",
    "1. The arithmetic mean $(a + b) / 2 $\n",
    "2. The geometric mean $\\sqrt{ab}$\n",
    "3. The root-mean-square $\\sqrt{\\frac{a^2 + b^2}{n}}$\n",
    "\n",
    "Save your script as: averages_LastName.py"
   ]
  },
  {
   "cell_type": "markdown",
   "metadata": {},
   "source": [
    "### 4. Income Tax\n",
    "\n",
    "The mythical island nation of Laskoatu has a rather simple tax code.  The first \\$1000 of income is taxed at 5%.  The next \\$1000 is taxed at 10%.  Any income beyond the first \\$2000 is taxed at 15%.  Complete the following script so that it asks the user for his or her income and outputs the amount of tax owed. \n",
    "\n",
    "Save your script as: tax_LastName.py"
   ]
  },
  {
   "cell_type": "code",
   "execution_count": null,
   "metadata": {
    "collapsed": true
   },
   "outputs": [],
   "source": [
    "income = int(input(\"Please enter your income:\"))"
   ]
  },
  {
   "cell_type": "markdown",
   "metadata": {},
   "source": [
    "### 5. Palindrome\n",
    "\n",
    "Write a script that prompts the user for his or her name. Using a while loop that counts downwards (instead of using the 'reverse' function), print the letters of the name reversed (hint: use print(var, end='') in each iteration of the loop). You should use s.lower() and s.upper() as appropriate to change a string s to lowercase and uppercase letters. Make sure your code prints the examples exactly as shown below.\n",
    "\n",
    "Enter your name: Paul <br>\n",
    "Luap\n",
    "\n",
    "If the name is the same forward and backwards, print \"Palindrome!\" on the next line.\n",
    "\n",
    "Enter your name: Ana <br>\n",
    "Ana <br>\n",
    "Palindrome!\n",
    "\n",
    "Save your script as: palindrome_LastName.py"
   ]
  },
  {
   "cell_type": "code",
   "execution_count": null,
   "metadata": {
    "collapsed": true
   },
   "outputs": [],
   "source": []
  }
 ],
 "metadata": {
  "anaconda-cloud": {},
  "kernelspec": {
   "display_name": "Python 3",
   "language": "python",
   "name": "python3"
  },
  "language_info": {
   "codemirror_mode": {
    "name": "ipython",
    "version": 3
   },
   "file_extension": ".py",
   "mimetype": "text/x-python",
   "name": "python",
   "nbconvert_exporter": "python",
   "pygments_lexer": "ipython3",
   "version": "3.6.1"
  }
 },
 "nbformat": 4,
 "nbformat_minor": 1
}
