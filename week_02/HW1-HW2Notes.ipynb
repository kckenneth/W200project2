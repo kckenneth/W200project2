{
 "cells": [
  {
   "cell_type": "code",
   "execution_count": null,
   "metadata": {
    "collapsed": true
   },
   "outputs": [],
   "source": [
    "## HW1  \n",
    "1)\n",
    "# you can efficently make directories and manipulate files using relative paths. \n",
    "# * This will make your code more portable\n",
    "# * If you stay one working folder you can write clearer code.\n",
    "\n",
    "2)\n",
    "# chmod +x  make_tree.sh  #is called from the command line to change the file permissions"
   ]
  },
  {
   "cell_type": "code",
   "execution_count": null,
   "metadata": {
    "collapsed": true
   },
   "outputs": [],
   "source": [
    "#!/bin/bash\n",
    "\n",
    "mkdir s1\n",
    "mkdir s1/s3\n",
    "mkdir s1/s2\n",
    "echo \"I love bash scripting\" > s1/s3/conf.txt\n",
    "echo \"A Whole new world\" >> s1/s2/text_chunk1.txt\n",
    "echo \"A new fantastic point of view\" >> s1/s2/text_chunk1.txt\n",
    "mkdir s1/s2/Advanced\n",
    "touch s1/s2/Advanced/text_chunk2.txt\n",
    "cat s1/s2/text_chunk1.txt >> s1/s2/Advanced/text_chunk2.txt\n",
    "echo \"Do you want to build a snowman?\" >> s1/s2/Advanced/text_chunk2.txt"
   ]
  },
  {
   "cell_type": "code",
   "execution_count": 36,
   "metadata": {
    "collapsed": true
   },
   "outputs": [],
   "source": [
    "### notes for HW2 ##"
   ]
  },
  {
   "cell_type": "code",
   "execution_count": null,
   "metadata": {
    "collapsed": true
   },
   "outputs": [],
   "source": [
    "# averages UI issues\n",
    "# from a UI standpoint you need to tell your user which values are \n",
    "# acceptable\n",
    "\n",
    "# you could have imported math.sqrt (not covered) or use **0.5 to get the square root\""
   ]
  },
  {
   "cell_type": "code",
   "execution_count": 2,
   "metadata": {},
   "outputs": [
    {
     "name": "stdout",
     "output_type": "stream",
     "text": [
      "Please enter your income:500\n",
      "Your taxes are $25.00\n"
     ]
    }
   ],
   "source": [
    "\n",
    "income = int(input(\"Please enter your income:\"))\n",
    "if income <= 1000:\n",
    "    tax = income *.05\n",
    "elif 1000 < income <= 2000:    ### In some cases I found: elif 1000 > income >= 2000:  \n",
    "    tax = (1000*.05) + ((income-1000)*.10)\n",
    "elif income > 2000:\n",
    "    tax = (1000*.05)+(1000*.1)+((income-2000)*.15)\n",
    "else:\n",
    "    print(\"Unable to calculate your taxes\")\n",
    "\n",
    "print ('Your taxes are ${:,.2f}'.format(tax))"
   ]
  },
  {
   "cell_type": "code",
   "execution_count": 12,
   "metadata": {},
   "outputs": [
    {
     "name": "stdout",
     "output_type": "stream",
     "text": [
      "Please enter your name: BanaNNaNaB\n",
      "Banannanab\n",
      "Palindrome!\n"
     ]
    }
   ],
   "source": [
    "# the palandrome exercise\n",
    "name = str(input(\"Please enter your name: \"))\n",
    "\n",
    "letterCt = len(name) ### Make sure to initalize the count\n",
    "                    ### rev_name = (name[::-1])\n",
    "word = ''               #make the empty string sequence\n",
    "\n",
    "while letterCt > 0:                        \n",
    "    ### for every position apend the new letter and \n",
    "    if letterCt == len(name):\n",
    "        ltr=name[letterCt-1].upper()\n",
    "        print(ltr, end=\"\")\n",
    "    else:\n",
    "        ltr=name[letterCt-1].lower()\n",
    "        print(ltr, end=\"\")\n",
    "    word = word + ltr\n",
    "    letterCt -= 1\n",
    "\n",
    "if name.lower() == word.lower():\n",
    "    print (\"\\nPalindrome!\")"
   ]
  },
  {
   "cell_type": "code",
   "execution_count": null,
   "metadata": {
    "collapsed": true
   },
   "outputs": [],
   "source": []
  },
  {
   "cell_type": "code",
   "execution_count": null,
   "metadata": {
    "collapsed": true
   },
   "outputs": [],
   "source": []
  }
 ],
 "metadata": {
  "kernelspec": {
   "display_name": "Python 3",
   "language": "python",
   "name": "python3"
  },
  "language_info": {
   "codemirror_mode": {
    "name": "ipython",
    "version": 3
   },
   "file_extension": ".py",
   "mimetype": "text/x-python",
   "name": "python",
   "nbconvert_exporter": "python",
   "pygments_lexer": "ipython3",
   "version": "3.6.1"
  }
 },
 "nbformat": 4,
 "nbformat_minor": 1
}
