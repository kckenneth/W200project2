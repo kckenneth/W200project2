{
 "cells": [
  {
   "cell_type": "markdown",
   "metadata": {},
   "source": [
    "# Unit 5 Live Session - Breakout Activities\n",
    "\n",
    "## Activity 1 -  Function Practice\n"
   ]
  },
  {
   "cell_type": "markdown",
   "metadata": {},
   "source": [
    "### 1-A\n",
    "\n",
    "Create two functions:\n",
    "\n",
    "1. The first should be called \"multiply\".  It should take in a list as a parameter, then output the product of all numbers in that list.\n",
    "2. The second should be called \"addify\".  It should take in a list as a parameter, then output the sum of all numbers in that list.\n",
    "\n",
    "Use a \"doc string\" to create help documentation for your function.\n",
    "\n",
    "Sample Output:\n",
    "```python\n",
    "print(multiply([1,3,5,8]))\n",
    "print(addify([1,3,5,8]))\n",
    "120\n",
    "17\n",
    "```\n"
   ]
  },
  {
   "cell_type": "code",
   "execution_count": 36,
   "metadata": {
<<<<<<< HEAD
    "collapsed": true
=======
    "collapsed": false
>>>>>>> parent of 50fb212... updates
   },
   "outputs": [],
   "source": [
    "def multiply(ListNum):\n",
    "    \"\"\"sequentially mulitpies all items in the list\"\"\"\n",
    "    ans=1\n",
    "    for i in ListNum:\n",
    "        ans*=i\n",
    "    return ans\n",
    "\n",
    "def addify(ListNum):\n",
    "    \"\"\"sequentially adds all items in the list\"\"\"\n",
    "    ans=1\n",
    "    for i in ListNum:\n",
    "        ans+=i\n",
    "    return ans\n"
   ]
  },
  {
   "cell_type": "code",
   "execution_count": 37,
   "metadata": {
    "collapsed": false
   },
   "outputs": [
    {
     "name": "stdout",
     "output_type": "stream",
     "text": [
      "120\n",
      "18\n"
     ]
    }
   ],
   "source": [
    "print(multiply([1,3,5,8]))\n",
    "print(addify([1,3,5,8]))"
   ]
  },
  {
   "cell_type": "code",
   "execution_count": 38,
   "metadata": {
    "collapsed": false
   },
   "outputs": [
    {
     "name": "stdout",
     "output_type": "stream",
     "text": [
      "Help on function multiply in module __main__:\n",
      "\n",
      "multiply(ListNum)\n",
      "    sequentially mulitpies all items in the list\n",
      "\n"
     ]
    }
   ],
   "source": [
    "# This should call a useful message\n",
    "help(multiply)"
   ]
  },
  {
   "cell_type": "markdown",
   "metadata": {},
   "source": [
    "### 1-B\n",
    "Add a default parameter to your function, set to \"None\".  Update your functions so that you are given a custom message if the user forgets to enter an argument.\n",
    "\n",
    "```python\n",
    "print(multiply())\n",
    "print(addify())\n",
    "Please provide a list to multiply\n",
    "Please provide a list to add\n",
    "```"
   ]
  },
  {
   "cell_type": "code",
   "execution_count": 39,
   "metadata": {
<<<<<<< HEAD
    "collapsed": true
=======
    "collapsed": false
>>>>>>> parent of 50fb212... updates
   },
   "outputs": [],
   "source": [
    "### Add default parameters to do something\n",
    "\n",
    "def multiply(ListNum=None):\n",
    "    \"\"\"sequentially mulitpies all items in the list.\n",
    "    It throws informative messages in response to empty lists and missing inputs\"\"\"\n",
    "    ans=1\n",
    "    \n",
    "    if ListNum==None:\n",
    "        print(\"Please provide a list to multiply\")\n",
    "        return # return nothing\n",
    "        \n",
    "    elif len(ListNum)==0:\n",
    "        print(\"I can not multipy an empty list\")\n",
    "        return\n",
    "        \n",
    "    else:\n",
    "        for i in ListNum:\n",
    "            ans*=i    \n",
    "    return ans\n",
    "\n",
    "#######################################\n",
    "\n",
    "def addify(ListNum=None):\n",
    "    \"\"\"sequentially adds all items in the list. \n",
    "    It throws informative messages in response to empty lists and missing inputs\"\"\"\n",
    "    ans=0\n",
    "    \n",
    "    if ListNum==None:\n",
    "        print(\"Please provide a list to add\")\n",
    "        return\n",
    "        \n",
    "    elif len(ListNum)==0:\n",
    "        print(\"I can not addify an empty list\")\n",
    "        return\n",
    "        \n",
    "    else:\n",
    "        for i in ListNum:\n",
    "            ans+=i\n",
    "    return ans\n"
   ]
  },
  {
   "cell_type": "code",
   "execution_count": 40,
   "metadata": {
    "collapsed": false
   },
   "outputs": [
    {
     "name": "stdout",
     "output_type": "stream",
     "text": [
      "I can not multipy an empty list\n",
      "Please provide a list to add\n"
     ]
    }
   ],
   "source": [
    "multiply([])\n",
    "addify()"
   ]
  },
  {
   "cell_type": "markdown",
   "metadata": {},
   "source": [
    "### 1-C\n",
    "\n",
    "Great! Now for a fun trick.  As you learned in Async, functions are really just objects!  Prove this to yourself by printing the type of your functions.\n",
    "\n",
    "```python\n",
    "print(type(multiply))\n",
    "print(type(addify))\n",
    "```"
   ]
  },
  {
   "cell_type": "code",
   "execution_count": 25,
   "metadata": {
    "collapsed": false
   },
   "outputs": [
    {
     "name": "stdout",
     "output_type": "stream",
     "text": [
      "<class 'function'>\n",
      "<class 'function'>\n"
     ]
    }
   ],
   "source": [
    "print(type(multiply))\n",
    "print(type(addify))"
   ]
  },
  {
   "cell_type": "markdown",
   "metadata": {},
   "source": [
    "Because your functions are objects, they can serve as inputs to other functions!  Create a new function, called \"add_or_mult()\".  This function should take two parameters.\n",
    "1. The first parameter will be a function.  The argument you pass for the parameter will be either your multiply or your add function.\n",
    "2. The second parameter will be a list, to be used by the function you pass as an argument for the first parameter.\n",
    "\n",
    "If this is unclear, see the sample output below:\n",
    "```python\n",
    "add_or_mult(multiply, [1,3,5,8])\n",
    "120\n",
    "add_or_mult(addify, [1,3,5,8])\n",
    "17\n",
    "```"
   ]
  },
  {
   "cell_type": "code",
   "execution_count": 26,
   "metadata": {
<<<<<<< HEAD
    "collapsed": true
=======
    "collapsed": false
>>>>>>> parent of 50fb212... updates
   },
   "outputs": [],
   "source": [
    "### Functions as Objects - Create a function that takes functions\n",
    "### Remember your Doc_String\n",
    "\n",
    "def add_or_mult(funct, Ls):\n",
    "    \"\"\"Function takes in any function that can itrate over a list and \n",
    "    applies it to the list this should work with any function that takes\n",
    "    a list as a single argument\"\"\"\n",
    "    return funct(Ls)\n",
    "\n"
   ]
  },
  {
   "cell_type": "code",
   "execution_count": 27,
   "metadata": {
    "collapsed": false
   },
   "outputs": [
    {
     "data": {
      "text/plain": [
       "120"
      ]
     },
     "execution_count": 27,
     "metadata": {},
     "output_type": "execute_result"
    }
   ],
   "source": [
    "add_or_mult(multiply, [1,3,5,8])"
   ]
  },
  {
   "cell_type": "code",
   "execution_count": 28,
   "metadata": {
    "collapsed": false
   },
   "outputs": [
    {
     "data": {
      "text/plain": [
       "17"
      ]
     },
     "execution_count": 28,
     "metadata": {},
     "output_type": "execute_result"
    }
   ],
   "source": [
    "add_or_mult(addify, [1,3,5,8])"
   ]
  },
  {
   "cell_type": "markdown",
   "metadata": {},
   "source": [
    "### 1-D\n",
    "Show that you know how to call parameters \"out of order\" by including positional arguments in your function call.\n",
    "\n",
    "Call your \"add_or_mult\" function, but include the list as the first argument, and your function name as the second.  Do not modify any of your functions when completeing this step."
   ]
  },
  {
   "cell_type": "code",
   "execution_count": 29,
   "metadata": {
    "collapsed": false
   },
   "outputs": [
    {
     "data": {
      "text/plain": [
       "120"
      ]
     },
     "execution_count": 29,
     "metadata": {},
     "output_type": "execute_result"
    }
   ],
   "source": [
    "### Use positional vs. non-positional arguments\n",
    "add_or_mult(Ls=[1,3,5,8], funct=multiply)"
   ]
  },
  {
   "cell_type": "markdown",
   "metadata": {},
   "source": [
    "## Activity 2 - Adding Try/Except to Our Function\n",
    "\n",
    "For this set of problems, you will only modify your \"mutliply\" function from above.\n",
    "\n",
    "### 2-A\n",
    "\n",
    "Please add a \"try/except\" framework to your multiply function.  Your try/except should catch any error while attempting to iterate through an invalid object, then print the default Python error message. Make sure the code still works properly, too! For example:\n",
    "\n",
    "```python\n",
    "multiply(5)\n",
    "multiply(\"apple\")\n",
    "multiply()\n",
    "multiply(3.4)\n",
    "multiply([3, 6, 1, 3])\n",
    "\n",
    "'int' object is not iterable\n",
    "can't multiply sequence by non-int of type 'str'\n",
    "'NoneType' object is not iterable\n",
    "'float' object is not iterable\n",
    "54\n",
    "```"
   ]
  },
  {
   "cell_type": "code",
   "execution_count": 36,
   "metadata": {
<<<<<<< HEAD
    "collapsed": true
=======
    "collapsed": false
>>>>>>> parent of 50fb212... updates
   },
   "outputs": [],
   "source": [
    "### Try and Except (and Raise)  Enter an Integer Into your program..\n",
    "def multiply(ListNum=None):\n",
    "    \"\"\"sequentially mulitpies all items in the list.\n",
    "    It throws informative messages in response to empty lists and missing inputs\n",
    "    it throws base-package errors if the operation is not possible\"\"\"\n",
    "    ans=1   \n",
    "    try: \n",
    "        for i in ListNum:\n",
    "            ans*=i    \n",
    "    except:\n",
    "        raise\n",
    "    return ans\n",
    "\n"
   ]
  },
  {
   "cell_type": "code",
   "execution_count": 38,
   "metadata": {
    "collapsed": false
   },
   "outputs": [
    {
     "ename": "TypeError",
     "evalue": "'int' object is not iterable",
     "output_type": "error",
     "traceback": [
      "\u001b[0;31m------------------------------------------------------------------------\u001b[0m",
      "\u001b[0;31mTypeError\u001b[0m                              Traceback (most recent call last)",
      "\u001b[0;32m<ipython-input-38-e93fedd4ceaf>\u001b[0m in \u001b[0;36m<module>\u001b[0;34m()\u001b[0m\n\u001b[0;32m----> 1\u001b[0;31m \u001b[0mmultiply\u001b[0m\u001b[0;34m(\u001b[0m\u001b[0;36m5\u001b[0m\u001b[0;34m)\u001b[0m\u001b[0;34m\u001b[0m\u001b[0m\n\u001b[0m",
      "\u001b[0;32m<ipython-input-36-61df8aee91d1>\u001b[0m in \u001b[0;36mmultiply\u001b[0;34m(ListNum)\u001b[0m\n\u001b[1;32m      8\u001b[0m     \u001b[0mans\u001b[0m\u001b[0;34m=\u001b[0m\u001b[0;36m1\u001b[0m\u001b[0;34m\u001b[0m\u001b[0m\n\u001b[1;32m      9\u001b[0m     \u001b[0;32mtry\u001b[0m\u001b[0;34m:\u001b[0m\u001b[0;34m\u001b[0m\u001b[0m\n\u001b[0;32m---> 10\u001b[0;31m         \u001b[0;32mfor\u001b[0m \u001b[0mi\u001b[0m \u001b[0;32min\u001b[0m \u001b[0mListNum\u001b[0m\u001b[0;34m:\u001b[0m\u001b[0;34m\u001b[0m\u001b[0m\n\u001b[0m\u001b[1;32m     11\u001b[0m             \u001b[0mans\u001b[0m\u001b[0;34m*=\u001b[0m\u001b[0mi\u001b[0m\u001b[0;34m\u001b[0m\u001b[0m\n\u001b[1;32m     12\u001b[0m     \u001b[0;32mexcept\u001b[0m\u001b[0;34m:\u001b[0m\u001b[0;34m\u001b[0m\u001b[0m\n",
      "\u001b[0;31mTypeError\u001b[0m: 'int' object is not iterable"
     ]
    }
   ],
   "source": [
    "multiply(5)"
   ]
  },
  {
   "cell_type": "code",
   "execution_count": 40,
   "metadata": {
    "collapsed": false
   },
   "outputs": [
    {
     "ename": "TypeError",
     "evalue": "can't multiply sequence by non-int of type 'str'",
     "output_type": "error",
     "traceback": [
      "\u001b[0;31m------------------------------------------------------------------------\u001b[0m",
      "\u001b[0;31mTypeError\u001b[0m                              Traceback (most recent call last)",
      "\u001b[0;32m<ipython-input-40-5032171d5563>\u001b[0m in \u001b[0;36m<module>\u001b[0;34m()\u001b[0m\n\u001b[0;32m----> 1\u001b[0;31m \u001b[0mmultiply\u001b[0m\u001b[0;34m(\u001b[0m\u001b[0;34m\"apple\"\u001b[0m\u001b[0;34m)\u001b[0m\u001b[0;34m\u001b[0m\u001b[0m\n\u001b[0m",
      "\u001b[0;32m<ipython-input-36-61df8aee91d1>\u001b[0m in \u001b[0;36mmultiply\u001b[0;34m(ListNum)\u001b[0m\n\u001b[1;32m      9\u001b[0m     \u001b[0;32mtry\u001b[0m\u001b[0;34m:\u001b[0m\u001b[0;34m\u001b[0m\u001b[0m\n\u001b[1;32m     10\u001b[0m         \u001b[0;32mfor\u001b[0m \u001b[0mi\u001b[0m \u001b[0;32min\u001b[0m \u001b[0mListNum\u001b[0m\u001b[0;34m:\u001b[0m\u001b[0;34m\u001b[0m\u001b[0m\n\u001b[0;32m---> 11\u001b[0;31m             \u001b[0mans\u001b[0m\u001b[0;34m*=\u001b[0m\u001b[0mi\u001b[0m\u001b[0;34m\u001b[0m\u001b[0m\n\u001b[0m\u001b[1;32m     12\u001b[0m     \u001b[0;32mexcept\u001b[0m\u001b[0;34m:\u001b[0m\u001b[0;34m\u001b[0m\u001b[0m\n\u001b[1;32m     13\u001b[0m         \u001b[0;32mraise\u001b[0m\u001b[0;34m\u001b[0m\u001b[0m\n",
      "\u001b[0;31mTypeError\u001b[0m: can't multiply sequence by non-int of type 'str'"
     ]
    }
   ],
   "source": [
    "multiply(\"apple\")"
   ]
  },
  {
   "cell_type": "code",
   "execution_count": 41,
   "metadata": {
    "collapsed": false
   },
   "outputs": [
    {
     "ename": "TypeError",
     "evalue": "'NoneType' object is not iterable",
     "output_type": "error",
     "traceback": [
      "\u001b[0;31m------------------------------------------------------------------------\u001b[0m",
      "\u001b[0;31mTypeError\u001b[0m                              Traceback (most recent call last)",
      "\u001b[0;32m<ipython-input-41-ba7b26d0c7d2>\u001b[0m in \u001b[0;36m<module>\u001b[0;34m()\u001b[0m\n\u001b[0;32m----> 1\u001b[0;31m \u001b[0mmultiply\u001b[0m\u001b[0;34m(\u001b[0m\u001b[0;34m)\u001b[0m\u001b[0;34m\u001b[0m\u001b[0m\n\u001b[0m",
      "\u001b[0;32m<ipython-input-36-61df8aee91d1>\u001b[0m in \u001b[0;36mmultiply\u001b[0;34m(ListNum)\u001b[0m\n\u001b[1;32m      8\u001b[0m     \u001b[0mans\u001b[0m\u001b[0;34m=\u001b[0m\u001b[0;36m1\u001b[0m\u001b[0;34m\u001b[0m\u001b[0m\n\u001b[1;32m      9\u001b[0m     \u001b[0;32mtry\u001b[0m\u001b[0;34m:\u001b[0m\u001b[0;34m\u001b[0m\u001b[0m\n\u001b[0;32m---> 10\u001b[0;31m         \u001b[0;32mfor\u001b[0m \u001b[0mi\u001b[0m \u001b[0;32min\u001b[0m \u001b[0mListNum\u001b[0m\u001b[0;34m:\u001b[0m\u001b[0;34m\u001b[0m\u001b[0m\n\u001b[0m\u001b[1;32m     11\u001b[0m             \u001b[0mans\u001b[0m\u001b[0;34m*=\u001b[0m\u001b[0mi\u001b[0m\u001b[0;34m\u001b[0m\u001b[0m\n\u001b[1;32m     12\u001b[0m     \u001b[0;32mexcept\u001b[0m\u001b[0;34m:\u001b[0m\u001b[0;34m\u001b[0m\u001b[0m\n",
      "\u001b[0;31mTypeError\u001b[0m: 'NoneType' object is not iterable"
     ]
    }
   ],
   "source": [
    "multiply()"
   ]
  },
  {
   "cell_type": "code",
   "execution_count": 42,
   "metadata": {
    "collapsed": false
   },
   "outputs": [
    {
     "ename": "TypeError",
     "evalue": "'float' object is not iterable",
     "output_type": "error",
     "traceback": [
      "\u001b[0;31m------------------------------------------------------------------------\u001b[0m",
      "\u001b[0;31mTypeError\u001b[0m                              Traceback (most recent call last)",
      "\u001b[0;32m<ipython-input-42-7201111ef1d7>\u001b[0m in \u001b[0;36m<module>\u001b[0;34m()\u001b[0m\n\u001b[0;32m----> 1\u001b[0;31m \u001b[0mmultiply\u001b[0m\u001b[0;34m(\u001b[0m\u001b[0;36m3.4\u001b[0m\u001b[0;34m)\u001b[0m\u001b[0;34m\u001b[0m\u001b[0m\n\u001b[0m",
      "\u001b[0;32m<ipython-input-36-61df8aee91d1>\u001b[0m in \u001b[0;36mmultiply\u001b[0;34m(ListNum)\u001b[0m\n\u001b[1;32m      8\u001b[0m     \u001b[0mans\u001b[0m\u001b[0;34m=\u001b[0m\u001b[0;36m1\u001b[0m\u001b[0;34m\u001b[0m\u001b[0m\n\u001b[1;32m      9\u001b[0m     \u001b[0;32mtry\u001b[0m\u001b[0;34m:\u001b[0m\u001b[0;34m\u001b[0m\u001b[0m\n\u001b[0;32m---> 10\u001b[0;31m         \u001b[0;32mfor\u001b[0m \u001b[0mi\u001b[0m \u001b[0;32min\u001b[0m \u001b[0mListNum\u001b[0m\u001b[0;34m:\u001b[0m\u001b[0;34m\u001b[0m\u001b[0m\n\u001b[0m\u001b[1;32m     11\u001b[0m             \u001b[0mans\u001b[0m\u001b[0;34m*=\u001b[0m\u001b[0mi\u001b[0m\u001b[0;34m\u001b[0m\u001b[0m\n\u001b[1;32m     12\u001b[0m     \u001b[0;32mexcept\u001b[0m\u001b[0;34m:\u001b[0m\u001b[0;34m\u001b[0m\u001b[0m\n",
      "\u001b[0;31mTypeError\u001b[0m: 'float' object is not iterable"
     ]
    }
   ],
   "source": [
    "multiply(3.4)"
   ]
  },
  {
   "cell_type": "code",
   "execution_count": 43,
   "metadata": {
    "collapsed": false
   },
   "outputs": [
    {
     "data": {
      "text/plain": [
       "54"
      ]
     },
     "execution_count": 43,
     "metadata": {},
     "output_type": "execute_result"
    }
   ],
   "source": [
    "multiply([3, 6, 1, 3])"
   ]
  },
  {
   "cell_type": "markdown",
   "metadata": {},
   "source": [
    "### 2-B\n",
    "\n",
    "Now, we're going to provide some error messages of our own.  Update your \"except\" code to provide some more customized messages.  Specifically:\n",
    "1. If the user does not enter an argument, say \"Please provide a parameter!\"\n",
    "2. If the user provides an integer, tell them integers are invalid in your own words.\n",
    "3. If the user provides a string, tell them strings are invalid in your own words.\n",
    "4. Otherwise, print the default Python error.\n",
    "\n",
    "```python\n",
    "multiply(5)\n",
    "multiply(\"apple\")\n",
    "multiply()\n",
    "multiply(3.4)\n",
    "multiply([3, 6, 1, 3])\n",
    "\n",
    "Integers are invalid. Please provide a list!\n",
    "Strings are invalid. Please provide a list!\n",
    "Please provide a parameter!\n",
    "'float' object is not iterable\n",
    "54\n",
    "```"
   ]
  },
  {
   "cell_type": "code",
   "execution_count": 48,
   "metadata": {
<<<<<<< HEAD
    "collapsed": true
=======
    "collapsed": false
>>>>>>> parent of 50fb212... updates
   },
   "outputs": [],
   "source": [
    "### Try and Except (and Raise)  Enter an Integer Into your program..\n",
    "def multiply(ListNum=None):\n",
    "    \"\"\"sequentially mulitpies all items in the list.\n",
    "    It throws informative messages in response to empty lists and missing inputs\n",
    "    it throws base-package errors if the operation is not possible\"\"\"\n",
    "    ans=1   \n",
    "    try: \n",
    "        for i in ListNum:\n",
    "            ans*=i      \n",
    "    except TypeError as e:\n",
    "        InType=type(ListNum)\n",
    "        if InType==float:\n",
    "            print (\"'float' object is not iterable\")\n",
    "        elif InType==str:\n",
    "            print (\"Strings are invalid. Please provide a list!\")\n",
    "        elif InType==int:\n",
    "            print ('Integers are invalid. Please provide a list!')\n",
    "        else:\n",
    "            print (\"Please provide a parameter!\")             \n",
    "    except: \n",
    "        raise \n",
    "        print ('Not a Type error something else went wrong')\n",
    "    return ans"
   ]
  },
  {
   "cell_type": "code",
   "execution_count": 49,
   "metadata": {
    "collapsed": false
   },
   "outputs": [
    {
     "name": "stdout",
     "output_type": "stream",
     "text": [
      "Integers are invalid. Please provide a list!\n",
      "Strings are invalid. Please provide a list!\n",
      "Please provide a parameter!\n",
      "'float' object is not iterable\n"
     ]
    },
    {
     "ename": "NameError",
     "evalue": "name 'multipy' is not defined",
     "output_type": "error",
     "traceback": [
      "\u001b[0;31m---------------------------------------------------------------------------\u001b[0m",
      "\u001b[0;31mNameError\u001b[0m                                 Traceback (most recent call last)",
      "\u001b[0;32m<ipython-input-49-25bab1294c76>\u001b[0m in \u001b[0;36m<module>\u001b[0;34m()\u001b[0m\n\u001b[1;32m      4\u001b[0m \u001b[0mmultiply\u001b[0m\u001b[0;34m(\u001b[0m\u001b[0;36m3.4\u001b[0m\u001b[0;34m)\u001b[0m\u001b[0;34m\u001b[0m\u001b[0m\n\u001b[1;32m      5\u001b[0m \u001b[0mmultiply\u001b[0m\u001b[0;34m(\u001b[0m\u001b[0;34m[\u001b[0m\u001b[0;36m3\u001b[0m\u001b[0;34m,\u001b[0m \u001b[0;36m6\u001b[0m\u001b[0;34m,\u001b[0m \u001b[0;36m1\u001b[0m\u001b[0;34m,\u001b[0m \u001b[0;36m3\u001b[0m\u001b[0;34m]\u001b[0m\u001b[0;34m)\u001b[0m\u001b[0;34m\u001b[0m\u001b[0m\n\u001b[0;32m----> 6\u001b[0;31m \u001b[0mmultipy\u001b[0m\u001b[0;34m(\u001b[0m\u001b[0mapple\u001b[0m\u001b[0;34m)\u001b[0m\u001b[0;34m\u001b[0m\u001b[0m\n\u001b[0m",
      "\u001b[0;31mNameError\u001b[0m: name 'multipy' is not defined"
     ]
    }
   ],
   "source": [
    "multiply(5)\n",
    "multiply(\"apple\")\n",
    "multiply()\n",
    "multiply(3.4)\n",
    "multiply([3, 6, 1, 3])\n",
    "multiply(apple)"
   ]
  },
  {
   "cell_type": "markdown",
   "metadata": {},
   "source": [
    "### 2-C\n",
    "Finally, let's \"raise\" our own error.  Add some code to the \"try\" portion of your multiply program to raise a \"Product is too small!\" error if the resulting product is less than 25.\n",
    "\n",
    "```python\n",
    "multiply([1,4,3])\n",
    "multiply([1,4,3,7])\n",
    "\n",
    "Product too small!\n",
    "84\n",
    "```"
   ]
  },
  {
   "cell_type": "code",
   "execution_count": 145,
   "metadata": {
    "collapsed": true
   },
   "outputs": [],
   "source": [
    "### Try and Except (and Raise)  Enter an Integer Into your program.\n",
    "def multiply(ListNum=None):\n",
    "    \"\"\"sequentially mulitpies all items in the list.\n",
    "    It throws informative messages in response to empty lists and missing inputs\n",
    "    it throws base-package errors if the operation is not possible\"\"\"\n",
    "    ans=1   \n",
    "    try: \n",
    "        for i in ListNum:\n",
    "            ans*=i    \n",
    "        if ans < 25: \n",
    "            raise ValueError (\"The answer is less than 25\")\n",
    "    except TypeError as e:\n",
    "        InType=type(ListNum)\n",
    "        if InType==float:\n",
    "            print (\"'float' object is not iterable\")\n",
    "        elif InType==str:\n",
    "            print (\"Strings are invalid. Please provide a list!\")\n",
    "        elif InType==int:\n",
    "            print ('Integers are invalid. Please provide a list!')\n",
    "        else:\n",
    "            print (\"Please provide a parameter!\", str(e))        \n",
    "    except: \n",
    "        raise \n",
    "        print ('Not a Type error something else went wrong')\n",
    "    return ans\n"
   ]
  },
  {
   "cell_type": "code",
   "execution_count": 143,
   "metadata": {
    "collapsed": false
   },
   "outputs": [
    {
     "name": "stdout",
     "output_type": "stream",
     "text": [
      "Please provide a parameter!\n",
      "a\n",
      "84\n"
     ]
    },
    {
     "ename": "ValueError",
     "evalue": "The answer is less than 25",
     "output_type": "error",
     "traceback": [
      "\u001b[0;31m------------------------------------------------------------------------\u001b[0m",
      "\u001b[0;31mValueError\u001b[0m                             Traceback (most recent call last)",
      "\u001b[0;32m<ipython-input-143-efbf1acfa294>\u001b[0m in \u001b[0;36m<module>\u001b[0;34m()\u001b[0m\n\u001b[1;32m      1\u001b[0m \u001b[0mprint\u001b[0m\u001b[0;34m(\u001b[0m\u001b[0mmultiply\u001b[0m\u001b[0;34m(\u001b[0m\u001b[0;34m[\u001b[0m\u001b[0;34m\"a\"\u001b[0m\u001b[0;34m]\u001b[0m\u001b[0;34m)\u001b[0m\u001b[0;34m)\u001b[0m\u001b[0;34m\u001b[0m\u001b[0m\n\u001b[1;32m      2\u001b[0m \u001b[0mprint\u001b[0m\u001b[0;34m(\u001b[0m\u001b[0mmultiply\u001b[0m\u001b[0;34m(\u001b[0m\u001b[0;34m[\u001b[0m\u001b[0;36m1\u001b[0m\u001b[0;34m,\u001b[0m\u001b[0;36m4\u001b[0m\u001b[0;34m,\u001b[0m\u001b[0;36m3\u001b[0m\u001b[0;34m,\u001b[0m\u001b[0;36m7\u001b[0m\u001b[0;34m]\u001b[0m\u001b[0;34m)\u001b[0m\u001b[0;34m)\u001b[0m\u001b[0;34m\u001b[0m\u001b[0m\n\u001b[0;32m----> 3\u001b[0;31m \u001b[0mprint\u001b[0m\u001b[0;34m(\u001b[0m\u001b[0mmultiply\u001b[0m\u001b[0;34m(\u001b[0m\u001b[0;34m[\u001b[0m\u001b[0;36m1\u001b[0m\u001b[0;34m,\u001b[0m\u001b[0;36m4\u001b[0m\u001b[0;34m,\u001b[0m\u001b[0;36m3\u001b[0m\u001b[0;34m]\u001b[0m\u001b[0;34m)\u001b[0m\u001b[0;34m)\u001b[0m\u001b[0;34m\u001b[0m\u001b[0m\n\u001b[0m\u001b[1;32m      4\u001b[0m \u001b[0;34m\u001b[0m\u001b[0m\n",
      "\u001b[0;32m<ipython-input-141-d0497b642675>\u001b[0m in \u001b[0;36mmultiply\u001b[0;34m(ListNum)\u001b[0m\n\u001b[1;32m      9\u001b[0m             \u001b[0mans\u001b[0m\u001b[0;34m*=\u001b[0m\u001b[0mi\u001b[0m\u001b[0;34m\u001b[0m\u001b[0m\n\u001b[1;32m     10\u001b[0m         \u001b[0;32mif\u001b[0m \u001b[0mans\u001b[0m \u001b[0;34m<\u001b[0m \u001b[0;36m25\u001b[0m\u001b[0;34m:\u001b[0m\u001b[0;34m\u001b[0m\u001b[0m\n\u001b[0;32m---> 11\u001b[0;31m             \u001b[0;32mraise\u001b[0m \u001b[0mValueError\u001b[0m \u001b[0;34m(\u001b[0m\u001b[0;34m\"The answer is less than 25\"\u001b[0m\u001b[0;34m)\u001b[0m\u001b[0;34m\u001b[0m\u001b[0m\n\u001b[0m\u001b[1;32m     12\u001b[0m     \u001b[0;32mexcept\u001b[0m \u001b[0mTypeError\u001b[0m \u001b[0;32mas\u001b[0m \u001b[0me\u001b[0m\u001b[0;34m:\u001b[0m\u001b[0;34m\u001b[0m\u001b[0m\n\u001b[1;32m     13\u001b[0m         \u001b[0mInType\u001b[0m\u001b[0;34m=\u001b[0m\u001b[0mtype\u001b[0m\u001b[0;34m(\u001b[0m\u001b[0mListNum\u001b[0m\u001b[0;34m)\u001b[0m\u001b[0;34m\u001b[0m\u001b[0m\n",
      "\u001b[0;31mValueError\u001b[0m: The answer is less than 25"
     ]
    }
   ],
   "source": [
    "print(multiply([\"a\"]))\n",
    "print(multiply([1,4,3,7]))\n",
    "print(multiply([1,4,3]))\n",
    "\n"
   ]
  },
  {
   "cell_type": "markdown",
   "metadata": {},
   "source": [
    "## Activity 3 - Namespace and The Stack!\n",
    "\n",
    "### 3-A Finding an Error in the Stack Trace\n",
    "Please analyze the stack trace below.  \n",
    "\n",
    "In what function has an error occured?  How do you know?"
   ]
  },
  {
   "cell_type": "code",
   "execution_count": 119,
   "metadata": {
<<<<<<< HEAD
    "collapsed": true
=======
    "collapsed": false
>>>>>>> parent of 50fb212... updates
   },
   "outputs": [],
   "source": [
    "### The Stack -- Give an example of something wrong they need to fix.  Use the stack trace to find the issue.\n",
    "### I have added a try except clause to the part that failed....\n",
    "\n",
    "def function_1(parameter_1, parameter_2):\n",
    "    return(parameter_1 / parameter_2)\n",
    "\n",
    "def function_2(parameter_1, parameter_2):\n",
    "    res_1 = function_1(parameter_1, parameter_2)\n",
    "    return(res_1 * parameter_2)\n",
    "\n",
    "def function_3(parameter_1):\n",
    "    res_1 = function_2(parameter_1, parameter_1)\n",
    "    res_2 = function_1(parameter_1, parameter_1)\n",
    "    return(res_1 / res_2)\n",
    "def function_4(parameter_1, parameter_2):\n",
    "    res_1 = function_3(parameter_1)\n",
    "    res_2 = function_2(parameter_1, parameter_2)\n",
    "    apples = res_1 + res_2\n",
    "    return(apples)"
   ]
  },
  {
   "cell_type": "code",
   "execution_count": 120,
   "metadata": {
    "collapsed": false
   },
   "outputs": [
    {
     "data": {
      "text/plain": [
       "200.0"
      ]
     },
     "execution_count": 120,
     "metadata": {},
     "output_type": "execute_result"
    }
   ],
   "source": [
    "function_4(100, 3)"
   ]
  },
  {
   "cell_type": "code",
   "execution_count": 121,
   "metadata": {
    "collapsed": false
   },
   "outputs": [
    {
     "ename": "ZeroDivisionError",
     "evalue": "division by zero",
     "output_type": "error",
     "traceback": [
      "\u001b[0;31m------------------------------------------------------------------------\u001b[0m",
      "\u001b[0;31mZeroDivisionError\u001b[0m                      Traceback (most recent call last)",
      "\u001b[0;32m<ipython-input-121-5162d4a6d460>\u001b[0m in \u001b[0;36m<module>\u001b[0;34m()\u001b[0m\n\u001b[0;32m----> 1\u001b[0;31m \u001b[0mfunction_4\u001b[0m\u001b[0;34m(\u001b[0m\u001b[0;36m100\u001b[0m\u001b[0;34m,\u001b[0m \u001b[0;36m0\u001b[0m\u001b[0;34m)\u001b[0m\u001b[0;34m\u001b[0m\u001b[0m\n\u001b[0m",
      "\u001b[0;32m<ipython-input-119-4692ead52528>\u001b[0m in \u001b[0;36mfunction_4\u001b[0;34m(parameter_1, parameter_2)\u001b[0m\n\u001b[1;32m     18\u001b[0m \u001b[0;32mdef\u001b[0m \u001b[0mfunction_4\u001b[0m\u001b[0;34m(\u001b[0m\u001b[0mparameter_1\u001b[0m\u001b[0;34m,\u001b[0m \u001b[0mparameter_2\u001b[0m\u001b[0;34m)\u001b[0m\u001b[0;34m:\u001b[0m\u001b[0;34m\u001b[0m\u001b[0m\n\u001b[1;32m     19\u001b[0m     \u001b[0mres_1\u001b[0m \u001b[0;34m=\u001b[0m \u001b[0mfunction_3\u001b[0m\u001b[0;34m(\u001b[0m\u001b[0mparameter_1\u001b[0m\u001b[0;34m)\u001b[0m\u001b[0;34m\u001b[0m\u001b[0m\n\u001b[0;32m---> 20\u001b[0;31m     \u001b[0mres_2\u001b[0m \u001b[0;34m=\u001b[0m \u001b[0mfunction_2\u001b[0m\u001b[0;34m(\u001b[0m\u001b[0mparameter_1\u001b[0m\u001b[0;34m,\u001b[0m \u001b[0mparameter_2\u001b[0m\u001b[0;34m)\u001b[0m\u001b[0;34m\u001b[0m\u001b[0m\n\u001b[0m\u001b[1;32m     21\u001b[0m     \u001b[0mapples\u001b[0m \u001b[0;34m=\u001b[0m \u001b[0mres_1\u001b[0m \u001b[0;34m+\u001b[0m \u001b[0mres_2\u001b[0m\u001b[0;34m\u001b[0m\u001b[0m\n\u001b[1;32m     22\u001b[0m     \u001b[0;32mreturn\u001b[0m\u001b[0;34m(\u001b[0m\u001b[0mapples\u001b[0m\u001b[0;34m)\u001b[0m\u001b[0;34m\u001b[0m\u001b[0m\n",
      "\u001b[0;32m<ipython-input-119-4692ead52528>\u001b[0m in \u001b[0;36mfunction_2\u001b[0;34m(parameter_1, parameter_2)\u001b[0m\n\u001b[1;32m      6\u001b[0m \u001b[0;34m\u001b[0m\u001b[0m\n\u001b[1;32m      7\u001b[0m \u001b[0;32mdef\u001b[0m \u001b[0mfunction_2\u001b[0m\u001b[0;34m(\u001b[0m\u001b[0mparameter_1\u001b[0m\u001b[0;34m,\u001b[0m \u001b[0mparameter_2\u001b[0m\u001b[0;34m)\u001b[0m\u001b[0;34m:\u001b[0m\u001b[0;34m\u001b[0m\u001b[0m\n\u001b[0;32m----> 8\u001b[0;31m     \u001b[0mres_1\u001b[0m \u001b[0;34m=\u001b[0m \u001b[0mfunction_1\u001b[0m\u001b[0;34m(\u001b[0m\u001b[0mparameter_1\u001b[0m\u001b[0;34m,\u001b[0m \u001b[0mparameter_2\u001b[0m\u001b[0;34m)\u001b[0m\u001b[0;34m\u001b[0m\u001b[0m\n\u001b[0m\u001b[1;32m      9\u001b[0m     \u001b[0;32mreturn\u001b[0m\u001b[0;34m(\u001b[0m\u001b[0mres_1\u001b[0m \u001b[0;34m*\u001b[0m \u001b[0mparameter_2\u001b[0m\u001b[0;34m)\u001b[0m\u001b[0;34m\u001b[0m\u001b[0m\n\u001b[1;32m     10\u001b[0m \u001b[0;34m\u001b[0m\u001b[0m\n",
      "\u001b[0;32m<ipython-input-119-4692ead52528>\u001b[0m in \u001b[0;36mfunction_1\u001b[0;34m(parameter_1, parameter_2)\u001b[0m\n\u001b[1;32m      3\u001b[0m \u001b[0;34m\u001b[0m\u001b[0m\n\u001b[1;32m      4\u001b[0m \u001b[0;32mdef\u001b[0m \u001b[0mfunction_1\u001b[0m\u001b[0;34m(\u001b[0m\u001b[0mparameter_1\u001b[0m\u001b[0;34m,\u001b[0m \u001b[0mparameter_2\u001b[0m\u001b[0;34m)\u001b[0m\u001b[0;34m:\u001b[0m\u001b[0;34m\u001b[0m\u001b[0m\n\u001b[0;32m----> 5\u001b[0;31m     \u001b[0;32mreturn\u001b[0m\u001b[0;34m(\u001b[0m\u001b[0mparameter_1\u001b[0m \u001b[0;34m/\u001b[0m \u001b[0mparameter_2\u001b[0m\u001b[0;34m)\u001b[0m\u001b[0;34m\u001b[0m\u001b[0m\n\u001b[0m\u001b[1;32m      6\u001b[0m \u001b[0;34m\u001b[0m\u001b[0m\n\u001b[1;32m      7\u001b[0m \u001b[0;32mdef\u001b[0m \u001b[0mfunction_2\u001b[0m\u001b[0;34m(\u001b[0m\u001b[0mparameter_1\u001b[0m\u001b[0;34m,\u001b[0m \u001b[0mparameter_2\u001b[0m\u001b[0;34m)\u001b[0m\u001b[0;34m:\u001b[0m\u001b[0;34m\u001b[0m\u001b[0m\n",
      "\u001b[0;31mZeroDivisionError\u001b[0m: division by zero"
     ]
    }
   ],
   "source": [
    "function_4(100, 0)"
   ]
  },
  {
   "cell_type": "markdown",
   "metadata": {},
   "source": [
    "### 3-B\n",
    "\n",
    "What functions ran successfully before the error occured?  Talk your group through the stack trace from top to bottom to explain it."
   ]
  },
  {
   "cell_type": "markdown",
   "metadata": {},
   "source": [
    "## Activity 4 - Bonus in Lamdba Function\n",
    "\n",
    "### 4-A\n",
    "\n",
    "Write a labmda function that cubes a single number\n",
    "\n",
    "```python\n",
    "imma_function(4)\n",
    "64\n",
    "```"
   ]
  },
  {
   "cell_type": "code",
   "execution_count": 122,
   "metadata": {
<<<<<<< HEAD
    "collapsed": true
=======
    "collapsed": false
>>>>>>> parent of 50fb212... updates
   },
   "outputs": [],
   "source": [
    "imma_function = lambda x: x**3"
   ]
  },
  {
   "cell_type": "code",
   "execution_count": 123,
   "metadata": {
    "collapsed": false
   },
   "outputs": [
    {
     "data": {
      "text/plain": [
       "64"
      ]
     },
     "execution_count": 123,
     "metadata": {},
     "output_type": "execute_result"
    }
   ],
   "source": [
    "imma_function(4)"
   ]
  },
  {
   "cell_type": "markdown",
   "metadata": {},
   "source": [
    "### 4-B\n",
    "\n",
    "Write a lambda function that cubes a list of numbers\n",
    "\n",
    "```python\n",
    "imma_notherfunction(range(1,10))\n",
    "[1, 8, 27, 64, 125, 216, 343, 512, 729]\n",
    "```"
   ]
  },
  {
   "cell_type": "code",
<<<<<<< HEAD
   "execution_count": 8,
   "metadata": {},
=======
   "execution_count": 131,
   "metadata": {
    "collapsed": false
   },
   "outputs": [],
   "source": [
    "def imma_notherfunction(NumLs):\n",
    "    print(list(map(lambda x: x**3, NumLs)))"
   ]
  },
  {
   "cell_type": "code",
   "execution_count": 132,
   "metadata": {
    "collapsed": false
   },
>>>>>>> parent of 50fb212... updates
   "outputs": [
    {
     "name": "stdout",
     "output_type": "stream",
     "text": [
      "[1, 8, 27, 64, 125, 216, 343, 512, 729]\n"
     ]
    }
   ],
   "source": [
    "def imma_notherfunction(x):\n",
    "    print(list(map(lambda x: x**3, x)))\n",
    "\n",
    "imma_notherfunction(range(1,10))"
   ]
  },
  {
   "cell_type": "code",
   "execution_count": 6,
   "metadata": {},
   "outputs": [
    {
     "name": "stdout",
     "output_type": "stream",
     "text": [
      "[1, 8, 27, 64, 125, 216, 343, 512, 729]\n"
     ]
    }
   ],
   "source": [
    "# alternatively\n",
    "\n",
    "x,y=1,10\n",
    "print(list(map(lambda x: x**3, range(x,y))))"
   ]
  },
  {
   "cell_type": "code",
<<<<<<< HEAD
   "execution_count": 9,
   "metadata": {},
=======
   "execution_count": 134,
   "metadata": {
    "collapsed": false
   },
>>>>>>> parent of 50fb212... updates
   "outputs": [
    {
     "data": {
      "text/plain": [
       "[1, 8, 27, 64, 125, 216, 343, 512, 729]"
      ]
     },
     "execution_count": 9,
     "metadata": {},
     "output_type": "execute_result"
    }
   ],
   "source": [
    "# alternatively \n",
    "imma_notherfunction = lambda x: [i**3 for i in x] \n",
    "\n",
    "imma_notherfunction(range(1,10))"
   ]
  },
  {
   "cell_type": "code",
   "execution_count": null,
   "metadata": {},
   "outputs": [],
   "source": []
  },
  {
   "cell_type": "code",
   "execution_count": null,
   "metadata": {
    "collapsed": true
   },
   "outputs": [],
   "source": []
  }
 ],
 "metadata": {
  "anaconda-cloud": {},
  "kernelspec": {
   "display_name": "Python 3",
   "language": "python",
   "name": "python3"
  },
  "language_info": {
   "codemirror_mode": {
    "name": "ipython",
    "version": 3
   },
   "file_extension": ".py",
   "mimetype": "text/x-python",
   "name": "python",
   "nbconvert_exporter": "python",
   "pygments_lexer": "ipython3",
<<<<<<< HEAD
   "version": "3.6.1"
  },
  "widgets": {
   "state": {},
   "version": "1.1.2"
=======
   "version": "3.5.2"
>>>>>>> parent of 50fb212... updates
  }
 },
 "nbformat": 4,
 "nbformat_minor": 0
}
