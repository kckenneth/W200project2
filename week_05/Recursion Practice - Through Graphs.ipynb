{
 "cells": [
  {
   "cell_type": "markdown",
   "metadata": {},
   "source": [
    "# Recursion practice\n",
    "\n",
    "graphs are made up of nodes and links, imagine beads on a string with the beads as the the nodes and the strings as the links. One simple way to describe a graph is as a list of nodes that are linked together\n",
    "\n",
    "graph=[(n1,n2),(n2,n3),(n1,n3)(n3,n4)(n1,n6)(n6,n7)]\n",
    "\n",
    "for example n1 is linked to n2 which is linked to n3\n",
    "n1->n2\n",
    "   \n",
    "make a recursive algorythm that traverses the graph until it reaches a terminal node\n",
    "in this simple example we pair together nodes\n"
   ]
  },
  {
   "cell_type": "code",
   "execution_count": 1,
   "metadata": {
    "collapsed": true
   },
   "outputs": [],
   "source": [
    "graph=[('n1','n2'),('n1','n3'),('n3','n4'),('n1','n6'),('n6','n7')]\n",
    "\n",
    "def getnext(node, graph):\n",
    "    NextNodes=[link[1] for link in graph if link[0]==node]\n",
    "    print (NextNodes)"
   ]
  },
  {
   "cell_type": "code",
   "execution_count": 2,
   "metadata": {},
   "outputs": [
    {
     "name": "stdout",
     "output_type": "stream",
     "text": [
      "['n2', 'n3', 'n6']\n"
     ]
    }
   ],
   "source": [
    "#call it like this to get a list of next nodes\n",
    "nextnode=getnext('n1', graph)\n",
    "#print(nextnode)"
   ]
  },
  {
   "cell_type": "code",
   "execution_count": 10,
   "metadata": {},
   "outputs": [],
   "source": [
    "# answer\n",
    "def Graphwalk(lastnode, graph):\n",
    "    nextn=getnext(lastnode, graph)\n",
    "    if nextn == []: #base state\n",
    "        print('At the end ' + str(lastnode))\n",
    "        return str(lastnode)\n",
    "    else: \n",
    "        #print ('checking: ' + str(nextn))\n",
    "        #return getnext(lastnode, graph)\n",
    "        return [Graphwalk(node, graph) for node in (getnext(lastnode, graph))]"
   ]
  },
  {
   "cell_type": "code",
   "execution_count": 17,
   "metadata": {},
   "outputs": [
    {
     "name": "stdout",
     "output_type": "stream",
     "text": [
      "['n2', 'n3', 'n6']\n",
      "['n2', 'n3', 'n6']\n"
     ]
    },
    {
     "ename": "TypeError",
     "evalue": "'NoneType' object is not iterable",
     "output_type": "error",
     "traceback": [
      "\u001b[0;31m---------------------------------------------------------------------------\u001b[0m",
      "\u001b[0;31mTypeError\u001b[0m                                 Traceback (most recent call last)",
      "\u001b[0;32m<ipython-input-17-c5ce8b3c1ae0>\u001b[0m in \u001b[0;36m<module>\u001b[0;34m()\u001b[0m\n\u001b[0;32m----> 1\u001b[0;31m \u001b[0mGraphwalk\u001b[0m\u001b[0;34m(\u001b[0m\u001b[0;34m'n1'\u001b[0m\u001b[0;34m,\u001b[0m \u001b[0mgraph\u001b[0m\u001b[0;34m)\u001b[0m\u001b[0;34m\u001b[0m\u001b[0m\n\u001b[0m",
      "\u001b[0;32m<ipython-input-10-41dcb90afb49>\u001b[0m in \u001b[0;36mGraphwalk\u001b[0;34m(lastnode, graph)\u001b[0m\n\u001b[1;32m      8\u001b[0m         \u001b[0;31m#print ('checking: ' + str(nextn))\u001b[0m\u001b[0;34m\u001b[0m\u001b[0;34m\u001b[0m\u001b[0m\n\u001b[1;32m      9\u001b[0m         \u001b[0;31m#return getnext(lastnode, graph)\u001b[0m\u001b[0;34m\u001b[0m\u001b[0;34m\u001b[0m\u001b[0m\n\u001b[0;32m---> 10\u001b[0;31m         \u001b[0;32mreturn\u001b[0m \u001b[0;34m[\u001b[0m\u001b[0mGraphwalk\u001b[0m\u001b[0;34m(\u001b[0m\u001b[0mnode\u001b[0m\u001b[0;34m,\u001b[0m \u001b[0mgraph\u001b[0m\u001b[0;34m)\u001b[0m \u001b[0;32mfor\u001b[0m \u001b[0mnode\u001b[0m \u001b[0;32min\u001b[0m \u001b[0;34m(\u001b[0m\u001b[0mgetnext\u001b[0m\u001b[0;34m(\u001b[0m\u001b[0mlastnode\u001b[0m\u001b[0;34m,\u001b[0m \u001b[0mgraph\u001b[0m\u001b[0;34m)\u001b[0m\u001b[0;34m)\u001b[0m\u001b[0;34m]\u001b[0m\u001b[0;34m\u001b[0m\u001b[0m\n\u001b[0m",
      "\u001b[0;31mTypeError\u001b[0m: 'NoneType' object is not iterable"
     ]
    }
   ],
   "source": [
    "Graphwalk('n1', graph)"
   ]
  },
  {
   "cell_type": "code",
   "execution_count": null,
   "metadata": {
    "collapsed": true
   },
   "outputs": [],
   "source": [
    "write a recursive function that finds all terminal nodes and \n",
    "1-emits a list with thier name\n",
    "2-emits a dictionary with node name and degree\n",
    "3-identifies links that form cycles (link back to a previous part of the path"
   ]
  }
 ],
 "metadata": {
  "kernelspec": {
   "display_name": "Python 3",
   "language": "python",
   "name": "python3"
  },
  "language_info": {
   "codemirror_mode": {
    "name": "ipython",
    "version": 3
   },
   "file_extension": ".py",
   "mimetype": "text/x-python",
   "name": "python",
   "nbconvert_exporter": "python",
   "pygments_lexer": "ipython3",
   "version": "3.6.1"
  }
 },
 "nbformat": 4,
 "nbformat_minor": 1
}
