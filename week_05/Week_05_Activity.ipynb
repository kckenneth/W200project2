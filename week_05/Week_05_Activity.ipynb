{
 "cells": [
  {
   "cell_type": "markdown",
   "metadata": {},
   "source": [
    "# Unit 5 Live Session - Breakout Activities\n",
    "\n",
    "## Activity 1 -  Function Practice\n"
   ]
  },
  {
   "cell_type": "markdown",
   "metadata": {},
   "source": [
    "### 1-A\n",
    "\n",
    "Create two functions:\n",
    "\n",
    "1. The first should be called \"multiply\".  It should take in a list as a parameter, then output the product of all numbers in that list.\n",
    "2. The second should be called \"addify\".  It should take in a list as a parameter, then output the sum of all numbers in that list.\n",
    "\n",
    "Use a \"doc string\" to create help documentation for your function.\n",
    "\n",
    "Sample Output:\n",
    "```python\n",
    "print(multiply([1,3,5,8]))\n",
    "print(addify([1,3,5,8]))\n",
    "120\n",
    "17\n",
    "```\n"
   ]
  },
  {
   "cell_type": "code",
   "execution_count": 3,
   "metadata": {
    "collapsed": false
   },
   "outputs": [],
   "source": [
    "def multiply(ListNum):\n",
    "    return ans\n",
    "\n",
    "def addify(ListNum):\n",
    "    return ans\n"
   ]
  },
  {
   "cell_type": "code",
   "execution_count": 4,
   "metadata": {
    "collapsed": false
   },
   "outputs": [
    {
     "name": "stdout",
     "output_type": "stream",
     "text": [
      "120\n",
      "18\n"
     ]
    }
   ],
   "source": [
    "print(multiply([1,3,5,8]))\n",
    "print(addify([1,3,5,8]))"
   ]
  },
  {
   "cell_type": "code",
   "execution_count": 5,
   "metadata": {
    "collapsed": false
   },
   "outputs": [
    {
     "name": "stdout",
     "output_type": "stream",
     "text": [
      "Help on function multiply in module __main__:\n",
      "\n",
      "multiply(ListNum)\n",
      "    sequentially mulitpies all items in the list\n",
      "\n"
     ]
    }
   ],
   "source": [
    "# This should call a useful message\n",
    "help(multiply)"
   ]
  },
  {
   "cell_type": "markdown",
   "metadata": {},
   "source": [
    "### 1-B\n",
    "Add a default parameter to your function, set to \"None\".  Update your functions so that you are given a custom message if the user forgets to enter an argument.\n",
    "\n",
    "```python\n",
    "print(multiply())\n",
    "print(addify())\n",
    "Please provide a list to multiply\n",
    "Please provide a list to add\n",
    "```"
   ]
  },
  {
   "cell_type": "code",
   "execution_count": 4,
   "metadata": {
    "collapsed": true
   },
   "outputs": [],
   "source": [
    "### Add default parameters to do something"
   ]
  },
  {
   "cell_type": "code",
   "execution_count": 5,
   "metadata": {
    "collapsed": false
   },
   "outputs": [
    {
     "name": "stdout",
     "output_type": "stream",
     "text": [
      "Please provide a list to multiply\n",
      "Please provide a list to add\n"
     ]
    }
   ],
   "source": []
  },
  {
   "cell_type": "markdown",
   "metadata": {},
   "source": [
    "### 1-C\n",
    "\n",
    "Great! Now for a fun trick.  As you learned in Async, functions are really just objects!  Prove this to yourself by printing the type of your functions.\n",
    "\n",
    "```python\n",
    "print(type(multiply))\n",
    "print(type(addify))\n",
    "<class 'function'>\n",
    "<class 'function'>\n",
    "```"
   ]
  },
  {
   "cell_type": "code",
   "execution_count": null,
   "metadata": {
    "collapsed": false
   },
   "outputs": [],
   "source": []
  },
  {
   "cell_type": "markdown",
   "metadata": {},
   "source": [
    "Because your functions are objects, they can serve as inputs to other functions!  Create a new function, called \"add_or_mult()\".  This function should take two parameters.\n",
    "1. The first parameter will be a function.  The argument you pass for the parameter will be either your multiply or your add function.\n",
    "2. The second parameter will be a list, to be used by the function you pass as an argument for the first parameter.\n",
    "\n",
    "If this is unclear, see the sample output below:\n",
    "```python\n",
    "add_or_mult(multiply, [1,3,5,8])\n",
    "120\n",
    "add_or_mult(addify, [1,3,5,8])\n",
    "17\n",
    "```"
   ]
  },
  {
   "cell_type": "code",
   "execution_count": 7,
   "metadata": {
    "collapsed": true
   },
   "outputs": [],
   "source": [
    "### Functions as Objects - Create a function that takes functions\n",
    "### Remember your Doc_String"
   ]
  },
  {
   "cell_type": "code",
   "execution_count": 8,
   "metadata": {
    "collapsed": false
   },
   "outputs": [
    {
     "data": {
      "text/plain": [
       "120"
      ]
     },
     "execution_count": 8,
     "metadata": {},
     "output_type": "execute_result"
    }
   ],
   "source": [
    "add_or_mult(multiply, [1,3,5,8])"
   ]
  },
  {
   "cell_type": "code",
   "execution_count": 9,
   "metadata": {
    "collapsed": false
   },
   "outputs": [
    {
     "data": {
      "text/plain": [
       "17"
      ]
     },
     "execution_count": 9,
     "metadata": {},
     "output_type": "execute_result"
    }
   ],
   "source": [
    "add_or_mult(addify, [1,3,5,8])"
   ]
  },
  {
   "cell_type": "markdown",
   "metadata": {},
   "source": [
    "### 1-D\n",
    "Show that you know how to call parameters \"out of order\" by including positional arguments in your function call.\n",
    "\n",
    "Call your \"add_or_mult\" function, but include the list as the first argument, and your function name as the second.  Do not modify any of your functions when completeing this step."
   ]
  },
  {
   "cell_type": "code",
   "execution_count": 2,
   "metadata": {
    "collapsed": false
   },
   "outputs": [],
   "source": [
    "### Use positional vs. non-positional arguments\n"
   ]
  },
  {
   "cell_type": "markdown",
   "metadata": {},
   "source": [
    "## Activity 2 - Adding Try/Except to Our Function\n",
    "\n",
    "For this set of problems, you will only modify your \"mutliply\" function from above.\n",
    "\n",
    "### 2-A\n",
    "\n",
    "Please add a \"try/except\" framework to your multiply function.  Your try/except should catch any error while attempting to iterate through an invalid object, then print the default Python error message. Make sure the code still works properly, too! For example:\n",
    "\n",
    "```python\n",
    "multiply(5)\n",
    "multiply(\"apple\")\n",
    "multiply()\n",
    "multiply(3.4)\n",
    "multiply([3, 6, 1, 3])\n",
    "\n",
    "'int' object is not iterable\n",
    "can't multiply sequence by non-int of type 'str'\n",
    "'NoneType' object is not iterable\n",
    "'float' object is not iterable\n",
    "54\n",
    "```"
   ]
  },
  {
   "cell_type": "code",
   "execution_count": 11,
   "metadata": {
    "collapsed": false
   },
   "outputs": [],
   "source": [
    "### Try and Except (and Raise)  Enter an Integer Into your program..\n"
   ]
  },
  {
   "cell_type": "code",
   "execution_count": 12,
   "metadata": {
    "collapsed": false
   },
   "outputs": [
    {
     "name": "stdout",
     "output_type": "stream",
     "text": [
      "'int' object is not iterable\n",
      "can't multiply sequence by non-int of type 'str'\n",
      "'NoneType' object is not iterable\n",
      "'float' object is not iterable\n"
     ]
    },
    {
     "data": {
      "text/plain": [
       "54"
      ]
     },
     "execution_count": 12,
     "metadata": {},
     "output_type": "execute_result"
    }
   ],
   "source": [
    "multiply(5)\n",
    "multiply(\"apple\")\n",
    "multiply()\n",
    "multiply(3.4)\n",
    "multiply([3, 6, 1, 3])"
   ]
  },
  {
   "cell_type": "markdown",
   "metadata": {},
   "source": [
    "### 2-B\n",
    "\n",
    "Now, we're going to provide some error messages of our own.  Update your \"except\" code to provide some more customized messages.  Specifically:\n",
    "1. If the user does not enter an argument, say \"Please provide a parameter!\"\n",
    "2. If the user provides an integer, tell them integers are invalid in your own words.\n",
    "3. If the user provides a string, tell them strings are invalid in your own words.\n",
    "4. Otherwise, print the default Python error.\n",
    "\n",
    "```python\n",
    "multiply(5)\n",
    "multiply(\"apple\")\n",
    "multiply()\n",
    "multiply(3.4)\n",
    "multiply([3, 6, 1, 3])\n",
    "\n",
    "Integers are invalid. Please provide a list!\n",
    "Strings are invalid. Please provide a list!\n",
    "Please provide a parameter!\n",
    "'float' object is not iterable\n",
    "54\n",
    "```"
   ]
  },
  {
   "cell_type": "code",
   "execution_count": 13,
   "metadata": {
    "collapsed": true
   },
   "outputs": [],
   "source": [
    "### Try and Except (and Raise)  Enter an Integer Into your program.."
   ]
  },
  {
   "cell_type": "code",
   "execution_count": 14,
   "metadata": {
    "collapsed": false
   },
   "outputs": [
    {
     "name": "stdout",
     "output_type": "stream",
     "text": [
      "Integers are invalid. Please provide a list!\n",
      "Strings are invalid. Please provide a list!\n",
      "Please provide a parameter!\n",
      "'float' object is not iterable\n"
     ]
    },
    {
     "data": {
      "text/plain": [
       "54"
      ]
     },
     "execution_count": 14,
     "metadata": {},
     "output_type": "execute_result"
    }
   ],
   "source": [
    "multiply(5)\n",
    "multiply(\"apple\")\n",
    "multiply()\n",
    "multiply(3.4)\n",
    "multiply([3, 6, 1, 3])"
   ]
  },
  {
   "cell_type": "markdown",
   "metadata": {},
   "source": [
    "### 2-C\n",
    "Finally, let's \"raise\" our own error.  Add some code to the \"try\" portion of your multiply program to raise a \"Product is too small!\" error if the resulting product is less than 25.\n",
    "\n",
    "```python\n",
    "multiply([1,4,3])\n",
    "multiply([1,4,3,7])\n",
    "\n",
    "Product too small!\n",
    "84\n",
    "```"
   ]
  },
  {
   "cell_type": "code",
   "execution_count": 5,
   "metadata": {
    "collapsed": true
   },
   "outputs": [],
   "source": [
    "### Try and Except (and Raise)  Enter an Integer Into your program.."
   ]
  },
  {
   "cell_type": "code",
   "execution_count": 8,
   "metadata": {
    "collapsed": false
   },
   "outputs": [
    {
     "data": {
      "text/plain": [
       "84"
      ]
     },
     "execution_count": 8,
     "metadata": {},
     "output_type": "execute_result"
    }
   ],
   "source": [
    "multiply([1,4,3])\n",
    "multiply([1,4,3,7])"
   ]
  },
  {
   "cell_type": "markdown",
   "metadata": {},
   "source": [
    "## Activity 3 - Namespace and The Stack!\n",
    "\n",
    "### 3-A Finding an Error in the Stack Trace\n",
    "Please analyze the stack trace below.  \n",
    "\n",
    "In what function has an error occured?  How do you know?"
   ]
  },
  {
   "cell_type": "code",
   "execution_count": 9,
   "metadata": {
    "collapsed": false
   },
   "outputs": [],
   "source": [
    "### The Stack -- Give an example of something wrong they need to fix.  Use the stack trace to find the issue.\n",
    "def function_1(parameter_1, parameter_2):\n",
    "    return(parameter_1 / parameter_2)\n",
    "\n",
    "def function_2(parameter_1, parameter_2):\n",
    "    res_1 = function_1(parameter_1, parameter_2)\n",
    "    return(res_1 * parameter_2)\n",
    "\n",
    "def function_3(parameter_1):\n",
    "    res_1 = function_2(parameter_1, parameter_1)\n",
    "    res_2 = function_1(parameter_1, parameter_1)\n",
    "    return(res_1 / res_2)\n",
    "\n",
    "def function_4(parameter_1, parameter_2):\n",
    "    res_1 = function_3(parameter_1)\n",
    "    res_2 = function_2(parameter_1, parameter_2)\n",
    "    apples = res_1 + res_2\n",
    "    return(apples)"
   ]
  },
  {
   "cell_type": "code",
   "execution_count": 18,
   "metadata": {
    "collapsed": false
   },
   "outputs": [
    {
     "data": {
      "text/plain": [
       "200.0"
      ]
     },
     "execution_count": 18,
     "metadata": {},
     "output_type": "execute_result"
    }
   ],
   "source": [
    "function_4(100, 3)"
   ]
  },
  {
   "cell_type": "code",
   "execution_count": 19,
   "metadata": {
    "collapsed": false
   },
   "outputs": [
    {
     "ename": "ZeroDivisionError",
     "evalue": "division by zero",
     "output_type": "error",
     "traceback": [
      "\u001b[1;31m---------------------------------------------------------------------------\u001b[0m",
      "\u001b[1;31mZeroDivisionError\u001b[0m                         Traceback (most recent call last)",
      "\u001b[1;32m<ipython-input-19-5162d4a6d460>\u001b[0m in \u001b[0;36m<module>\u001b[1;34m()\u001b[0m\n\u001b[1;32m----> 1\u001b[1;33m \u001b[0mfunction_4\u001b[0m\u001b[1;33m(\u001b[0m\u001b[1;36m100\u001b[0m\u001b[1;33m,\u001b[0m \u001b[1;36m0\u001b[0m\u001b[1;33m)\u001b[0m\u001b[1;33m\u001b[0m\u001b[0m\n\u001b[0m",
      "\u001b[1;32m<ipython-input-17-b9a5bc986b48>\u001b[0m in \u001b[0;36mfunction_4\u001b[1;34m(parameter_1, parameter_2)\u001b[0m\n\u001b[0;32m     14\u001b[0m \u001b[1;32mdef\u001b[0m \u001b[0mfunction_4\u001b[0m\u001b[1;33m(\u001b[0m\u001b[0mparameter_1\u001b[0m\u001b[1;33m,\u001b[0m \u001b[0mparameter_2\u001b[0m\u001b[1;33m)\u001b[0m\u001b[1;33m:\u001b[0m\u001b[1;33m\u001b[0m\u001b[0m\n\u001b[0;32m     15\u001b[0m     \u001b[0mres_1\u001b[0m \u001b[1;33m=\u001b[0m \u001b[0mfunction_3\u001b[0m\u001b[1;33m(\u001b[0m\u001b[0mparameter_1\u001b[0m\u001b[1;33m)\u001b[0m\u001b[1;33m\u001b[0m\u001b[0m\n\u001b[1;32m---> 16\u001b[1;33m     \u001b[0mres_2\u001b[0m \u001b[1;33m=\u001b[0m \u001b[0mfunction_2\u001b[0m\u001b[1;33m(\u001b[0m\u001b[0mparameter_1\u001b[0m\u001b[1;33m,\u001b[0m \u001b[0mparameter_2\u001b[0m\u001b[1;33m)\u001b[0m\u001b[1;33m\u001b[0m\u001b[0m\n\u001b[0m\u001b[0;32m     17\u001b[0m     \u001b[0mapples\u001b[0m \u001b[1;33m=\u001b[0m \u001b[0mres_1\u001b[0m \u001b[1;33m+\u001b[0m \u001b[0mres_2\u001b[0m\u001b[1;33m\u001b[0m\u001b[0m\n\u001b[0;32m     18\u001b[0m     \u001b[1;32mreturn\u001b[0m\u001b[1;33m(\u001b[0m\u001b[0mapples\u001b[0m\u001b[1;33m)\u001b[0m\u001b[1;33m\u001b[0m\u001b[0m\n",
      "\u001b[1;32m<ipython-input-17-b9a5bc986b48>\u001b[0m in \u001b[0;36mfunction_2\u001b[1;34m(parameter_1, parameter_2)\u001b[0m\n\u001b[0;32m      4\u001b[0m \u001b[1;33m\u001b[0m\u001b[0m\n\u001b[0;32m      5\u001b[0m \u001b[1;32mdef\u001b[0m \u001b[0mfunction_2\u001b[0m\u001b[1;33m(\u001b[0m\u001b[0mparameter_1\u001b[0m\u001b[1;33m,\u001b[0m \u001b[0mparameter_2\u001b[0m\u001b[1;33m)\u001b[0m\u001b[1;33m:\u001b[0m\u001b[1;33m\u001b[0m\u001b[0m\n\u001b[1;32m----> 6\u001b[1;33m     \u001b[0mres_1\u001b[0m \u001b[1;33m=\u001b[0m \u001b[0mfunction_1\u001b[0m\u001b[1;33m(\u001b[0m\u001b[0mparameter_1\u001b[0m\u001b[1;33m,\u001b[0m \u001b[0mparameter_2\u001b[0m\u001b[1;33m)\u001b[0m\u001b[1;33m\u001b[0m\u001b[0m\n\u001b[0m\u001b[0;32m      7\u001b[0m     \u001b[1;32mreturn\u001b[0m\u001b[1;33m(\u001b[0m\u001b[0mres_1\u001b[0m \u001b[1;33m*\u001b[0m \u001b[0mparameter_2\u001b[0m\u001b[1;33m)\u001b[0m\u001b[1;33m\u001b[0m\u001b[0m\n\u001b[0;32m      8\u001b[0m \u001b[1;33m\u001b[0m\u001b[0m\n",
      "\u001b[1;32m<ipython-input-17-b9a5bc986b48>\u001b[0m in \u001b[0;36mfunction_1\u001b[1;34m(parameter_1, parameter_2)\u001b[0m\n\u001b[0;32m      1\u001b[0m \u001b[1;31m### The Stack -- Give an example of something wrong they need to fix.  Use the stack trace to find the issue.\u001b[0m\u001b[1;33m\u001b[0m\u001b[1;33m\u001b[0m\u001b[0m\n\u001b[0;32m      2\u001b[0m \u001b[1;32mdef\u001b[0m \u001b[0mfunction_1\u001b[0m\u001b[1;33m(\u001b[0m\u001b[0mparameter_1\u001b[0m\u001b[1;33m,\u001b[0m \u001b[0mparameter_2\u001b[0m\u001b[1;33m)\u001b[0m\u001b[1;33m:\u001b[0m\u001b[1;33m\u001b[0m\u001b[0m\n\u001b[1;32m----> 3\u001b[1;33m     \u001b[1;32mreturn\u001b[0m\u001b[1;33m(\u001b[0m\u001b[0mparameter_1\u001b[0m \u001b[1;33m/\u001b[0m \u001b[0mparameter_2\u001b[0m\u001b[1;33m)\u001b[0m\u001b[1;33m\u001b[0m\u001b[0m\n\u001b[0m\u001b[0;32m      4\u001b[0m \u001b[1;33m\u001b[0m\u001b[0m\n\u001b[0;32m      5\u001b[0m \u001b[1;32mdef\u001b[0m \u001b[0mfunction_2\u001b[0m\u001b[1;33m(\u001b[0m\u001b[0mparameter_1\u001b[0m\u001b[1;33m,\u001b[0m \u001b[0mparameter_2\u001b[0m\u001b[1;33m)\u001b[0m\u001b[1;33m:\u001b[0m\u001b[1;33m\u001b[0m\u001b[0m\n",
      "\u001b[1;31mZeroDivisionError\u001b[0m: division by zero"
     ]
    }
   ],
   "source": [
    "function_4(100, 0)"
   ]
  },
  {
   "cell_type": "markdown",
   "metadata": {},
   "source": [
    "### 3-B\n",
    "\n",
    "What functions ran successfully before the error occured?  Talk your group through the stack trace from top to bottom to explain it."
   ]
  },
  {
   "cell_type": "markdown",
   "metadata": {},
   "source": [
    "## Activity 4 - Bonus in Lamdba Function\n",
    "\n",
    "### 4-A\n",
    "\n",
    "Write a lambda function that cubes a single number\n",
    "\n",
    "```python\n",
    "imma_function(4)\n",
    "64\n",
    "```"
   ]
  },
  {
   "cell_type": "code",
   "execution_count": 20,
   "metadata": {
    "collapsed": false
   },
   "outputs": [],
   "source": [
    "imma_function ..."
   ]
  },
  {
   "cell_type": "code",
   "execution_count": 21,
   "metadata": {
    "collapsed": false
   },
   "outputs": [
    {
     "data": {
      "text/plain": [
       "64"
      ]
     },
     "execution_count": 21,
     "metadata": {},
     "output_type": "execute_result"
    }
   ],
   "source": [
    "imma_function(4)"
   ]
  },
  {
   "cell_type": "markdown",
   "metadata": {},
   "source": [
    "### 4-B\n",
    "\n",
    "Write a lambda function that cubes a list of numbers\n",
    "\n",
    "```python\n",
    "imma_notherfunction(range(1,10))\n",
    "[1, 8, 27, 64, 125, 216, 343, 512, 729]\n",
    "```"
   ]
  },
  {
   "cell_type": "code",
   "execution_count": 22,
   "metadata": {
    "collapsed": true
   },
   "outputs": [],
   "source": []
  },
  {
   "cell_type": "code",
   "execution_count": 23,
   "metadata": {
    "collapsed": false
   },
   "outputs": [
    {
     "data": {
      "text/plain": [
       "[1, 8, 27, 64, 125, 216, 343, 512, 729]"
      ]
     },
     "execution_count": 23,
     "metadata": {},
     "output_type": "execute_result"
    }
   ],
   "source": []
  },
  {
   "cell_type": "code",
   "execution_count": 21,
   "metadata": {
    "collapsed": false
   },
   "outputs": [],
   "source": [
    "def add_total(order_list=[]):\n",
    "    total=sum([quantity for name, quantity in order_list])\n",
    "    order_list.append((\"Total\", total))\n",
    "    print(order_list)"
   ]
  },
  {
   "cell_type": "code",
   "execution_count": 24,
   "metadata": {
    "collapsed": false
   },
   "outputs": [
    {
     "name": "stdout",
     "output_type": "stream",
     "text": [
      "[('Total', 0), ('Total', 0), ('Total', 0)]\n"
     ]
    }
   ],
   "source": [
    "add_total()"
   ]
  },
  {
   "cell_type": "code",
   "execution_count": null,
   "metadata": {
    "collapsed": false
   },
   "outputs": [],
   "source": []
  },
  {
   "cell_type": "code",
   "execution_count": null,
   "metadata": {
    "collapsed": true
   },
   "outputs": [],
   "source": []
  },
  {
   "cell_type": "code",
   "execution_count": null,
   "metadata": {
    "collapsed": true
   },
   "outputs": [],
   "source": []
  }
 ],
 "metadata": {
  "anaconda-cloud": {},
  "kernelspec": {
   "display_name": "Python 3",
   "language": "python",
   "name": "python3"
  },
  "language_info": {
   "codemirror_mode": {
    "name": "ipython",
    "version": 3
   },
   "file_extension": ".py",
   "mimetype": "text/x-python",
   "name": "python",
   "nbconvert_exporter": "python",
   "pygments_lexer": "ipython3",
   "version": "3.5.2"
  }
 },
 "nbformat": 4,
 "nbformat_minor": 0
}
