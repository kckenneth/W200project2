{
 "cells": [
  {
   "cell_type": "markdown",
   "metadata": {},
   "source": [
    "## Week 5 Assignment - W200 MIDS Python _NEEDS UPDATE"
   ]
  },
  {
   "cell_type": "markdown",
   "metadata": {},
   "source": [
    "Write code in this Jupyter Notebook to solve each of the following problems. Each problem should have its solution in a separate cell. Please upload this Notebook with your solutions to your GitHub repository in your week_5 folder by the midnight before class."
   ]
  },
  {
   "cell_type": "markdown",
   "metadata": {},
   "source": [
    "## Part 1 - Function Exercises\n",
    "\n",
    "### 5-1-1 Nested (\"Wrapped\") Functions\n",
    "** The ultimate purpose of this algorithm is to distil a number series into a single number by sequential summation make sure your final function  gets to a single number regardless of the sign of the input! Hint: Lets say that magnitude is important but sign is irrelevant. **\n",
    "\n",
    "Write a function, `sum_digits`, which takes an `int` and returns the sum of its digits.\n",
    "\n",
    "Write another function that \"wraps\" `sum_digits` in that it calls `sum_digits` from within it. Call this function `diff_sum_digits`. Use that function to compute the (positve value) input number minus the sum of digits of input number.\n",
    "\n",
    "Write another function that \"wraps\" `diff_sum_digits`. If `diff_sum_digits` returns a result that has more than one digit (either negative or positive) have it replace it with the sum of the digits of the result. Do this repeatedly until the result has just one digit, then display it.\n",
    "\n",
    "Below you'll find an example of what we mean when we say \"wraps\" - this is not a decorator function or anything like that, just a function that calls another function inside of it."
   ]
  },
  {
   "cell_type": "code",
   "execution_count": 1,
   "metadata": {
    "scrolled": true
   },
   "outputs": [
    {
     "name": "stdout",
     "output_type": "stream",
     "text": [
      "-5\n",
      "trivial example\n"
     ]
    }
   ],
   "source": [
    "def sum_digits()\n",
    "    pass \n",
    "\n",
    "def example_base_func(x):\n",
    "    \"Returns the value of the input * -1\"\n",
    "    return -1 * x\n",
    "\n",
    "def wraps_example_base_func(x):\n",
    "    temp_val = example_base_func(x)\n",
    "    if temp_val < 0:\n",
    "        return \"trivial example\"\n",
    "    \n",
    "print(example_base_func(5))\n",
    "print(wraps_example_base_func(5))"
   ]
  },
  {
   "cell_type": "markdown",
   "metadata": {},
   "source": [
    "# Example input/output\n",
    "\n",
    "```\n",
    "print(sum_digits(54321))\n",
    "print(sum_digits(-54321))\n",
    "print(diff_sum_digits(54321))\n",
    "print(diff_sum_digits(-54321))\n",
    "print('final value: ' + str(wraps_diff_sum_digits(54321)))\n",
    "print('final value: ' + str(wraps_diff_sum_digits(-54321)))\n",
    "```\n",
    "\n",
    "```\n",
    "15\n",
    "15\n",
    "54306\n",
    "54306\n",
    "final value: 9\n",
    "final value: 9\n",
    "```"
   ]
  },
  {
   "cell_type": "code",
   "execution_count": 18,
   "metadata": {
    "collapsed": true
   },
   "outputs": [],
   "source": [
    "### [W18 instructors]\n",
    "\n",
    "def sum_digits(num):\n",
    "    numstr=str(abs(num))\n",
    "    SumDig=0\n",
    "    for item in numstr:\n",
    "        SumDig=SumDig+int(item)\n",
    "    return SumDig\n",
    "\n",
    "def diff_sum_digits(x): \n",
    "    \"\"\"Returns the value of the input - the sum of the input\"\"\"\n",
    "    #print (x)\n",
    "    #print (sum_digits(x))\n",
    "    return  abs(x) - sum_digits(x)\n",
    "\n",
    "def wraps_diff_sum_digits(x):\n",
    "    temp_val = diff_sum_digits(x)\n",
    "    while len(str(temp_val)) > 1:\n",
    "        #print (str(temp_val), end= \" \")\n",
    "        temp_val=(diff_sum_digits(temp_val))\n",
    "    return temp_val"
   ]
  },
  {
   "cell_type": "code",
   "execution_count": 20,
   "metadata": {},
   "outputs": [
    {
     "name": "stdout",
     "output_type": "stream",
     "text": [
      "15\n",
      "15\n",
      "54306\n",
      "54306\n",
      "final value: 9\n",
      "final value: 9\n"
     ]
    }
   ],
   "source": [
    "print(sum_digits(54321))\n",
    "print(sum_digits(-54321))\n",
    "print(diff_sum_digits(54321))\n",
    "print(diff_sum_digits(-54321))\n",
    "print('final value: ' + str(wraps_diff_sum_digits(54321)))\n",
    "print('final value: ' + str(wraps_diff_sum_digits(-54321)))"
   ]
  },
  {
   "cell_type": "markdown",
   "metadata": {},
   "source": [
    "### 5-1-2 Pigs, Continued\n",
    "\n",
    "Write a function `is_consonant` that takes a character and returns `True` if it is a consonant.\n",
    "\n",
    "Use your function to create a new fuction `to_piglatin` that takes a word, moves all starting consonants to the end of the word, then adds *ay* to the end and returns the result. You may expect that the the input will be just one word.\n",
    "\n"
   ]
  },
  {
   "cell_type": "code",
   "execution_count": 5,
   "metadata": {},
   "outputs": [
    {
     "name": "stdout",
     "output_type": "stream",
     "text": [
      "aystay\n",
      "aredJay\n",
      "anday\n",
      "arcay\n"
     ]
    }
   ],
   "source": [
    "### [W18 instructors]\n",
    "\n",
    "def is_consonant(letter):\n",
    "    return letter not in 'aeiou'\n",
    "\n",
    "def to_piglatin(word):\n",
    "    cons=True # at the first vowel cut the word \n",
    "    count=0 \n",
    "    while is_consonant(word[count]):\n",
    "        count+=1\n",
    "        # walk through the word until you find something that is not a consonant\n",
    "    print(word[count:]+word[:count]+ 'ay')\n",
    "\n",
    "to_piglatin('stay')  # this one is interesting \n",
    "to_piglatin('Jared')   \n",
    "to_piglatin('and')   \n",
    "to_piglatin('car')  \n",
    "    "
   ]
  },
  {
   "cell_type": "markdown",
   "metadata": {},
   "source": [
    "*Extra Credit: Have this function check whether or not the input is multiple words and return the whole sentence in pig latin. For this you may assume that a sentence always ends with a period and is always one sentence, never more than one.*"
   ]
  },
  {
   "cell_type": "code",
   "execution_count": 10,
   "metadata": {},
   "outputs": [
    {
     "name": "stdout",
     "output_type": "stream",
     "text": [
      "Aystay unedtay unedtay olksfay.\n",
      "Aredjay\n"
     ]
    }
   ],
   "source": [
    "### [W18 instructors]\n",
    "\n",
    "def to_piglatin(snippet):\n",
    "    snippet=snippet.replace(\".\", \"\").lower()\n",
    "    SplitS=str.split(snippet, \" \")\n",
    "    for n in range(len(SplitS)): #cycle through list items and replace each with pig latin\n",
    "        word=SplitS[n]\n",
    "        count=0 #start at the beginning \n",
    "        cons=True # boleen flag, at the first vowel cut the word    \n",
    "        #print(word)\n",
    "        while is_consonant(word[count]): #Cycle until you find a non-consonant\n",
    "            count+=1\n",
    "        SplitS[n]=(word[count:]+word[:count]+ 'ay') #print the pig latin\n",
    "    #print(SplitS)\n",
    "    if len(SplitS) > 1: \n",
    "        print(\" \".join(SplitS).capitalize()+'.')\n",
    "    else:\n",
    "        print(SplitS[0].capitalize())\n",
    "    \n",
    "to_piglatin('stay tuned tuned folks.')  \n",
    "to_piglatin('Jared')  \n"
   ]
  },
  {
   "cell_type": "markdown",
   "metadata": {},
   "source": [
    "## Part 2 - Namespace Exercise\n",
    "\n",
    "### 5-2-1 Process Order\n",
    "\n",
    "The following script defines a list of customer orders.  Each item in the list is a tuple containing the name of the item, the number requested, and the price per item.\n",
    "\n",
    "Fill in just the `process_order` function below without changing any other code. This function should remove one of the elements of the order list and print a nice message about it. Finally, make sure that the final print statement correctly displays the total price for the entire list."
   ]
  },
  {
   "cell_type": "code",
   "execution_count": 12,
   "metadata": {
    "scrolled": true
   },
   "outputs": [
    {
     "name": "stdout",
     "output_type": "stream",
     "text": [
      "You filled an order for 1 antacid for a total of $5.33\n",
      "You filled an order for 3 sour bites for a total of $6.99\n",
      "You filled an order for 1 gummy bears for a total of $1.99\n",
      "You filled an order for 4 oranges for a total of $12.88\n",
      "total price:  27.19\n"
     ]
    }
   ],
   "source": [
    "### [W18 instructors]\n",
    "# note the problem just requires that you process a shopping list, there is no inventory.\n",
    "\n",
    "total = 0\n",
    "\n",
    "def process_order(x_list):\n",
    "    global total\n",
    "    order=x.pop()\n",
    "    price=order[1] * order[2]\n",
    "    total=total+(price)\n",
    "    print ('You filled an order for '+ str(order[1])+ ' ' + order[0] + \" for a total of $\" + str(price))\n",
    "    return (x_list)\n",
    "\n",
    "\n",
    "x = [(\"oranges\", 4, 3.22),(\"gummy bears\",1,1.99),(\"sour bites\", 3, 2.33), (\"antacid\", 1, 5.33)]\n",
    "while(len(x)>0):\n",
    "    process_order(x)\n",
    "print(\"total price: \", total)"
   ]
  },
  {
   "cell_type": "markdown",
   "metadata": {},
   "source": [
    "## Part 3 - Functions as Objects\n",
    "\n",
    "### 5-3-1 A Flexible \"Scoring\" Function\n",
    "\n",
    "The following code defines a list of names and also contains a header for the function `best`.  This function should take two arguments: a function, `score`, and a list of strings, `names`.  Fill in the function so that it applies the `score` function to each string in `names` and returns the one with the highest score. If there are ties in the list, your function should return the first item with the maximum score.\n",
    "\n",
    "Hint - it may help to define a simple \"score\" function as a placeholder while you troubleshoot."
   ]
  },
  {
   "cell_type": "code",
   "execution_count": 8,
   "metadata": {
    "scrolled": true
   },
   "outputs": [
    {
     "name": "stdout",
     "output_type": "stream",
     "text": [
      "McJagger has the longest name\n"
     ]
    }
   ],
   "source": [
    "### [W18 instructors]\n",
    "\n",
    "def LengthScore(item):\n",
    "    score_val = len(item)\n",
    "    return (score_val) #### addition\n",
    "\n",
    "def best(score, names):\n",
    "    scoreLs = [score(x) for x in names]\n",
    "    return names[scoreLs.index(max(scoreLs))]\n",
    "\n",
    "names = [\"Ben\", \"April\", \"Zaber\", \"Alexis\", \"McJagger\", \"J.J.\", \"Madonna\"]\n",
    "print (best(LengthScore, names) + ' has the longest name')"
   ]
  },
  {
   "cell_type": "markdown",
   "metadata": {},
   "source": [
    "### 5-3-2 Using Our Flexible Function\n",
    "\n",
    "Define a function, `number_of_vowels`, that returns the number of vowels in a string.  Use it with your `best` function to find the name in `names` with the most vowels.\n",
    "\n",
    "Next, pass a `lambda` function into your `best` function to find the name in `names` with the highest number of a's."
   ]
  },
  {
   "cell_type": "code",
   "execution_count": 9,
   "metadata": {},
   "outputs": [
    {
     "name": "stdout",
     "output_type": "stream",
     "text": [
      "Alexis has the most vowels\n",
      "Madonna has the most As\n"
     ]
    }
   ],
   "source": [
    "### [W18 instructors]\n",
    "\n",
    "def number_of_vowels(item):\n",
    "    ct=0\n",
    "    for letter in item:\n",
    "        if letter.lower() in 'aeiou':\n",
    "            ct+=1\n",
    "    return ct\n",
    "   \n",
    "print (str(best(number_of_vowels, names)) + ' has the most vowels')\n"
   ]
  },
  {
   "cell_type": "code",
   "execution_count": 19,
   "metadata": {},
   "outputs": [
    {
     "name": "stdout",
     "output_type": "stream",
     "text": [
      "Madonna has the most As\n"
     ]
    }
   ],
   "source": [
    "mostAs = best(lambda x: x.lower().count(\"a\"), names)\n",
    "print (str(mostAs) + ' has the most As')    "
   ]
  },
  {
   "cell_type": "code",
   "execution_count": 20,
   "metadata": {},
   "outputs": [
    {
     "data": {
      "text/plain": [
       "['a', 'e', 'i', 'o', 'u']"
      ]
     },
     "execution_count": 20,
     "metadata": {},
     "output_type": "execute_result"
    }
   ],
   "source": [
    "# bonus make a vowel counter with lambda\n",
    "# proof of principle\n",
    "\n",
    "[ltr for ltr in \"aeiXXouXX\" if ltr in \"aeiou\"]"
   ]
  },
  {
   "cell_type": "code",
   "execution_count": 21,
   "metadata": {},
   "outputs": [
    {
     "name": "stdout",
     "output_type": "stream",
     "text": [
      "Madonna has the most vowels\n"
     ]
    }
   ],
   "source": [
    "## bonus\n",
    "MostVowels = best(lambda Wrd: len([ltr for ltr in Wrd if ltr in \"aeiou\"]), names)\n",
    "print (str(MostVowels) + ' has the most vowels')    \n"
   ]
  },
  {
   "cell_type": "markdown",
   "metadata": {},
   "source": [
    "## Part 4 - Recursion Basics\n",
    "\n",
    "### 5-4-1 Computing Fibonacci Numbers\n",
    "\n",
    "You are probably familiar with the famous Fibonacci sequence of numbers, which begins like this:\n",
    "```\n",
    "1, 1, 2, 3, 5, 8, 13, 21...\n",
    "```\n",
    "We'll index from 0, so the 0th and 1st numbers are both 1.  The 2nd Fibonacci number is found by summing the 0th and 1st: 1 + 1 = 2.  The 3rd is found by summing the 1st and 2nd: 1 + 2 = 3.  After this point, each Fibonacci number is found by summing the previous 2.\n",
    "\n",
    "You are to write a recursive function to compute the nth Fibonacci number.  This means that your function will call itself and will not include explicit loops.\n",
    "\n",
    "Hint: As with the Factorial example, your function should include a line that looks a lot like the mathematical definition of the nth Fibonacci number.\n",
    "\n",
    "Another Hint: It's possible for a recursive function to call itself more than once.\n",
    "\n",
    "Once you are done, think about whether your function is efficient.  Compare it to a non-recursive implementation."
   ]
  },
  {
   "cell_type": "code",
   "execution_count": 6,
   "metadata": {
    "collapsed": true
   },
   "outputs": [],
   "source": [
    "n=5\n",
    "def Fibonacci(n):\n",
    "    if n <=1:\n",
    "        return 1\n",
    "        numLs=[]\n",
    "    else:         \n",
    "        return Fibonacci(n-1) + Fibinacci(n-2)\n",
    "\n",
    "#1 + 1     n=0\n",
    "#1 + 2     n=1\n",
    "#2 + 3     n=2\n",
    "#3 + 5     n=3\n",
    "#5 + 8     n=4\n",
    "#1,1,2,3,5,8,13,21,34"
   ]
  },
  {
   "cell_type": "code",
   "execution_count": 4,
   "metadata": {},
   "outputs": [
    {
     "data": {
      "text/plain": [
       "34"
      ]
     },
     "execution_count": 4,
     "metadata": {},
     "output_type": "execute_result"
    }
   ],
   "source": [
    "def Fibonacci(n):\n",
    "    \"\"\"this computes n+1 value\"\"\"\n",
    "    if n <= 1:\n",
    "        return 1\n",
    "    return Fibonacci(n - 1) + Fibonacci(n - 2)\n",
    "\n",
    "Fibonacci(8)"
   ]
  },
  {
   "cell_type": "markdown",
   "metadata": {},
   "source": [
    "## Part 5 - Exceptions Exercises\n",
    "\n",
    "### 5-4-1 Refactoring for Exceptions\n",
    "Refactor this code that attempts to compute a reciprocal so that it keeps prompting the user for a number repeatedly until the user successfully enters a valid number.  If the user enters 0, the program should print that zero does not have a reciprocal, then terminate."
   ]
  },
  {
   "cell_type": "code",
   "execution_count": 14,
   "metadata": {
    "scrolled": true
   },
   "outputs": [
    {
     "name": "stdout",
     "output_type": "stream",
     "text": [
      "Enter a number: 0\n",
      "Zero does not have a reciprocal\n"
     ]
    }
   ],
   "source": [
    "### [Please put your name here]\n",
    "\n",
    "valid=False\n",
    "while valid == False:\n",
    "    try:\n",
    "        x = float(input(\"Enter a number: \"))\n",
    "        print(\"The reciprocal of your number is\", 1/x)\n",
    "        break\n",
    "    except ValueError:\n",
    "        print(\"You did not enter a valid number.\")\n",
    "    except ZeroDivisionError:\n",
    "        print(\"Zero does not have a reciprocal\")\n",
    "        break\n",
    "    except:\n",
    "        print(\"something else went wrong.\")\n",
    "        "
   ]
  },
  {
   "cell_type": "markdown",
   "metadata": {},
   "source": [
    "### 5-4-2 Raising Custom Exceptions\n",
    "\n",
    "Write a function that takes a list of grades and a corresponding list of percentages and returns the weighted average of the grades.  Your function should raise an exception if a percentage is less than 0 or greater than 100, and a different exception if the weights do not add to 100.\n",
    "\n",
    "Run your function on `grades1` with `weights1` and `grades2` with `weights2`, defined below.  Catch the errors generated in each case and print a useful message for the user."
   ]
  },
  {
   "cell_type": "code",
   "execution_count": 1,
   "metadata": {
    "collapsed": true,
    "scrolled": true
   },
   "outputs": [],
   "source": [
    "### [W18 instructors]\n",
    "\n",
    "def weighted_avg(gd, wt):\n",
    "    \n",
    "    # check that there are matching elements before doing the calculation\n",
    "    if len(gd) != len(wt):\n",
    "        print (gd)\n",
    "        print (wt)\n",
    "        raise Exception ('grade and weight list length mismatch')\n",
    "    else:\n",
    "        WtGd=[(gd[i]*.01)*(wt[i]*.01) for i in range(len(gd))]\n",
    "    \n",
    "    # Now check for math errors\n",
    "    if max(WtGd)>1 or min(WtGd)<0 : \n",
    "        print (WtGd)\n",
    "        raise Exception ('there is a grade out of 0-100 range')\n",
    "    elif sum(wt) != 100:\n",
    "        print ('there are ' + str(sum(wt)) + ' points accounted for')\n",
    "        raise Exception (' weights do not add to 100')\n",
    "    else:  \n",
    "        print(WtGd)\n",
    "        print ('your weighted grade is: ' + str(sum(WtGd)*100))\n",
    "\n",
    "grades1 = [88,99,100,70]\n",
    "weights1 = [30, 30, 30, 5]\n",
    "\n",
    "grades2 = [78, 75, 80, 99]\n",
    "weights2 = [110, 10]\n",
    "\n",
    "grades3 = [78, 75, 80, 99]\n",
    "weights3 = [110, 10, -20, 30]\n",
    "\n",
    "grades4 = [100, 80, 90, 75]\n",
    "weights4 = [20, 25, 25, 30]"
   ]
  },
  {
   "cell_type": "code",
   "execution_count": 2,
   "metadata": {},
   "outputs": [
    {
     "name": "stdout",
     "output_type": "stream",
     "text": [
      "there are 95 points accounted for\n"
     ]
    },
    {
     "ename": "Exception",
     "evalue": " weights do not add to 100",
     "output_type": "error",
     "traceback": [
      "\u001b[0;31m---------------------------------------------------------------------------\u001b[0m",
      "\u001b[0;31mException\u001b[0m                                 Traceback (most recent call last)",
      "\u001b[0;32m<ipython-input-2-d28fda890554>\u001b[0m in \u001b[0;36m<module>\u001b[0;34m()\u001b[0m\n\u001b[0;32m----> 1\u001b[0;31m \u001b[0mweighted_avg\u001b[0m\u001b[0;34m(\u001b[0m\u001b[0mgrades1\u001b[0m\u001b[0;34m,\u001b[0m \u001b[0mweights1\u001b[0m\u001b[0;34m)\u001b[0m\u001b[0;34m\u001b[0m\u001b[0m\n\u001b[0m",
      "\u001b[0;32m<ipython-input-1-5f13e1bb3ed8>\u001b[0m in \u001b[0;36mweighted_avg\u001b[0;34m(gd, wt)\u001b[0m\n\u001b[1;32m     17\u001b[0m     \u001b[0;32melif\u001b[0m \u001b[0msum\u001b[0m\u001b[0;34m(\u001b[0m\u001b[0mwt\u001b[0m\u001b[0;34m)\u001b[0m \u001b[0;34m!=\u001b[0m \u001b[0;36m100\u001b[0m\u001b[0;34m:\u001b[0m\u001b[0;34m\u001b[0m\u001b[0m\n\u001b[1;32m     18\u001b[0m         \u001b[0mprint\u001b[0m \u001b[0;34m(\u001b[0m\u001b[0;34m'there are '\u001b[0m \u001b[0;34m+\u001b[0m \u001b[0mstr\u001b[0m\u001b[0;34m(\u001b[0m\u001b[0msum\u001b[0m\u001b[0;34m(\u001b[0m\u001b[0mwt\u001b[0m\u001b[0;34m)\u001b[0m\u001b[0;34m)\u001b[0m \u001b[0;34m+\u001b[0m \u001b[0;34m' points accounted for'\u001b[0m\u001b[0;34m)\u001b[0m\u001b[0;34m\u001b[0m\u001b[0m\n\u001b[0;32m---> 19\u001b[0;31m         \u001b[0;32mraise\u001b[0m \u001b[0mException\u001b[0m \u001b[0;34m(\u001b[0m\u001b[0;34m' weights do not add to 100'\u001b[0m\u001b[0;34m)\u001b[0m\u001b[0;34m\u001b[0m\u001b[0m\n\u001b[0m\u001b[1;32m     20\u001b[0m     \u001b[0;32melse\u001b[0m\u001b[0;34m:\u001b[0m\u001b[0;34m\u001b[0m\u001b[0m\n\u001b[1;32m     21\u001b[0m         \u001b[0mprint\u001b[0m\u001b[0;34m(\u001b[0m\u001b[0mWtGd\u001b[0m\u001b[0;34m)\u001b[0m\u001b[0;34m\u001b[0m\u001b[0m\n",
      "\u001b[0;31mException\u001b[0m:  weights do not add to 100"
     ]
    }
   ],
   "source": [
    "weighted_avg(grades1, weights1)"
   ]
  },
  {
   "cell_type": "code",
   "execution_count": 3,
   "metadata": {},
   "outputs": [
    {
     "name": "stdout",
     "output_type": "stream",
     "text": [
      "[78, 75, 80, 99]\n",
      "[110, 10]\n"
     ]
    },
    {
     "ename": "Exception",
     "evalue": "grade and weight list length mismatch",
     "output_type": "error",
     "traceback": [
      "\u001b[0;31m---------------------------------------------------------------------------\u001b[0m",
      "\u001b[0;31mException\u001b[0m                                 Traceback (most recent call last)",
      "\u001b[0;32m<ipython-input-3-037714d2bce9>\u001b[0m in \u001b[0;36m<module>\u001b[0;34m()\u001b[0m\n\u001b[0;32m----> 1\u001b[0;31m \u001b[0mweighted_avg\u001b[0m\u001b[0;34m(\u001b[0m\u001b[0mgrades2\u001b[0m\u001b[0;34m,\u001b[0m \u001b[0mweights2\u001b[0m\u001b[0;34m)\u001b[0m\u001b[0;34m\u001b[0m\u001b[0m\n\u001b[0m",
      "\u001b[0;32m<ipython-input-1-5f13e1bb3ed8>\u001b[0m in \u001b[0;36mweighted_avg\u001b[0;34m(gd, wt)\u001b[0m\n\u001b[1;32m      7\u001b[0m         \u001b[0mprint\u001b[0m \u001b[0;34m(\u001b[0m\u001b[0mgd\u001b[0m\u001b[0;34m)\u001b[0m\u001b[0;34m\u001b[0m\u001b[0m\n\u001b[1;32m      8\u001b[0m         \u001b[0mprint\u001b[0m \u001b[0;34m(\u001b[0m\u001b[0mwt\u001b[0m\u001b[0;34m)\u001b[0m\u001b[0;34m\u001b[0m\u001b[0m\n\u001b[0;32m----> 9\u001b[0;31m         \u001b[0;32mraise\u001b[0m \u001b[0mException\u001b[0m \u001b[0;34m(\u001b[0m\u001b[0;34m'grade and weight list length mismatch'\u001b[0m\u001b[0;34m)\u001b[0m\u001b[0;34m\u001b[0m\u001b[0m\n\u001b[0m\u001b[1;32m     10\u001b[0m     \u001b[0;32melse\u001b[0m\u001b[0;34m:\u001b[0m\u001b[0;34m\u001b[0m\u001b[0m\n\u001b[1;32m     11\u001b[0m         \u001b[0mWtGd\u001b[0m\u001b[0;34m=\u001b[0m\u001b[0;34m[\u001b[0m\u001b[0;34m(\u001b[0m\u001b[0mgd\u001b[0m\u001b[0;34m[\u001b[0m\u001b[0mi\u001b[0m\u001b[0;34m]\u001b[0m\u001b[0;34m*\u001b[0m\u001b[0;36m.01\u001b[0m\u001b[0;34m)\u001b[0m\u001b[0;34m*\u001b[0m\u001b[0;34m(\u001b[0m\u001b[0mwt\u001b[0m\u001b[0;34m[\u001b[0m\u001b[0mi\u001b[0m\u001b[0;34m]\u001b[0m\u001b[0;34m*\u001b[0m\u001b[0;36m.01\u001b[0m\u001b[0;34m)\u001b[0m \u001b[0;32mfor\u001b[0m \u001b[0mi\u001b[0m \u001b[0;32min\u001b[0m \u001b[0mrange\u001b[0m\u001b[0;34m(\u001b[0m\u001b[0mlen\u001b[0m\u001b[0;34m(\u001b[0m\u001b[0mgd\u001b[0m\u001b[0;34m)\u001b[0m\u001b[0;34m)\u001b[0m\u001b[0;34m]\u001b[0m\u001b[0;34m\u001b[0m\u001b[0m\n",
      "\u001b[0;31mException\u001b[0m: grade and weight list length mismatch"
     ]
    }
   ],
   "source": [
    "weighted_avg(grades2, weights2)"
   ]
  },
  {
   "cell_type": "code",
   "execution_count": 4,
   "metadata": {},
   "outputs": [
    {
     "name": "stdout",
     "output_type": "stream",
     "text": [
      "[0.8580000000000001, 0.07500000000000001, -0.16000000000000003, 0.297]\n"
     ]
    },
    {
     "ename": "Exception",
     "evalue": "there is a grade out of 0-100 range",
     "output_type": "error",
     "traceback": [
      "\u001b[0;31m---------------------------------------------------------------------------\u001b[0m",
      "\u001b[0;31mException\u001b[0m                                 Traceback (most recent call last)",
      "\u001b[0;32m<ipython-input-4-89a3a31ce619>\u001b[0m in \u001b[0;36m<module>\u001b[0;34m()\u001b[0m\n\u001b[0;32m----> 1\u001b[0;31m \u001b[0mweighted_avg\u001b[0m\u001b[0;34m(\u001b[0m\u001b[0mgrades3\u001b[0m\u001b[0;34m,\u001b[0m \u001b[0mweights3\u001b[0m\u001b[0;34m)\u001b[0m\u001b[0;34m\u001b[0m\u001b[0m\n\u001b[0m",
      "\u001b[0;32m<ipython-input-1-5f13e1bb3ed8>\u001b[0m in \u001b[0;36mweighted_avg\u001b[0;34m(gd, wt)\u001b[0m\n\u001b[1;32m     14\u001b[0m     \u001b[0;32mif\u001b[0m \u001b[0mmax\u001b[0m\u001b[0;34m(\u001b[0m\u001b[0mWtGd\u001b[0m\u001b[0;34m)\u001b[0m\u001b[0;34m>\u001b[0m\u001b[0;36m1\u001b[0m \u001b[0;32mor\u001b[0m \u001b[0mmin\u001b[0m\u001b[0;34m(\u001b[0m\u001b[0mWtGd\u001b[0m\u001b[0;34m)\u001b[0m\u001b[0;34m<\u001b[0m\u001b[0;36m0\u001b[0m \u001b[0;34m:\u001b[0m\u001b[0;34m\u001b[0m\u001b[0m\n\u001b[1;32m     15\u001b[0m         \u001b[0mprint\u001b[0m \u001b[0;34m(\u001b[0m\u001b[0mWtGd\u001b[0m\u001b[0;34m)\u001b[0m\u001b[0;34m\u001b[0m\u001b[0m\n\u001b[0;32m---> 16\u001b[0;31m         \u001b[0;32mraise\u001b[0m \u001b[0mException\u001b[0m \u001b[0;34m(\u001b[0m\u001b[0;34m'there is a grade out of 0-100 range'\u001b[0m\u001b[0;34m)\u001b[0m\u001b[0;34m\u001b[0m\u001b[0m\n\u001b[0m\u001b[1;32m     17\u001b[0m     \u001b[0;32melif\u001b[0m \u001b[0msum\u001b[0m\u001b[0;34m(\u001b[0m\u001b[0mwt\u001b[0m\u001b[0;34m)\u001b[0m \u001b[0;34m!=\u001b[0m \u001b[0;36m100\u001b[0m\u001b[0;34m:\u001b[0m\u001b[0;34m\u001b[0m\u001b[0m\n\u001b[1;32m     18\u001b[0m         \u001b[0mprint\u001b[0m \u001b[0;34m(\u001b[0m\u001b[0;34m'there are '\u001b[0m \u001b[0;34m+\u001b[0m \u001b[0mstr\u001b[0m\u001b[0;34m(\u001b[0m\u001b[0msum\u001b[0m\u001b[0;34m(\u001b[0m\u001b[0mwt\u001b[0m\u001b[0;34m)\u001b[0m\u001b[0;34m)\u001b[0m \u001b[0;34m+\u001b[0m \u001b[0;34m' points accounted for'\u001b[0m\u001b[0;34m)\u001b[0m\u001b[0;34m\u001b[0m\u001b[0m\n",
      "\u001b[0;31mException\u001b[0m: there is a grade out of 0-100 range"
     ]
    }
   ],
   "source": [
    "weighted_avg(grades3, weights3)"
   ]
  },
  {
   "cell_type": "code",
   "execution_count": 5,
   "metadata": {},
   "outputs": [
    {
     "name": "stdout",
     "output_type": "stream",
     "text": [
      "[0.2, 0.2, 0.225, 0.22499999999999998]\n",
      "your weighted grade is: 85.0\n"
     ]
    }
   ],
   "source": [
    "weighted_avg(grades4, weights4)"
   ]
  },
  {
   "cell_type": "code",
   "execution_count": null,
   "metadata": {
    "collapsed": true
   },
   "outputs": [],
   "source": []
  }
 ],
 "metadata": {
  "anaconda-cloud": {},
  "kernelspec": {
   "display_name": "Python 3",
   "language": "python",
   "name": "python3"
  },
  "language_info": {
   "codemirror_mode": {
    "name": "ipython",
    "version": 3
   },
   "file_extension": ".py",
   "mimetype": "text/x-python",
   "name": "python",
   "nbconvert_exporter": "python",
   "pygments_lexer": "ipython3",
   "version": "3.6.1"
  },
  "widgets": {
   "state": {},
   "version": "1.1.2"
  }
 },
 "nbformat": 4,
 "nbformat_minor": 1
}
