{
 "cells": [
  {
   "cell_type": "markdown",
   "metadata": {},
   "source": [
    "\n",
    "# Homework 6 - solutions\n",
    "Assignment due date: Midnight the night before the Week 7 Live Session."
   ]
  },
  {
   "cell_type": "markdown",
   "metadata": {},
   "source": [
    "# Part 1 Coding practice **reading and response**\n",
    "\n",
    "Your task for this week is to write a 250 word reading response to the article below. In addition, please list **3 questions** that you have from the article. Please write your response in a markdown cell, below this cell in the notebook.\n",
    "\n",
    "The writing response is a free response, so you may write about your reactions. An interesting thing that you saw in the article, something that really stuck out to you, etc.\n",
    "\n",
    "**Article**: [The PEP 8 Style Guide](https://www.python.org/dev/peps/pep-0008/#overriding-principle). This document is really important for Python coders because it describes best practices and customs for how one should write Python code. Please read it all and prepare your questions for class."
   ]
  },
  {
   "cell_type": "markdown",
   "metadata": {},
   "source": [
    "**[Free Response Here]**"
   ]
  },
  {
   "cell_type": "markdown",
   "metadata": {
    "collapsed": true
   },
   "source": [
    " "
   ]
  },
  {
   "cell_type": "markdown",
   "metadata": {},
   "source": [
    "# Part 2  - Cheating at Scrabble\n",
    "\n",
    "Write a Python script that takes a Scrabble rack **as a command-line argument** and prints all valid Scrabble words that can be constructed from that rack, along with their Scrabble scores, sorted by score. Valid Scrabble words are provided in the data source below.  A Scrabble rack is made up of any 7 characters.\n",
    "\n",
    "## There are a few of requirements:\n",
    "\n",
    "- This needs to be able to be **run as a command line tool** as you'll see below.\n",
    "- Please include a function called `score_word` in a separate module.  Import this function into your main solution code.\n",
    "- You need to handle input errors from the user and suggest what that error might be caused by (helpful error messages).\n",
    "- Implement wildcards as either `*` or `?`. That is, let the user specify a wildcard character that can take any value. There can be a total of two wild cards in any user input (one of each character).\n",
    "\n",
    "## Extra Credit (+10 points):\n",
    "\n",
    "- Allow a user to specify that a certain letter has to be at a certain location. Your program must work without it so this should be completely optional. For the extra credit, locations of certain letters must be specified at the command line, **it may not be some sort of user prompt.**\n",
    "\n",
    "\n",
    "## Example \n",
    "An example invocation and output:\n",
    "\n",
    "```sh\n",
    "$ python scrabble.py ZAEFIEE\n",
    "17 feeze\n",
    "17 feaze\n",
    "16 faze\n",
    "15 fiz\n",
    "15 fez\n",
    "12 zee\n",
    "12 zea\n",
    "11 za\n",
    "6 fie\n",
    "6 fee\n",
    "6 fae\n",
    "5 if\n",
    "5 fe\n",
    "5 fa\n",
    "5 ef\n",
    "2 ee\n",
    "2 ea\n",
    "2 ai\n",
    "2 ae\n",
    "```\n",
    "\n",
    "\n",
    "## The Data\n",
    "http://courses.cms.caltech.edu/cs11/material/advjava/lab1/sowpods.zip contains all words in the official SOWPODS word list, one word per line. You should download the word file and keep it in your repository so that the program is standalone (instead of accessing it over the web from Python).\n",
    "\n",
    "You can read data from a text file with the following code:\n",
    "```python\n",
    "with open(\"sowpods.txt\",\"r\") as infile:\n",
    "    raw_input = infile.readlines()\n",
    "    data = [datum.strip('\\n') for datum in raw_input]\n",
    "print(data[0:6])\n",
    "``` \n",
    "\n",
    "\n",
    "\n",
    "Here is a dictionary containing all letters and their Scrabble values:\n",
    "```python\n",
    "scores = {\"a\": 1, \"c\": 3, \"b\": 3, \"e\": 1, \"d\": 2, \"g\": 2,\n",
    "         \"f\": 4, \"i\": 1, \"h\": 4, \"k\": 5, \"j\": 8, \"m\": 3,\n",
    "         \"l\": 1, \"o\": 1, \"n\": 1, \"q\": 10, \"p\": 3, \"s\": 1,\n",
    "         \"r\": 1, \"u\": 1, \"t\": 1, \"w\": 4, \"v\": 4, \"y\": 4,\n",
    "         \"x\": 8, \"z\": 10}\n",
    "``` \n",
    "\n",
    "## Tips\n",
    "We recommend that you work on this and try to break down the problems into steps on your own before writing any code. Once you've scoped generally what you want to do, start writing some code and if you get stuck, take a step back and go back to thinking about the problem rather than trying to fix lots of errors at the code level. You should only use the Python standard library in this assignment, however any tool in there is fair game.\n",
    "\n",
    "## Tips Part 2\n",
    "If you keep getting stuck check out: https://openhatch.org/wiki/Scrabble_challenge. This is where we got the idea for this assignment and it provides some helpful tips for guiding you along the way. If that link doesn't work you can use the [google cached version here](http://webcache.googleusercontent.com/search?q=cache:https://openhatch.org/wiki/Scrabble_challenge). However I would sincerely recommend that you try to implement this first yourself before looking at the hints on the website.\n",
    "\n",
    "Good luck!\n",
    " "
   ]
  },
  {
   "cell_type": "code",
   "execution_count": null,
   "metadata": {
    "collapsed": true
   },
   "outputs": [],
   "source": [
    "## Load Dictionary Function\n",
    "\n",
    "## Prompt User for Word List, Check Input, Etc.\n",
    "\n",
    "## Function to Extract Word Matches\n",
    "\n",
    "## Score Word Function"
   ]
  },
  {
   "cell_type": "code",
   "execution_count": 1,
   "metadata": {},
   "outputs": [],
   "source": [
    "## Load Dictionary Function\n",
    "def load_dictionary():\n",
    "    with open(\"sowpods.txt\",\"r\") as infile:\n",
    "        raw_input = infile.readlines()\n",
    "        data = [datum.strip('\\n') for datum in raw_input if len(datum) <= 7]\n",
    "    return data"
   ]
  },
  {
   "cell_type": "code",
   "execution_count": 2,
   "metadata": {},
   "outputs": [
    {
     "ename": "FileNotFoundError",
     "evalue": "[Errno 2] No such file or directory: 'sowpods.txt'",
     "output_type": "error",
     "traceback": [
      "\u001b[0;31m---------------------------------------------------------------------------\u001b[0m",
      "\u001b[0;31mFileNotFoundError\u001b[0m                         Traceback (most recent call last)",
      "\u001b[0;32m<ipython-input-2-a8d8a426be59>\u001b[0m in \u001b[0;36m<module>\u001b[0;34m()\u001b[0m\n\u001b[0;32m----> 1\u001b[0;31m \u001b[0mprint\u001b[0m\u001b[0;34m(\u001b[0m\u001b[0mlen\u001b[0m\u001b[0;34m(\u001b[0m\u001b[0mload_dictionary\u001b[0m\u001b[0;34m(\u001b[0m\u001b[0;34m)\u001b[0m\u001b[0;34m)\u001b[0m\u001b[0;34m)\u001b[0m\u001b[0;34m\u001b[0m\u001b[0m\n\u001b[0m",
      "\u001b[0;32m<ipython-input-1-ef15d75bb703>\u001b[0m in \u001b[0;36mload_dictionary\u001b[0;34m()\u001b[0m\n\u001b[1;32m      1\u001b[0m \u001b[0;31m## Load Dictionary Function\u001b[0m\u001b[0;34m\u001b[0m\u001b[0;34m\u001b[0m\u001b[0m\n\u001b[1;32m      2\u001b[0m \u001b[0;32mdef\u001b[0m \u001b[0mload_dictionary\u001b[0m\u001b[0;34m(\u001b[0m\u001b[0;34m)\u001b[0m\u001b[0;34m:\u001b[0m\u001b[0;34m\u001b[0m\u001b[0m\n\u001b[0;32m----> 3\u001b[0;31m     \u001b[0;32mwith\u001b[0m \u001b[0mopen\u001b[0m\u001b[0;34m(\u001b[0m\u001b[0;34m\"sowpods.txt\"\u001b[0m\u001b[0;34m,\u001b[0m\u001b[0;34m\"r\"\u001b[0m\u001b[0;34m)\u001b[0m \u001b[0;32mas\u001b[0m \u001b[0minfile\u001b[0m\u001b[0;34m:\u001b[0m\u001b[0;34m\u001b[0m\u001b[0m\n\u001b[0m\u001b[1;32m      4\u001b[0m         \u001b[0mraw_input\u001b[0m \u001b[0;34m=\u001b[0m \u001b[0minfile\u001b[0m\u001b[0;34m.\u001b[0m\u001b[0mreadlines\u001b[0m\u001b[0;34m(\u001b[0m\u001b[0;34m)\u001b[0m\u001b[0;34m\u001b[0m\u001b[0m\n\u001b[1;32m      5\u001b[0m         \u001b[0mdata\u001b[0m \u001b[0;34m=\u001b[0m \u001b[0;34m[\u001b[0m\u001b[0mdatum\u001b[0m\u001b[0;34m.\u001b[0m\u001b[0mstrip\u001b[0m\u001b[0;34m(\u001b[0m\u001b[0;34m'\\n'\u001b[0m\u001b[0;34m)\u001b[0m \u001b[0;32mfor\u001b[0m \u001b[0mdatum\u001b[0m \u001b[0;32min\u001b[0m \u001b[0mraw_input\u001b[0m \u001b[0;32mif\u001b[0m \u001b[0mlen\u001b[0m\u001b[0;34m(\u001b[0m\u001b[0mdatum\u001b[0m\u001b[0;34m)\u001b[0m \u001b[0;34m<=\u001b[0m \u001b[0;36m7\u001b[0m\u001b[0;34m]\u001b[0m\u001b[0;34m\u001b[0m\u001b[0m\n",
      "\u001b[0;31mFileNotFoundError\u001b[0m: [Errno 2] No such file or directory: 'sowpods.txt'"
     ]
    }
   ],
   "source": [
    "print(len(load_dictionary()))"
   ]
  },
  {
   "cell_type": "code",
   "execution_count": 56,
   "metadata": {
    "collapsed": true
   },
   "outputs": [],
   "source": [
    "from collections import Counter\n",
    "\n",
    "def match_words(valid_words, scrabble_rack, wild_threshold = 0):\n",
    "    \"\"\"This function accepts a scrabble rack, word dicaitonary, and a wildcard threshold. It returns all words \n",
    "        that match the rack within the wildcard threshold.\"\"\"\n",
    "    matched_words = []\n",
    "    \n",
    "    # Counter with the number of each letter in the rack\n",
    "    rack_counter = Counter(scrabble_rack)\n",
    "    \n",
    "    # Loop through valid words\n",
    "    for word in valid_words:\n",
    "        word_counter = Counter(word)\n",
    "        \n",
    "        # Calculate how many of the letters in the word are NOT in the scrabble rack\n",
    "        word_missing_letters = 0\n",
    "        for key in word_counter:\n",
    "            this_missing_letter = max(word_counter[key] - rack_counter.get(key,0), 0)     \n",
    "            word_missing_letters += this_missing_letter\n",
    "        # print(\"The word {} is missing {} letters from the rack\".format(word, word_missing_letters))\n",
    "        \n",
    "        # If the number of missing letters is less than the wildcard threshold, then add the word to the results\n",
    "        if word_missing_letters <= wild_threshold:\n",
    "            matched_words.append(word)\n",
    "            \n",
    "    return matched_words\n"
   ]
  },
  {
   "cell_type": "code",
   "execution_count": 54,
   "metadata": {},
   "outputs": [
    {
     "name": "stdout",
     "output_type": "stream",
     "text": [
      "['PI', 'PIZZA', 'FOO', 'PIAA', 'ZZZ', 'ZZ']\n",
      "The word PI is missing 0 letters from the rack\n",
      "The word PIZZA is missing 0 letters from the rack\n",
      "The word FOO is missing 3 letters from the rack\n",
      "The word PIAA is missing 1 letters from the rack\n",
      "The word ZZZ is missing 1 letters from the rack\n",
      "The word ZZ is missing 0 letters from the rack\n",
      "\n",
      "['PI', 'PIZZA', 'PIAA', 'ZZZ', 'ZZ']\n"
     ]
    }
   ],
   "source": [
    "diagnostic_list = [\"PI\",\"PIZZA\",\"FOO\",\"PIAA\",\"ZZZ\",\"ZZ\"]\n",
    "\n",
    "print(diagnostic_list)\n",
    "results = match_words(diagnostic_list, \"PIZZA\", 1)\n",
    "print()\n",
    "print(results)"
   ]
  },
  {
   "cell_type": "code",
   "execution_count": 62,
   "metadata": {},
   "outputs": [
    {
     "name": "stdout",
     "output_type": "stream",
     "text": [
      "['AA', 'AAS', 'AM', 'AMA', 'AMAS', 'AMU', 'AMUS', 'AS', 'AUA', 'AUF', 'AUFS', 'FA', 'FAA', 'FAAS', 'FAS', 'FUM', 'FUMS', 'MA', 'MAA', 'MAAS', 'MAS', 'MASA', 'MASU', 'MU', 'MUS', 'SAM', 'SAMA', 'SAMFU', 'SAU', 'SMA', 'SUM', 'UM', 'US']\n"
     ]
    }
   ],
   "source": [
    "test = match_words(valid_words, \"MUFASA\", 0)\n",
    "print(test)"
   ]
  },
  {
   "cell_type": "code",
   "execution_count": 110,
   "metadata": {},
   "outputs": [],
   "source": [
    "def score_words(word_list, scores):\n",
    "    \"\"\"Calculate the score for each word in a word-list. Return a sorted list of tuples (eord, score)\"\"\"\n",
    "    score_list = [(word, sum([scores[letter.lower()] for letter in word])) for word in word_list]\n",
    "    return sorted(score_list,key=lambda x: x[1], reverse=True)"
   ]
  },
  {
   "cell_type": "code",
   "execution_count": 111,
   "metadata": {},
   "outputs": [
    {
     "name": "stdout",
     "output_type": "stream",
     "text": [
      "[('SAMFU', 10), ('FUMS', 9), ('FUM', 8), ('AUFS', 7), ('FAAS', 7), ('AMAS', 6), ('AMUS', 6), ('AUF', 6), ('FAA', 6), ('FAS', 6), ('MAAS', 6), ('MASA', 6), ('MASU', 6), ('SAMA', 6), ('AMA', 5), ('AMU', 5), ('FA', 5), ('MAA', 5), ('MAS', 5), ('MUS', 5), ('SAM', 5), ('SMA', 5), ('SUM', 5), ('AM', 4), ('MA', 4), ('MU', 4), ('UM', 4), ('AAS', 3), ('AUA', 3), ('SAU', 3), ('AA', 2), ('AS', 2), ('US', 2)]\n"
     ]
    }
   ],
   "source": [
    "print(score_words(test, scores))"
   ]
  },
  {
   "cell_type": "code",
   "execution_count": 136,
   "metadata": {},
   "outputs": [
    {
     "name": "stdout",
     "output_type": "stream",
     "text": [
      "12 matches found.\n",
      "PIAZZA: 26\n",
      "PIZZA: 25\n",
      "ZIZ: 21\n",
      "ZAP: 14\n",
      "ZIP: 14\n",
      "ZA: 11\n",
      "PIA: 5\n",
      "PA: 4\n",
      "PI: 4\n",
      "AIA: 3\n",
      "AA: 2\n",
      "AI: 2\n"
     ]
    }
   ],
   "source": [
    "# Practice input validation\n",
    "scrabble_rack = \"PIZZAAA\".upper()\n",
    "\n",
    "# Make sure all characters are in the alphabet.\n",
    "if len(scrabble_rack) != 7:\n",
    "    print(\"Please input a scrabble rack of 7 characters.\")\n",
    "elif sum([1 for letter in scrabble_rack if letter not in 'ABCDEFGHIJKLMNOPQRSTUVWXYZ*?']) > 0:\n",
    "    print(\"Please only enter letters and * or ? in your scrabble rack.\")\n",
    "elif scrabble_rack.count(\"*\") > 1 or scrabble_rack.count(\"?\") > 1:\n",
    "    print(\"Please only use up to one of each wildcard symbol: '?' and '*'\")\n",
    "else:\n",
    "    # Count wildcards\n",
    "    num_wildcards = scrabble_rack.count(\"*\") + scrabble_rack.count(\"?\")\n",
    "    # Load the dictionary\n",
    "    valid_words = load_dictionary()\n",
    "    # Find matches\n",
    "    matched_words = match_words(valid_words, scrabble_rack, num_wildcards)\n",
    "    # Score matches\n",
    "    scores = {\"a\": 1, \"c\": 3, \"b\": 3, \"e\": 1, \"d\": 2, \"g\": 2,\n",
    "         \"f\": 4, \"i\": 1, \"h\": 4, \"k\": 5, \"j\": 8, \"m\": 3,\n",
    "         \"l\": 1, \"o\": 1, \"n\": 1, \"q\": 10, \"p\": 3, \"s\": 1,\n",
    "         \"r\": 1, \"u\": 1, \"t\": 1, \"w\": 4, \"v\": 4, \"y\": 4,\n",
    "         \"x\": 8, \"z\": 10}\n",
    "    scored_words = score_words(matched_words, scores)\n",
    "    print(\"{} matches found.\".format(len(scored_words)))\n",
    "    [print(x[0] + \":\", x[1]) for x in scored_words]\n"
   ]
  },
  {
   "cell_type": "code",
   "execution_count": 1,
   "metadata": {},
   "outputs": [
    {
     "name": "stdout",
     "output_type": "stream",
     "text": [
      "python: can't open file 'scrabble.py': [Errno 2] No such file or directory\r\n"
     ]
    }
   ],
   "source": [
    "## or run an alternative version from command line\n",
    "!python scrabble.py \"albin?*\" \"sowpods2.txt\" 'a2'"
   ]
  },
  {
   "cell_type": "code",
   "execution_count": null,
   "metadata": {
    "collapsed": true
   },
   "outputs": [],
   "source": []
  }
 ],
 "metadata": {
  "kernelspec": {
   "display_name": "Python 3",
   "language": "python",
   "name": "python3"
  },
  "language_info": {
   "codemirror_mode": {
    "name": "ipython",
    "version": 3
   },
   "file_extension": ".py",
   "mimetype": "text/x-python",
   "name": "python",
   "nbconvert_exporter": "python",
   "pygments_lexer": "ipython3",
   "version": "3.6.1"
  }
 },
 "nbformat": 4,
 "nbformat_minor": 1
}
