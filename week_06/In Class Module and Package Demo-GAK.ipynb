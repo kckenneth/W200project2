{
 "cells": [
  {
   "cell_type": "markdown",
   "metadata": {},
   "source": [
    "### Module Demo"
   ]
  },
  {
   "cell_type": "code",
   "execution_count": 48,
   "metadata": {
    "scrolled": true
   },
   "outputs": [
    {
     "name": "stdout",
     "output_type": "stream",
     "text": [
      "In Class Module and Package Demo-GAK.ipynb\r\n",
      "In Class Module and Package Demo.ipynb\r\n",
      "Week_06_Activity.ipynb\r\n",
      "Week_06_HW.ipynb\r\n",
      "Week_06_HW_Solution.ipynb\r\n",
      "\u001b[34m__pycache__\u001b[m\u001b[m/\r\n",
      "piggy.py\r\n",
      "\u001b[34mpiggy_package\u001b[m\u001b[m/\r\n",
      "sowpods.txt\r\n"
     ]
    }
   ],
   "source": [
    "% ls"
   ]
  },
  {
   "cell_type": "code",
   "execution_count": 49,
   "metadata": {},
   "outputs": [
    {
     "name": "stdout",
     "output_type": "stream",
     "text": [
      "piggy.cpython-35.pyc  piggy.cpython-36.pyc\r\n"
     ]
    }
   ],
   "source": [
    "ls __pycache__/"
   ]
  },
  {
   "cell_type": "code",
   "execution_count": 50,
   "metadata": {},
   "outputs": [
    {
     "name": "stdout",
     "output_type": "stream",
     "text": [
      "__init__.py       \u001b[34m__pycache__\u001b[m\u001b[m/      pigs_dancing.py   pigs_marching.py\r\n"
     ]
    }
   ],
   "source": [
    "% ls piggy_package/"
   ]
  },
  {
   "cell_type": "code",
   "execution_count": 51,
   "metadata": {},
   "outputs": [
    {
     "name": "stdout",
     "output_type": "stream",
     "text": [
      "__init__.cpython-35.pyc      pigs_dancing.cpython-36.pyc\r\n",
      "__init__.cpython-36.pyc      pigs_marching.cpython-35.pyc\r\n",
      "pigs_dancing.cpython-35.pyc  pigs_marching.cpython-36.pyc\r\n"
     ]
    }
   ],
   "source": [
    "!ls piggy_package/__pycache__/"
   ]
  },
  {
   "cell_type": "code",
   "execution_count": 52,
   "metadata": {},
   "outputs": [
    {
     "name": "stdout",
     "output_type": "stream",
     "text": [
      "Oink!!\n"
     ]
    }
   ],
   "source": [
    "import piggy\n",
    "piggy.oink()"
   ]
  },
  {
   "cell_type": "code",
   "execution_count": 53,
   "metadata": {
    "collapsed": true
   },
   "outputs": [],
   "source": [
    "from piggy import oink"
   ]
  },
  {
   "cell_type": "code",
   "execution_count": 54,
   "metadata": {},
   "outputs": [
    {
     "name": "stdout",
     "output_type": "stream",
     "text": [
      "Oink!!\n"
     ]
    }
   ],
   "source": [
    "oink()"
   ]
  },
  {
   "cell_type": "code",
   "execution_count": 55,
   "metadata": {
    "collapsed": true
   },
   "outputs": [],
   "source": [
    "from piggy import oink as moo"
   ]
  },
  {
   "cell_type": "code",
   "execution_count": 56,
   "metadata": {},
   "outputs": [
    {
     "name": "stdout",
     "output_type": "stream",
     "text": [
      "Oink!!\n"
     ]
    }
   ],
   "source": [
    "moo()"
   ]
  },
  {
   "cell_type": "markdown",
   "metadata": {},
   "source": [
    "### Package Demo"
   ]
  },
  {
   "cell_type": "code",
   "execution_count": 57,
   "metadata": {
    "collapsed": true
   },
   "outputs": [],
   "source": [
    "import piggy_package"
   ]
  },
  {
   "cell_type": "code",
   "execution_count": 60,
   "metadata": {},
   "outputs": [
    {
     "name": "stdout",
     "output_type": "stream",
     "text": [
      "Traa la laaa!\n"
     ]
    }
   ],
   "source": [
    "piggy_package.pigs_dancing.dance()"
   ]
  },
  {
   "cell_type": "code",
   "execution_count": 61,
   "metadata": {},
   "outputs": [
    {
     "name": "stdout",
     "output_type": "stream",
     "text": [
      "Help on package piggy_package:\n",
      "\n",
      "NAME\n",
      "    piggy_package\n",
      "\n",
      "PACKAGE CONTENTS\n",
      "    pigs_dancing\n",
      "    pigs_marching\n",
      "\n",
      "FILE\n",
      "    /Users/GunnarK/Dropbox/coderepos/BerkeleyMIDS/W200/W18_python_Current/assignments-instructors/week_06/piggy_package/__init__.py\n",
      "\n",
      "\n"
     ]
    }
   ],
   "source": [
    "help(piggy_package)"
   ]
  },
  {
   "cell_type": "code",
   "execution_count": 62,
   "metadata": {
    "collapsed": true
   },
   "outputs": [],
   "source": [
    "from piggy_package import pigs_dancing, pigs_marching"
   ]
  },
  {
   "cell_type": "code",
   "execution_count": 64,
   "metadata": {},
   "outputs": [
    {
     "name": "stdout",
     "output_type": "stream",
     "text": [
      "Help on module piggy_package.pigs_dancing in piggy_package:\n",
      "\n",
      "NAME\n",
      "    piggy_package.pigs_dancing\n",
      "\n",
      "FUNCTIONS\n",
      "    dance()\n",
      "    \n",
      "    jig()\n",
      "\n",
      "FILE\n",
      "    /Users/GunnarK/Dropbox/coderepos/BerkeleyMIDS/W200/W18_python_Current/assignments-instructors/week_06/piggy_package/pigs_dancing.py\n",
      "\n",
      "\n"
     ]
    }
   ],
   "source": [
    "help(pigs_dancing)"
   ]
  },
  {
   "cell_type": "code",
   "execution_count": 66,
   "metadata": {},
   "outputs": [
    {
     "name": "stdout",
     "output_type": "stream",
     "text": [
      "Traa la laaa!\n"
     ]
    }
   ],
   "source": [
    "pigs_dancing.dance()"
   ]
  },
  {
   "cell_type": "code",
   "execution_count": 67,
   "metadata": {},
   "outputs": [
    {
     "name": "stdout",
     "output_type": "stream",
     "text": [
      "What do I look like, a human?  Pigs don't jig.\n"
     ]
    }
   ],
   "source": [
    "pigs_dancing.jig()"
   ]
  },
  {
   "cell_type": "code",
   "execution_count": 68,
   "metadata": {},
   "outputs": [
    {
     "name": "stdout",
     "output_type": "stream",
     "text": [
      "cat: piggy_package: Is a directory\r\n"
     ]
    }
   ],
   "source": [
    "!cat piggy_package"
   ]
  },
  {
   "cell_type": "code",
   "execution_count": 69,
   "metadata": {},
   "outputs": [
    {
     "name": "stdout",
     "output_type": "stream",
     "text": [
      "def dance():\r\n",
      "\tprint(\"Traa la laaa!\")\r\n",
      "\t\r\n",
      "def jig():\r\n",
      "\tprint(\"What do I look like, a human?  Pigs don't jig.\")"
     ]
    }
   ],
   "source": [
    "!cat piggy_package/pigs_dancing.py"
   ]
  },
  {
   "cell_type": "code",
   "execution_count": null,
   "metadata": {
    "collapsed": true
   },
   "outputs": [],
   "source": []
  },
  {
   "cell_type": "code",
   "execution_count": 70,
   "metadata": {},
   "outputs": [
    {
     "data": {
      "text/plain": [
       "[<matplotlib.lines.Line2D at 0x11c136f28>]"
      ]
     },
     "execution_count": 70,
     "metadata": {},
     "output_type": "execute_result"
    },
    {
     "data": {
      "image/png": "[encoded data removed]",
      "text/plain": [
       "<matplotlib.figure.Figure at 0x11be04c50>"
      ]
     },
     "metadata": {},
     "output_type": "display_data"
    }
   ],
   "source": [
    "% matplotlib inline\n",
    "import matplotlib.pyplot as plt\n",
    "\n",
    "N=[10,100,1000,10000, 100000]\n",
    "\n",
    "def operationCT(N):\n",
    "    i,j=N,1\n",
    "    count = 0\n",
    "    while j<i:\n",
    "        count\n",
    "        i*=100\n",
    "        j*=101\n",
    "        count+=1        \n",
    "    return count\n",
    "\n",
    "turns=[operationCT(N) for N in N]\n",
    "\n",
    "plt.plot(N,turns)\n"
   ]
  },
  {
   "cell_type": "code",
   "execution_count": null,
   "metadata": {
    "collapsed": true
   },
   "outputs": [],
   "source": []
  }
 ],
 "metadata": {
  "kernelspec": {
   "display_name": "Python 3",
   "language": "python",
   "name": "python3"
  },
  "language_info": {
   "codemirror_mode": {
    "name": "ipython",
    "version": 3
   },
   "file_extension": ".py",
   "mimetype": "text/x-python",
   "name": "python",
   "nbconvert_exporter": "python",
   "pygments_lexer": "ipython3",
   "version": "3.6.1"
  }
 },
 "nbformat": 4,
 "nbformat_minor": 1
}
