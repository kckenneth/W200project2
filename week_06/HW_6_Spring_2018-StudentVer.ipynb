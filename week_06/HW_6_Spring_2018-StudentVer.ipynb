{
 "cells": [
  {
   "cell_type": "markdown",
   "metadata": {
    "nbgrader": {
     "grade": false,
     "grade_id": "cell-6fb5624c32e80300",
     "locked": true,
     "schema_version": 1,
     "solution": false
    }
   },
   "source": [
    "## Week 6 Assignment - W200 MIDS Python\n",
    "\n",
    "Assignment due date: 11:59PM PST the night before the week 7 live session."
   ]
  },
  {
   "cell_type": "markdown",
   "metadata": {
    "nbgrader": {
     "grade": false,
     "grade_id": "cell-95bff42b3e3206d9",
     "locked": true,
     "schema_version": 1,
     "solution": false
    }
   },
   "source": [
    "# Part 1 Coding practice **reading and response**\n",
    "\n",
    "Your task for this week is to write a 250-word reading response to the article below. In addition, please list **3 questions** that you have from the article. Please write your response in a markdown cell, below this cell in the notebook.\n",
    "\n",
    "The writing response is a free response, so you may write about your reactions, an interesting thing that you saw in the article, something that really stuck out to you, etc.\n",
    "\n",
    "**Article**: [The PEP 8 Style Guide](https://www.python.org/dev/peps/pep-0008/#overriding-principle). This document is really important for Python coders because it describes best practices and customs for how one should write Python code. Please read it all and prepare your questions for class."
   ]
  },
  {
   "cell_type": "markdown",
   "metadata": {
    "nbgrader": {
     "grade": true,
     "grade_id": "cell-c4a1546ee8708c36",
     "locked": false,
     "points": 20,
     "schema_version": 1,
     "solution": true
    }
   },
   "source": [
    "**[Free Response Here]**"
   ]
  },
  {
   "cell_type": "markdown",
   "metadata": {
    "nbgrader": {
     "grade": false,
     "grade_id": "cell-b2e42667c46be103",
     "locked": true,
     "schema_version": 1,
     "solution": false
    }
   },
   "source": [
    "# Part 2  - Cheating at Scrabble\n",
    "\n",
    "Write a Python script that takes a Scrabble rack **as a command-line argument** and prints all valid Scrabble words that can be constructed from that rack, along with their Scrabble scores, sorted by score. Valid Scrabble words are provided in the data source below.  A Scrabble rack is made up of any 7 characters.\n",
    "\n",
    "\n",
    "## There are a few of requirements:\n",
    "\n",
    "- This needs to be able to be **run as a command line tool** as you'll see below.\n",
    "\n",
    "\n",
    "- We will use the code embedded in the notebook to test your code, if you do the extra credit give us a similar line to test the extra credit functionality\n",
    "\n",
    "- Put comments in your code and docstrings in the functions as described in the PEP8 Style Guide above.\n",
    "\n",
    "- Please include a function called `score_word` in a separate module.  Import this function into your main solution code.\n",
    "\n",
    "- You need to handle input errors from the user and suggest what that error might be caused by (helpful error messages).\n",
    "\n",
    "- Implement wildcards as either `*` or `?`. That is, let the user specify a wildcard character that can take any value. There can be a total of two wild cards in any user input (one of each character).\n",
    "\n",
    "Runtime - should run in a reasonable amount of time (single digit minutes or seconds)\n",
    "You can use a pre-processed dictionary if this makes sense to you\n",
    "\n",
    "\n",
    "## Extra Credit (+10 points):\n",
    "\n",
    "- Allow a user to specify that a certain letter has to be at a certain location. Your program must work without it so this should be completely optional. For the extra credit, locations of certain letters must be specified at the command line, **it may not be some sort of user prompt.**\n",
    "\n",
    "\n",
    "## Example \n",
    "An example invocation and output:\n",
    "\n",
    "```sh\n",
    "$ python scrabble.py ZAEFIEE\n",
    "17 feeze\n",
    "17 feaze\n",
    "16 faze\n",
    "15 fiz\n",
    "15 fez\n",
    "12 zee\n",
    "12 zea\n",
    "11 za\n",
    "6 fie\n",
    "6 fee\n",
    "6 fae\n",
    "5 if\n",
    "5 fe\n",
    "5 fa\n",
    "5 ef\n",
    "2 ee\n",
    "2 ea\n",
    "2 ai\n",
    "2 ae\n",
    "```\n",
    "\n",
    "\n",
    "## The Data\n",
    "http://courses.cms.caltech.edu/cs11/material/advjava/lab1/sowpods.zip contains all words in the official SOWPODS word list, one word per line. You should download the word file and keep it in your repository so that the program is standalone (instead of accessing it over the web from Python).\n",
    "\n",
    "You can read data from a text file with the following code:\n",
    "```python\n",
    "with open(\"sowpods.txt\",\"r\") as infile:\n",
    "    raw_input = infile.readlines()\n",
    "    data = [datum.strip('\\n') for datum in raw_input]\n",
    "print(data[0:6])\n",
    "``` \n",
    "\n",
    "\n",
    "\n",
    "Here is a dictionary containing all letters and their Scrabble values:\n",
    "```python\n",
    "scores = {\"a\": 1, \"c\": 3, \"b\": 3, \"e\": 1, \"d\": 2, \"g\": 2,\n",
    "         \"f\": 4, \"i\": 1, \"h\": 4, \"k\": 5, \"j\": 8, \"m\": 3,\n",
    "         \"l\": 1, \"o\": 1, \"n\": 1, \"q\": 10, \"p\": 3, \"s\": 1,\n",
    "         \"r\": 1, \"u\": 1, \"t\": 1, \"w\": 4, \"v\": 4, \"y\": 4,\n",
    "         \"x\": 8, \"z\": 10}\n",
    "``` \n",
    "\n",
    "## Tips\n",
    "We recommend that you work on this and try to break down the problems into steps on your own before writing any code. Once you've scoped generally what you want to do, start writing some code and if you get stuck, take a step back and go back to thinking about the problem rather than trying to fix lots of errors at the code level. You should only use the Python standard library in this assignment, however any tool in the Python standard library is fair game.\n",
    "\n",
    "## Tips Part 2\n",
    "If you keep getting stuck check out: https://openhatch.org/wiki/Scrabble_challenge. This is where we got the idea for this assignment and it provides some helpful tips for guiding you along the way. If that link doesn't work you can use the [google cached version here](http://webcache.googleusercontent.com/search?q=cache:https://openhatch.org/wiki/Scrabble_challenge). However, we would sincerely recommend that you try to implement this first yourself before looking at the hints on the website.\n",
    "\n",
    "Good luck!\n",
    " "
   ]
  },
  {
   "cell_type": "markdown",
   "metadata": {},
   "source": [
    "### The code below will test your command line implementation of the scrabble.py code. Some of these tests are available for you to try.\n"
   ]
  },
  {
   "cell_type": "code",
   "execution_count": null,
   "metadata": {
    "collapsed": true
   },
   "outputs": [],
   "source": [
    "\n",
    "import subprocess\n",
    "from nose.tools import assert_equal \n",
    "from nose.tools import assert_true\n",
    "from nose.tools import assert_greater\n",
    "from nose.tools import assert_less\n"
   ]
  },
  {
   "cell_type": "code",
   "execution_count": null,
   "metadata": {
    "nbgrader": {
     "grade": true,
     "grade_id": "cell-6cb374b4f427be46",
     "locked": false,
     "points": 20,
     "schema_version": 1,
     "solution": true
    }
   },
   "outputs": [],
   "source": [
    "\"\"\" This code should tell us we need a rack and there should be reasonable error anticipation \"\"\"\n",
    "# no rack error\n",
    "!python scrabble.py  \n",
    "\n",
    "### BEGIN HIDDEN TESTS \n",
    "### END HIDDEN TESTS"
   ]
  },
  {
   "cell_type": "code",
   "execution_count": null,
   "metadata": {
    "nbgrader": {
     "grade": true,
     "grade_id": "cell-679eb0dae15dccd4",
     "locked": false,
     "points": 0,
     "schema_version": 1,
     "solution": true
    }
   },
   "outputs": [],
   "source": [
    "\"\"\" Does not fail due to trivial mistakes and takes wildcards \"\"\" \n",
    "# does not fail due to case\n",
    "!python scrabble.py PENguin  \n",
    "# takes wildcards\n",
    "!python scrabble.py PEN*?in    \n",
    "\n",
    "# Word list for 'PENguin' should look like the words_list1 below (formatting might be different)\n",
    "word_list1 = [('PENGUIN', 10), ('PENING', 9), ('GENIP', 8), ('UNPEG', 8), ('INGENU', 7), ('PENNI', 7), ('PING', 7), \n",
    "             ('PUNG', 7), ('UNPEN', 7), ('UNPIN', 7), ('GIP', 6), ('GUP', 6), ('PEG', 6), ('PEIN', 6), ('PENI', 6), \n",
    "             ('PIG', 6), ('PINE', 6), ('PUG', 6), ('ENNUI', 5), ('GENU', 5), ('GIEN', 5), ('GINN', 5), ('NEP', 5), \n",
    "             ('NIP', 5), ('PEN', 5), ('PIE', 5), ('PIN', 5), ('PIU', 5), ('PUN', 5), ('ENG', 4), ('GEN', 4), ('GIE', 4), \n",
    "             ('GIN', 4), ('GNU', 4), ('GUE', 4), ('GUN', 4), ('NEG', 4), ('NINE', 4), ('PE', 4), ('PI', 4), ('UP', 4), \n",
    "             ('GI', 3), ('GU', 3), ('INN', 3), ('NIE', 3), ('NUN', 3), ('UG', 3), ('UNI', 3), ('EN', 2), ('IN', 2), \n",
    "             ('NE', 2), ('NU', 2), ('UN', 2)]\n",
    "\n",
    "# Word list for 'PEN*?in is far too long!\n",
    "\n",
    "### BEGIN HIDDEN TESTS \n",
    "### END HIDDEN TESTS"
   ]
  },
  {
   "cell_type": "code",
   "execution_count": null,
   "metadata": {
    "nbgrader": {
     "grade": true,
     "grade_id": "cell-c75db1883eda598b",
     "locked": true,
     "points": 20,
     "schema_version": 1,
     "solution": false
    }
   },
   "outputs": [],
   "source": [
    "\"\"\" The code checks if a list of words is created - if this cell runs without an error than it passed \"\"\"\n",
    "\n",
    "#test the code in the command line\n",
    "cmd = [ 'python', 'scrabble.py', 'PENGUIN' ]\n",
    "out=bytes.decode(subprocess.Popen( cmd, stdout=subprocess.PIPE ).communicate()[0]).strip()\n",
    "assert_greater(len(out), 0)\n",
    "\n",
    "### BEGIN HIDDEN TESTS \n",
    "### END HIDDEN TESTS"
   ]
  },
  {
   "cell_type": "code",
   "execution_count": null,
   "metadata": {
    "nbgrader": {
     "grade": true,
     "grade_id": "cell-bbdac153d30cb686",
     "locked": true,
     "points": 20,
     "schema_version": 1,
     "solution": false
    }
   },
   "outputs": [],
   "source": [
    "\"\"\" The code checks if a list of words is created - if this cell runs without an error than it passed \"\"\"\n",
    "\n",
    "cmd = [ 'python', 'scrabble.py', 'PENGU*?' ]\n",
    "out=bytes.decode(subprocess.Popen( cmd, stdout=subprocess.PIPE ).communicate()[0])\n",
    "assert_greater(len(out), 0)\n",
    "\n",
    "### BEGIN HIDDEN TESTS \n",
    "### END HIDDEN TESTS\n"
   ]
  },
  {
   "cell_type": "code",
   "execution_count": null,
   "metadata": {
    "nbgrader": {
     "grade": true,
     "grade_id": "cell-d558229c3d138228",
     "locked": true,
     "points": 20,
     "schema_version": 1,
     "solution": false
    }
   },
   "outputs": [],
   "source": [
    "\"\"\" The code should run in seconds to a few minutes. If < 5 minutes this cell will just print out your time\"\"\"\n",
    "import time\n",
    "start=time.time()\n",
    "\n",
    "#test the code in the command line\n",
    "cmd = [ 'python', 'scrabble.py', 'PENGU*?' ]\n",
    "out=bytes.decode(subprocess.Popen( cmd, stdout=subprocess.PIPE ).communicate()[0])\n",
    "\n",
    "tot_time=time.time()-start\n",
    "print('Total time was {} seconds'.format(tot_time))\n",
    "assert_less(tot_time, 300)\n"
   ]
  },
  {
   "cell_type": "code",
   "execution_count": null,
   "metadata": {
    "collapsed": true,
    "nbgrader": {
     "grade": true,
     "grade_id": "cell-a4d25cc447ae3e6a",
     "locked": false,
     "points": 10,
     "schema_version": 1,
     "solution": true
    }
   },
   "outputs": [],
   "source": [
    "\"\"\" Implement extra credit call/run the code here \"\"\"\n"
   ]
  }
 ],
 "metadata": {
  "celltoolbar": "Create Assignment",
  "kernelspec": {
   "display_name": "Python 3",
   "language": "python",
   "name": "python3"
  },
  "language_info": {
   "codemirror_mode": {
    "name": "ipython",
    "version": 3
   },
   "file_extension": ".py",
   "mimetype": "text/x-python",
   "name": "python",
   "nbconvert_exporter": "python",
   "pygments_lexer": "ipython3",
   "version": "3.6.3"
  },
  "widgets": {
   "state": {},
   "version": "1.1.2"
  }
 },
 "nbformat": 4,
 "nbformat_minor": 2
}
