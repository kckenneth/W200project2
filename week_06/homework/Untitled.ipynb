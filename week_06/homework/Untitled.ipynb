{
 "cells": [
  {
   "cell_type": "code",
   "execution_count": null,
   "metadata": {
    "collapsed": true
   },
   "outputs": [],
   "source": [
    "import sys\n",
    "from collections import Counter\n",
    "from score_word import score\n",
    "\n",
    "#  the official SOWPODS word list constructed as a list named data\n",
    "with open(\"sowpods.txt\",\"r\") as infile:\n",
    "    raw_input = infile.readlines()\n",
    "    data = [datum.strip('\\n') for datum in raw_input]\n",
    "\n",
    "data_list = list()\n",
    "for item in data:\n",
    "    data_list.append(Counter(item))\n",
    "    \n",
    "print(data_list)\n",
    "\n"
   ]
  },
  {
   "cell_type": "code",
   "execution_count": null,
   "metadata": {
    "collapsed": true
   },
   "outputs": [],
   "source": [
    "from score_word import score\n",
    "\n",
    "rack='ZAEFIEE'\n",
    "\n",
    "\n",
    "\n",
    "data = ['zA', 'ZIe', 'ZIZZ', 'ZZZ']\n",
    " \n",
    "def count_letters(word):\n",
    "    count = {}\n",
    "    for letter in word.lower():\n",
    "        count[letter] = count.get(letter,0) + 1\n",
    "    return count\n",
    "\n",
    "#def spellable(word, rack):\n",
    "#    word_count = count_letters(word)\n",
    "#    rack_count = count_letters(rack)\n",
    "#    return all([word_count[letter] <= rack_count[letter] for letter in word])\n",
    "\n",
    "# scored =[(score(word), word) for word in data if set(word.lower()).issubset(set(rack.lower())) \n",
    "#         and len(word) > 1 and spellable(word, rack)]\n",
    "#def IsSubset(word, rack):\n",
    "#   return set(word.lower()) <= (set(rack.lower()))\n",
    "\n",
    "rack_count = count_letters(rack)\n",
    "\n",
    "valid_words = []\n",
    "for word in data:\n",
    "    word_count = count_letters(word)\n",
    "    intersec = set(word.lower()).intersection(set(rack.lower()))\n",
    "    letter_number = [(word_count[letter],rack_count[letter]) for letter in intersec]\n",
    "    \n",
    "    check1 = all(item[0] <= item[1] for item in letter_number)\n",
    "    check2 = set(word.lower()) <= set(rack.lower())\n",
    "    if check1 and check2:\n",
    "        valid_words.append(word.lower())\n",
    "valid_words.sort()\n",
    "print(valid_words)\n",
    "    \n",
    "\n"
   ]
  },
  {
   "cell_type": "code",
   "execution_count": null,
   "metadata": {
    "collapsed": true
   },
   "outputs": [],
   "source": [
    "import sys\n",
    "\n",
    "if len(sys.argv) == 2:\n",
    "    rack = sys.argv[1].lower()\n",
    "elif len(sys.argv) >4:\n",
    "    rack = sys.argv[1].lower()\n",
    "    loc = sys.argv[2]\n",
    "    char = sys.argv[3].lower()    \n",
    "else:\n",
    "    sys.exit(\"Error: You need to enter some letters without spaces for rack word, an integer for location and letter for the choice\")\n",
    "\n",
    "print(loc)\n",
    "print(char)"
   ]
  },
  {
   "cell_type": "code",
   "execution_count": null,
   "metadata": {
    "collapsed": true
   },
   "outputs": [],
   "source": [
    "!python sys.py 'RA' 2  e"
   ]
  },
  {
   "cell_type": "code",
   "execution_count": 1,
   "metadata": {},
   "outputs": [
    {
     "name": "stdout",
     "output_type": "stream",
     "text": [
      "ZAEFIEE ->  19 words, Max Score:  17\r\n",
      "[('FEAZE', 17), ('FEEZE', 17), ('FAZE', 16), ('FEZ', 15), ('FIZ', 15), ('ZEA', 12), ('ZEE', 12), ('ZA', 11), ('FAE', 6), ('FEE', 6), ('FIE', 6), ('EF', 5), ('FA', 5), ('FE', 5), ('IF', 5), ('AE', 2), ('AI', 2), ('EA', 2), ('EE', 2)]\r\n",
      "\r\n",
      "\r\n"
     ]
    }
   ],
   "source": [
    "!python scrabble.py 'ZAEFIEE'"
   ]
  },
  {
   "cell_type": "code",
   "execution_count": null,
   "metadata": {
    "collapsed": true
   },
   "outputs": [],
   "source": [
    "with open(\"sowpods.txt\",\"r\") as infile:\n",
    "    raw_input = infile.readlines()\n",
    "    data = [datum.strip('\\n') for datum in raw_input]\n",
    "    \n",
    "length=[len(word) for word in data]\n",
    "print(len(data))\n"
   ]
  },
  {
   "cell_type": "code",
   "execution_count": null,
   "metadata": {
    "collapsed": true
   },
   "outputs": [],
   "source": [
    "from collections import Counter\n",
    "\n",
    "word1 = 'ZAEFIEE'\n",
    "a=Counter(word1.lower()).most_common()\n",
    "a.sort() \n",
    "\n",
    "word2 = set('ZAEFF')\n",
    "print(word2, len(set('ZAEFF')))\n",
    "#b=Counter(word2.lower()).most_common()\n",
    "b.sort()\n",
    "print(a[0][0])\n",
    "print(a)\n",
    "print(b)\n",
    "\n",
    "print(all(b[i][1] <= a[i][1] for i in range(len(b))))\n",
    "\n",
    "\n",
    "\n",
    "\n",
    "#c = Counter(a=4, b=2, c=0, d=-2)\n",
    "#d = Counter(a=1, b=2, c=3, d=4)\n",
    "#c.subtract(d)\n",
    "#print(c)\n"
   ]
  },
  {
   "cell_type": "code",
   "execution_count": null,
   "metadata": {
    "collapsed": true
   },
   "outputs": [],
   "source": [
    "def count_letters(word):\n",
    "    count = {}\n",
    "    for letter in word.lower():\n",
    "        count[letter] = count.get(letter,0) + 1\n",
    "    return count"
   ]
  },
  {
   "cell_type": "code",
   "execution_count": null,
   "metadata": {
    "collapsed": true
   },
   "outputs": [],
   "source": [
    "from collections import Counter\n",
    "\n",
    "rack='ZAEFIEE'\n",
    "data = ['zA', 'ZIe', 'ZIZZ', 'ZZZ']\n",
    "valid_words = []\n",
    "\n",
    "rack_count = Counter(rack).most_common()\n",
    "rack_count.sort()\n",
    "print(rack_count)\n",
    "\n",
    "for word in data:\n",
    "    if word in valid_words:\n",
    "        continue\n",
    "\n",
    "    elif set(word.lower()) <= set(rack.lower()):\n",
    "        word_count = Counter(word).most_common()\n",
    "        word_count.sort()\n",
    "        print(word_count)\n",
    "\n",
    "        if all(word_count[i][1] <= rack_count[i][1] for i in range(len(word_count)))\n",
    "            valid_words.append(word)\n",
    "print(valid_words)"
   ]
  },
  {
   "cell_type": "code",
   "execution_count": null,
   "metadata": {
    "collapsed": true
   },
   "outputs": [],
   "source": [
    "def score(word):\n",
    "    \"\"\"The function gives score of a word using a dictionary containing all letters and their Scrabble values\"\"\"\n",
    "\n",
    "    scores = {\"a\": 1, \"c\": 3, \"b\": 3, \"e\": 1, \"d\": 2, \"g\": 2,\n",
    "         \"f\": 4, \"i\": 1, \"h\": 4, \"k\": 5, \"j\": 8, \"m\": 3,\n",
    "         \"l\": 1, \"o\": 1, \"n\": 1, \"q\": 10, \"p\": 3, \"s\": 1,\n",
    "         \"r\": 1, \"u\": 1, \"t\": 1, \"w\": 4, \"v\": 4, \"y\": 4,\n",
    "         \"x\": 8, \"z\": 10}\n",
    "\n",
    "    total = 0\n",
    "    for i in word.lower():\n",
    "        if i in scores.keys():\n",
    "            total += scores[i]\n",
    "        else:\n",
    "            total +=0\n",
    "    return total\n",
    "\n",
    "print(score('peng*?n'))"
   ]
  },
  {
   "cell_type": "code",
   "execution_count": null,
   "metadata": {
    "collapsed": true
   },
   "outputs": [],
   "source": [
    "rack_count={'z': 1, 'a': 1, 'e': 2, 'f': 1, '?': 1, '*': 1}\n",
    "rack_list = []\n",
    "for key in rack_count.keys():\n",
    "    if key in '*?':\n",
    "        for v in 'abcdefghijklmnopqrstuvwxyz':\n",
    "            rack_count[v]=rack_count.pop(key)\n",
    "    print(rack_count)"
   ]
  },
  {
   "cell_type": "code",
   "execution_count": null,
   "metadata": {
    "collapsed": true
   },
   "outputs": [],
   "source": [
    "\n",
    "rack='raa*?'.lower()\n",
    "number1 = rack.count('*')\n",
    "number2 = rack.count('?')\n",
    "print(number1)\n",
    "print(number2)\n",
    "rack_split=list(rack)\n",
    "rack_list=[]\n",
    "\n",
    "if number1 ==0 and number2==0:\n",
    "    rack_list.append(rack)\n",
    "\n",
    "elif number1==1 and number2==1 and number1+number2 < 3:\n",
    "    for v in 'abcdefghijklmnopqrstuvwxyz':\n",
    "        rack_word1 = [w.replace('*', v) for w in rack_split]    \n",
    "        for v in 'abcdefghijklmnopqrstuvwxyz':\n",
    "            rack_word2 = [w.replace('?', v) for w in rack_word1]\n",
    "            rack_word2.sort()\n",
    "            rack_word=''.join(rack_word2)\n",
    "            rack_list.append(rack_word)\n",
    "elif number1==1 and number1+number2 < 2:\n",
    "    for v in 'abcdefghijklmnopqrstuvwxyz':\n",
    "        rack_word1 = [w.replace('*', v) for w in rack_split]  \n",
    "        rack_word1.sort()\n",
    "        rack_word=''.join(rack_word1)\n",
    "        rack_list.append(rack_word)\n",
    "elif number2==1 and number1+number2 < 2:\n",
    "    for v in 'abcdefghijklmnopqrstuvwxyz':\n",
    "        rack_word1 = [w.replace('?', v) for w in rack_split]  \n",
    "        rack_word1.sort()\n",
    "        rack_word=''.join(rack_word1)\n",
    "        rack_list.append(rack_word)  \n",
    "else:\n",
    "    print(\"Error: You failed to provide valid wildcards. Wildcards can be either * or ?, and a total of two wild cards at most (one of each character).\")\n",
    "    \n",
    "\n",
    "print(rack_list, len(rack_list))\n",
    "\n",
    "\n"
   ]
  }
 ],
 "metadata": {
  "kernelspec": {
   "display_name": "Python 3",
   "language": "python",
   "name": "python3"
  },
  "language_info": {
   "codemirror_mode": {
    "name": "ipython",
    "version": 3
   },
   "file_extension": ".py",
   "mimetype": "text/x-python",
   "name": "python",
   "nbconvert_exporter": "python",
   "pygments_lexer": "ipython3",
   "version": "3.6.3"
  }
 },
 "nbformat": 4,
 "nbformat_minor": 2
}
