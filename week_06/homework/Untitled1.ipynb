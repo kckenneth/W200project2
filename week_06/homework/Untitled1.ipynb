{
 "cells": [
  {
   "cell_type": "code",
   "execution_count": null,
   "metadata": {
    "collapsed": true
   },
   "outputs": [],
   "source": [
    "with open(\"sowpods.txt\",\"r\") as infile:\n",
    "    raw_input = infile.readlines()\n",
    "    data = [datum.strip('\\n') for datum in raw_input]\n",
    "    \n",
    "def count_letters(word):\n",
    "    count = {}\n",
    "    for letter in word.lower():\n",
    "        count[letter] = count.get(letter,0) + 1\n",
    "    return count\n",
    "\n",
    "d = {}\n",
    "for word in f:\n",
    "    \n",
    "    \n",
    "f = open('/usr/share/dict/words')\n",
    "d = {}\n",
    "lets = set('abcdefghijklmnopqrstuvwxyz\\n')\n",
    "for word in f:\n",
    "  if len(set(word) - lets) == 0 and len(word) > 2 and len(word) < 9:\n",
    "    word = word.strip()\n",
    "    key = ''.join(sorted(word))\n",
    "    if key in d:\n",
    "      d[key].append(word)\n",
    "    else:\n",
    "      d[key] = [word]\n",
    "f.close()\n",
    "anadict = [' '.join([key]+value) for key, value in d.iteritems()]\n",
    "anadict.sort()\n",
    "f = open('anadict.txt','w')\n",
    "f.write('\\n'.join(anadict))\n",
    "f.close()"
   ]
  }
 ],
 "metadata": {
  "kernelspec": {
   "display_name": "Python 3",
   "language": "python",
   "name": "python3"
  },
  "language_info": {
   "codemirror_mode": {
    "name": "ipython",
    "version": 3
   },
   "file_extension": ".py",
   "mimetype": "text/x-python",
   "name": "python",
   "nbconvert_exporter": "python",
   "pygments_lexer": "ipython3",
   "version": "3.6.3"
  }
 },
 "nbformat": 4,
 "nbformat_minor": 2
}
