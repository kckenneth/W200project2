{
 "cells": [
  {
   "cell_type": "code",
   "execution_count": 12,
   "metadata": {},
   "outputs": [
    {
     "name": "stdout",
     "output_type": "stream",
     "text": [
      "\n",
      "/Users/HaihuiCao/anaconda3/lib/python36.zip\n",
      "/Users/HaihuiCao/anaconda3/lib/python3.6\n",
      "/Users/HaihuiCao/anaconda3/lib/python3.6/lib-dynload\n",
      "/Users/HaihuiCao/anaconda3/lib/python3.6/site-packages\n",
      "/Users/HaihuiCao/anaconda3/lib/python3.6/site-packages/aeosa\n",
      "/Users/HaihuiCao/anaconda3/lib/python3.6/site-packages/IPython/extensions\n",
      "/Users/HaihuiCao/.ipython\n"
     ]
    }
   ],
   "source": [
    "import sys\n",
    "for place in sys.path:\n",
    "    print(place)\n",
    "\n"
   ]
  },
  {
   "cell_type": "code",
   "execution_count": 4,
   "metadata": {},
   "outputs": [
    {
     "name": "stdout",
     "output_type": "stream",
     "text": [
      "Enter a board size: 5\n",
      "[[0, 0, 0, 0, 0], [0, 0, 0, 0, 0], [0, 0, 0, 0, 0], [0, 0, 0, 0, 0], [0, 0, 0, 0, 0]]\n"
     ]
    }
   ],
   "source": [
    "n = int(input(\"Enter a board size: \"))\n",
    "arr = [[0 for x in range(n)] for y in range(n)]\n",
    "print(arr)"
   ]
  },
  {
   "cell_type": "markdown",
   "metadata": {
    "collapsed": true
   },
   "source": [
    "# standalone program"
   ]
  },
  {
   "cell_type": "code",
   "execution_count": 9,
   "metadata": {},
   "outputs": [
    {
     "name": "stdout",
     "output_type": "stream",
     "text": [
      "HW_6_Spring_2018-StudentVer.ipynb piggy.py\r\n",
      "Week_06_Activity.ipynb            showarguments.py\r\n",
      "\u001b[34m__pycache__\u001b[m\u001b[m                       wraps.py\r\n",
      "modules_import.ipynb\r\n"
     ]
    }
   ],
   "source": [
    "!ls"
   ]
  },
  {
   "cell_type": "code",
   "execution_count": 10,
   "metadata": {},
   "outputs": [
    {
     "name": "stdout",
     "output_type": "stream",
     "text": [
      "program arguments:  ['showarguments.py']\r\n"
     ]
    }
   ],
   "source": [
    "!python showarguments.py\n"
   ]
  },
  {
   "cell_type": "code",
   "execution_count": 13,
   "metadata": {},
   "outputs": [
    {
     "name": "stdout",
     "output_type": "stream",
     "text": [
      "program arguments:  ['showarguments.py', 'Arg1', 'arg2']\r\n"
     ]
    }
   ],
   "source": [
    "!python showarguments.py Arg1 arg2"
   ]
  },
  {
   "cell_type": "markdown",
   "metadata": {},
   "source": [
    "# Modules and the import statement\n",
    "\n",
    "module: .py file\n",
    "\n"
   ]
  },
  {
   "cell_type": "code",
   "execution_count": 19,
   "metadata": {},
   "outputs": [
    {
     "name": "stdout",
     "output_type": "stream",
     "text": [
      "### [Haihui Cao's answer on 5-1-1 Nested (\"Wrapped\") Functions]\n",
      "### The arguments of the functions are intergers.\n",
      "### Disclaimer:this program didn't check the exception errors from the wrong input type.\n",
      "\n",
      "\n",
      "# sum_digits function\n",
      "\n",
      "def sum_digits(num):\n",
      "    \"takes an int and returns the sum of its (positive value) digits.\"\n",
      "\n",
      "    # turn num into a list using comprehension. disregard the minus sign if num is negative.\n",
      "    lst = [int(i) for i in str(num) if i in \"0123456789\"]\n",
      "\n",
      "    # add all numbers in lst\n",
      "    return sum(lst)\n",
      "\n",
      "# diff_sum_digits function\n",
      "\n",
      "def diff_sum_digits(num):\n",
      "    \"calls sum_digits function and compute the input number minus the sum of digits of input number.\"\n",
      "\n",
      "    temp_val = sum_digits(num)\n",
      "    return num - temp_val\n",
      "\n",
      "\n",
      "# wraps_diff_sum_digits function\n",
      "\n",
      "def wraps_diff_sum_digits(num):\n",
      "    \"\"\"calls diff_sum_digits function.\n",
      "    If diff_sum_digits returns a result that has more than one digit(either negative or positive),\n",
      "    have this new function replace the result with the sum of the digits of the result.\n",
      "    Do this repeatedly until the result has just one digit, then display it.\"\"\"\n",
      "\n",
      "    result = diff_sum_digits(num)\n",
      "\n",
      "    while len(str(result)) > 1:\n",
      "        result = sum_digits(result)\n",
      "\n",
      "    return result\n",
      "### is_consonant function\n",
      "\n",
      "def is_consonant(char):\n",
      "\n",
      "    \"takes a character and returns True if it is a consonant\"\n",
      "\n",
      "    if char not in 'aeiou':\n",
      "        return True\n",
      "    else:\n",
      "        return False\n",
      "\n",
      "### to_piglatin function\n",
      "\n",
      "def to_piglatin(words):\n",
      "\n",
      "    \"\"\"takes a word, moves all starting consonants (all consonants before the first vowel) to the end of the word,\n",
      "    then adds ay to the end and returns the result.\n",
      "    Have this function check whether or not the input is multiple words and return the whole sentence in pig latin.\n",
      "    For this you may assume that a sentence always ends with a period and the input is always one sentence,\n",
      "    never more than one.\n",
      "\n",
      "    This function also assumes that the sentence only contains letters and ',', no numbers and other characters. \"\"\"\n",
      "\n",
      "    # check whether or not input is a sentence with a period at the end.\n",
      "    #if yes, return the whole sentence in pig latin\n",
      "\n",
      "\n",
      "    # Check whether or not a sentence. If yes, get rid of '.' and split the sentence to word list\n",
      "\n",
      "    # the sentence\n",
      "\n",
      "    if words[-1] == '.':\n",
      "\n",
      "        splitword=words[:-1].split()\n",
      "\n",
      "        # newwordlst is a list that holds the the pig latin words in the sentence\n",
      "        # check each word in the list for the first vowel and get its index number,\n",
      "        # then stop the loop after finding the first vowel for each word using break statement.\n",
      "        # make the new word using the found index number and pig latin rule.\n",
      "        # append the pig latin word to the newwordlst\n",
      "\n",
      "\n",
      "        newwordlst=[]\n",
      "\n",
      "        for word in splitword:\n",
      "            for char in word:\n",
      "\n",
      "                # assumes the word in the sentence only contains letters, no numbers or other characters.\n",
      "                # numbers or other characters will be treated as vowels if existed.\n",
      "\n",
      "                if not is_consonant(char):\n",
      "                    j = word.index(char)\n",
      "                    break\n",
      "\n",
      "            # This program only checks if ',' in the word. if yes, move ',' to the end of newword\n",
      "            # the other special characters other than ',' in the middle of the sentence\n",
      "            # are assumed out of the scope of the function.\n",
      "\n",
      "            if ',' not in word:\n",
      "                newword=word[j].upper() + word[j+1:].lower() + word[0:j].lower() + \"ay\"\n",
      "\n",
      "            else:\n",
      "                newword=word[j].upper() + word[j+1:-1].lower() + word[0:j].lower() + \"ay,\"\n",
      "\n",
      "            newwordlst.append(newword)\n",
      "\n",
      "        # turn the newwordlst into a string, add the period at the end, return the string\n",
      "\n",
      "        return ' '.join(newwordlst) + '.'\n",
      "\n",
      "    # if not a sentence, check the word for the first vowel, and get the index of the first vowel\n",
      "\n",
      "    else:\n",
      "        for char in words:\n",
      "            if not is_consonant(char):\n",
      "                j = words.index(char)\n",
      "                break\n",
      "        newword=words[j].upper() + words[j+1:].lower() + words[0:j].lower() + \"ay\"\n",
      "        return newword\n",
      "\n",
      "print(\"to_piglatin('stay') -> \", to_piglatin('stay'))\n",
      "print(\"to_piglatin('Jared') -> \", to_piglatin('Jared'))\n",
      "print(\"to_piglatin('and') -> \", to_piglatin('and'))\n",
      "print(\"to_piglatin('car') -> \", to_piglatin('car'))\n",
      "print(\"to_piglatin('You need to stay in the car, not in the builing, not in the cafe.') -> \", to_piglatin('You need to stay in the car, not in the builing, not in the cafe.'))\n"
     ]
    }
   ],
   "source": [
    "!cat wraps.py\n",
    "!cat piggy.py"
   ]
  },
  {
   "cell_type": "code",
   "execution_count": 17,
   "metadata": {},
   "outputs": [
    {
     "data": {
      "text/plain": [
       "32"
      ]
     },
     "execution_count": 17,
     "metadata": {},
     "output_type": "execute_result"
    }
   ],
   "source": [
    "import wraps\n",
    "wraps.sum_digits(9995)"
   ]
  },
  {
   "cell_type": "code",
   "execution_count": 18,
   "metadata": {},
   "outputs": [
    {
     "data": {
      "text/plain": [
       "32"
      ]
     },
     "execution_count": 18,
     "metadata": {},
     "output_type": "execute_result"
    }
   ],
   "source": [
    "from wraps import sum_digits\n",
    "sum_digits(9995)"
   ]
  },
  {
   "cell_type": "code",
   "execution_count": 22,
   "metadata": {},
   "outputs": [
    {
     "data": {
      "text/plain": [
       "'Aulpay'"
      ]
     },
     "execution_count": 22,
     "metadata": {},
     "output_type": "execute_result"
    }
   ],
   "source": [
    "import piggy\n",
    "piggy.to_piglatin('Paul')"
   ]
  },
  {
   "cell_type": "markdown",
   "metadata": {},
   "source": [
    "# package\n",
    "  \n",
    " folder. \n",
    " \n",
    " In the folder, make a   __init__.py file so that it is a python package"
   ]
  },
  {
   "cell_type": "code",
   "execution_count": 25,
   "metadata": {},
   "outputs": [
    {
     "name": "stdout",
     "output_type": "stream",
     "text": [
      "HW_6_Spring_2018-StudentVer.ipynb modules_import.ipynb\r\n",
      "Week_06_Activity.ipynb            piggy.py\r\n",
      "__init__.py                       showarguments.py\r\n",
      "\u001b[34m__pycache__\u001b[m\u001b[m                       wraps.py\r\n"
     ]
    }
   ],
   "source": [
    "!ls"
   ]
  },
  {
   "cell_type": "code",
   "execution_count": 29,
   "metadata": {},
   "outputs": [],
   "source": [
    "!touch __init__.py"
   ]
  },
  {
   "cell_type": "code",
   "execution_count": 27,
   "metadata": {},
   "outputs": [
    {
     "ename": "ModuleNotFoundError",
     "evalue": "No module named 'week_06'",
     "output_type": "error",
     "traceback": [
      "\u001b[0;31m---------------------------------------------------------------------------\u001b[0m",
      "\u001b[0;31mModuleNotFoundError\u001b[0m                       Traceback (most recent call last)",
      "\u001b[0;32m<ipython-input-27-fb7d1b05f180>\u001b[0m in \u001b[0;36m<module>\u001b[0;34m()\u001b[0m\n\u001b[0;32m----> 1\u001b[0;31m \u001b[0;32mfrom\u001b[0m \u001b[0mweek_06\u001b[0m \u001b[0;32mimport\u001b[0m \u001b[0mwraps\u001b[0m\u001b[0;34m,\u001b[0m \u001b[0mpiggy\u001b[0m\u001b[0;34m\u001b[0m\u001b[0m\n\u001b[0m\u001b[1;32m      2\u001b[0m \u001b[0mwraps\u001b[0m\u001b[0;34m.\u001b[0m\u001b[0msum_digits\u001b[0m\u001b[0;34m(\u001b[0m\u001b[0;36m9995\u001b[0m\u001b[0;34m)\u001b[0m\u001b[0;34m\u001b[0m\u001b[0m\n\u001b[1;32m      3\u001b[0m \u001b[0mpiggy\u001b[0m\u001b[0;34m.\u001b[0m\u001b[0mto_piglatin\u001b[0m\u001b[0;34m(\u001b[0m\u001b[0;34m'Paul'\u001b[0m\u001b[0;34m)\u001b[0m\u001b[0;34m\u001b[0m\u001b[0m\n",
      "\u001b[0;31mModuleNotFoundError\u001b[0m: No module named 'week_06'"
     ]
    }
   ],
   "source": [
    "from week_06 import wraps, piggy\n",
    "wraps.sum_digits(9995)\n",
    "piggy.to_piglatin('Paul')"
   ]
  }
 ],
 "metadata": {
  "kernelspec": {
   "display_name": "Python 3",
   "language": "python",
   "name": "python3"
  },
  "language_info": {
   "codemirror_mode": {
    "name": "ipython",
    "version": 3
   },
   "file_extension": ".py",
   "mimetype": "text/x-python",
   "name": "python",
   "nbconvert_exporter": "python",
   "pygments_lexer": "ipython3",
   "version": "3.6.3"
  }
 },
 "nbformat": 4,
 "nbformat_minor": 2
}
