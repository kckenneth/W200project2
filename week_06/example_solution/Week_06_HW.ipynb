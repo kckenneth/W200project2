{
 "cells": [
  {
   "cell_type": "markdown",
   "metadata": {},
   "source": [
    "## Week 6 Assignment - W18 MIDS Python\n",
    "\n",
    "Assignment due date: Midnight the night before the Week 7 Live Session."
   ]
  },
  {
   "cell_type": "markdown",
   "metadata": {},
   "source": [
    "# Part 1 Coding practice **reading and response**\n",
    "\n",
    "Your task for this week is to write a 250 word reading response to the article below. In addition, please list **3 questions** that you have from the article. Please write your response in a markdown cell, below this cell in the notebook.\n",
    "\n",
    "The writing response is a free response, so you may write about your reactions. An interesting thing that you saw in the article, something that really stuck out to you, etc.\n",
    "\n",
    "**Article**: [The PEP 8 Style Guide](https://www.python.org/dev/peps/pep-0008/#overriding-principle). This document is really important for Python coders because it describes best practices and customs for how one should write Python code. Please read it all and prepare your questions for class."
   ]
  },
  {
   "cell_type": "markdown",
   "metadata": {},
   "source": [
    "In the constant struggle of deciding how best to format code to make it intuitive, consistent, and easy to pick up again later, this PEP-8 style guide is helpful.  It makes the important point that code is usually read more frequently than it is written, particularly in teams of developers.  In my own professional experience, it’s not unusual for (messy) programs (in SAS) to be inhereted and built-upon when colleagues move on to other roles or organizations.  As the guide illustrates, techniques such as indentation, white space, and thorough, clear commenting can be huge time savers for others as well as the original author.  The more sections of programs can be logically segmented into consolidated modules and functions with proper white space and comments, the easier it is to edit or replace pieces of code down the road.  Specifically, programs should be introduced with docstrings explaining the purpose and origin of the program, plus with the use of any imported modules called at the beginning, so a reader understands what Python packages are being relied on.  Next, functions should be separated with two lines of white space, with comments written in full sentences of proper English in triple quotes.  Similarly, variable and function names should each have consistent naming conventions that are sufficiently descriptive for readers to understand their purposes, with tricks such as making the names of constants entirely capitalized.  All of these techniques minimize the time and effort spent going back and forth between codes, documentation, and if possible, program authors.\n",
    "\n",
    "Questions (3):\n",
    "1.\tWhy are tabs and spaces treated differently in Python3? Why no mixing?\n",
    "2.\tWhy no spaces when using default values in function parameters, but then use spaces for annotations with default values?\n",
    "3.\tHow does ‘finally’ work in ‘raise…try…finally’ error-handling?"
   ]
  },
  {
   "cell_type": "markdown",
   "metadata": {
    "collapsed": true
   },
   "source": [
    " "
   ]
  },
  {
   "cell_type": "markdown",
   "metadata": {},
   "source": [
    "# Part 2  - Cheating at Scrabble\n",
    "\n",
    "Write a Python script that takes a Scrabble rack **as a command-line argument** and prints all valid Scrabble words that can be constructed from that rack, along with their Scrabble scores, sorted by score. Valid Scrabble words are provided in the data source below.  A Scrabble rack is made up of any 7 characters.\n",
    "\n",
    "## There are a few of requirements:\n",
    "\n",
    "- This needs to be able to be **run as a command line tool** as you'll see below.\n",
    "- Please include a function called `score_word` in a separate module.  Import this function into your main solution code.\n",
    "- You need to handle input errors from the user and suggest what that error might be caused by (helpful error messages).\n",
    "- Implement wildcards as either `*` or `?`. That is, let the user specify a wildcard character that can take any value. There can be a total of two wild cards in any user input (one of each character).\n",
    "\n",
    "## Extra Credit (+10 points):\n",
    "\n",
    "- Allow a user to specify that a certain letter has to be at a certain location. Your program must work without it so this should be completely optional. For the extra credit, locations of certain letters must be specified at the command line, **it may not be some sort of user prompt.**\n",
    "\n",
    "\n",
    "## Example \n",
    "An example invocation and output:\n",
    "\n",
    "```sh\n",
    "$ python scrabble.py ZAEFIEE\n",
    "17 feeze\n",
    "17 feaze\n",
    "16 faze\n",
    "15 fiz\n",
    "15 fez\n",
    "12 zee\n",
    "12 zea\n",
    "11 za\n",
    "6 fie\n",
    "6 fee\n",
    "6 fae\n",
    "5 if\n",
    "5 fe\n",
    "5 fa\n",
    "5 ef\n",
    "2 ee\n",
    "2 ea\n",
    "2 ai\n",
    "2 ae\n",
    "```\n",
    "\n",
    "\n",
    "## The Data\n",
    "http://courses.cms.caltech.edu/cs11/material/advjava/lab1/sowpods.zip contains all words in the official SOWPODS word list, one word per line. You should download the word file and keep it in your repository so that the program is standalone (instead of accessing it over the web from Python).\n",
    "\n",
    "You can read data from a text file with the following code:\n",
    "```python\n",
    "with open(\"sowpods.txt\",\"r\") as infile:\n",
    "    raw_input = infile.readlines()\n",
    "    data = [datum.strip('\\n') for datum in raw_input]\n",
    "print(data[0:6])\n",
    "``` \n",
    "\n",
    "\n",
    "\n",
    "Here is a dictionary containing all letters and their Scrabble values:\n",
    "```python\n",
    "scores = {\"a\": 1, \"c\": 3, \"b\": 3, \"e\": 1, \"d\": 2, \"g\": 2,\n",
    "         \"f\": 4, \"i\": 1, \"h\": 4, \"k\": 5, \"j\": 8, \"m\": 3,\n",
    "         \"l\": 1, \"o\": 1, \"n\": 1, \"q\": 10, \"p\": 3, \"s\": 1,\n",
    "         \"r\": 1, \"u\": 1, \"t\": 1, \"w\": 4, \"v\": 4, \"y\": 4,\n",
    "         \"x\": 8, \"z\": 10}\n",
    "``` \n",
    "\n",
    "## Tips\n",
    "We recommend that you work on this and try to break down the problems into steps on your own before writing any code. Once you've scoped generally what you want to do, start writing some code and if you get stuck, take a step back and go back to thinking about the problem rather than trying to fix lots of errors at the code level. You should only use the Python standard library in this assignment, however any tool in there is fair game.\n",
    "\n",
    "## Tips Part 2\n",
    "If you keep getting stuck check out: https://openhatch.org/wiki/Scrabble_challenge. This is where we got the idea for this assignment and it provides some helpful tips for guiding you along the way. If that link doesn't work you can use the [google cached version here](http://webcache.googleusercontent.com/search?q=cache:https://openhatch.org/wiki/Scrabble_challenge). However I would sincerely recommend that you try to implement this first yourself before looking at the hints on the website.\n",
    "\n",
    "Good luck!\n",
    " "
   ]
  },
  {
   "cell_type": "code",
   "execution_count": 3,
   "metadata": {
    "collapsed": false
   },
   "outputs": [
    {
     "name": "stdout",
     "output_type": "stream",
     "text": [
      "17 feeze\n",
      "17 feaze\n",
      "16 faze\n",
      "15 fiz\n",
      "15 fez\n",
      "12 zee\n",
      "12 zea\n",
      "11 za\n",
      "6 fie\n",
      "6 fee\n",
      "6 fae\n",
      "5 if\n",
      "5 fe\n",
      "5 fa\n",
      "5 ef\n",
      "2 ee\n",
      "2 ea\n",
      "2 ai\n",
      "2 ae\n"
     ]
    }
   ],
   "source": [
    "!python scrabble.py ZAEFIEE"
   ]
  },
  {
   "cell_type": "code",
   "execution_count": 35,
   "metadata": {
    "collapsed": false
   },
   "outputs": [
    {
     "name": "stdout",
     "output_type": "stream",
     "text": [
      "['AA', 'AAH', 'AAHED', 'AAHING', 'AAHS', 'AAL']\n",
      "Rack: ZAEFIEE\n",
      "17 feeze\n",
      "17 feaze\n",
      "16 faze\n",
      "15 fiz\n",
      "15 fez\n",
      "12 zee\n",
      "12 zea\n",
      "11 za\n",
      "6 fie\n",
      "6 fee\n",
      "6 fae\n",
      "5 if\n",
      "5 fe\n",
      "5 fa\n",
      "5 ef\n",
      "2 ee\n",
      "2 ea\n",
      "2 ai\n",
      "2 ae\n"
     ]
    }
   ],
   "source": [
    "import sys\n",
    "from scores import score_word\n",
    "\n",
    "def scrabble(args):\n",
    "    if len(args) > 2:\n",
    "        raise Exception(\"More than one argument. Must use one string for scrabble rack.\")\n",
    "    elif len(args[1]) > 7:\n",
    "        raise Exception(\"Too many characters in scrabble rack. Try again.\")\n",
    "    else:\n",
    "        rack = str(args[1].upper())\n",
    "        # print(rack)\n",
    "\n",
    "        # 1. Read in text file of all words\n",
    "        with open(\"sowpods.txt\",\"r\") as infile:\n",
    "            raw_input = infile.readlines()\n",
    "            all_words = [datum.strip('\\n') for datum in raw_input]\n",
    "        print(all_words[0:6])\n",
    "\n",
    "        # 2. Get rack from command line\n",
    "        # rack = str(input(\"Rack: \")).upper() #temp input\n",
    "\n",
    "        # 3. Go thru every word in the valid word list\n",
    "        valid_words = []\n",
    "        for word in all_words:\n",
    "            temp = [c for c in rack]\n",
    "            count = 0\n",
    "\n",
    "            for char in word:\n",
    "                if char in temp:\n",
    "                    count += 1\n",
    "                    temp.remove(char)\n",
    "                elif \"*\" in temp:\n",
    "                    count += 1\n",
    "                    temp.remove(\"*\")\n",
    "                elif \"?\" in temp:\n",
    "                    count += 1\n",
    "                    temp.remove(\"?\")\n",
    "                else:\n",
    "                    break\n",
    "                if len(word) == count:\n",
    "                    valid_words.append(word.lower())\n",
    "\n",
    "        # print(valid_words)\n",
    "        # print(len(valid_words))\n",
    "\n",
    "        # 4. Score each word in the list using score dict\n",
    "        scored_list = []\n",
    "        for word in valid_words:\n",
    "            scored_list.append([score_word(word), word])\n",
    "        sorted_scores = sorted(scored_list)\n",
    "        for pair in sorted_scores[::-1]:\n",
    "            print(pair[0], pair[1])\n",
    "        return None\n",
    "\n",
    "try:\n",
    "    scrabble(sys.argv)\n",
    "except Exception as e:\n",
    "    print(str(e))"
   ]
  },
  {
   "cell_type": "code",
   "execution_count": null,
   "metadata": {
    "collapsed": true
   },
   "outputs": [],
   "source": [
    "#to live in an external module\n",
    "def score_word(word): \n",
    "    \"\"\"Calculate score of string parameter\"\"\"\n",
    "    scores = {\"a\": 1, \"c\": 3, \"b\": 3, \"e\": 1, \"d\": 2, \"g\": 2,\n",
    "         \"f\": 4, \"i\": 1, \"h\": 4, \"k\": 5, \"j\": 8, \"m\": 3,\n",
    "         \"l\": 1, \"o\": 1, \"n\": 1, \"q\": 10, \"p\": 3, \"s\": 1,\n",
    "         \"r\": 1, \"u\": 1, \"t\": 1, \"w\": 4, \"v\": 4, \"y\": 4,\n",
    "         \"x\": 8, \"z\": 10}\n",
    "    score = 0\n",
    "    for char in word.lower():\n",
    "        score += scores[char]\n",
    "    return score\n",
    "# end module"
   ]
  }
 ],
 "metadata": {
  "anaconda-cloud": {},
  "kernelspec": {
   "display_name": "Python [conda root]",
   "language": "python",
   "name": "conda-root-py"
  },
  "language_info": {
   "codemirror_mode": {
    "name": "ipython",
    "version": 3
   },
   "file_extension": ".py",
   "mimetype": "text/x-python",
   "name": "python",
   "nbconvert_exporter": "python",
   "pygments_lexer": "ipython3",
   "version": "3.5.2"
  }
 },
 "nbformat": 4,
 "nbformat_minor": 0
}
