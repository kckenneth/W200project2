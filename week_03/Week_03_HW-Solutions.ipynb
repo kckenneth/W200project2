{
 "cells": [
  {
   "cell_type": "markdown",
   "metadata": {},
   "source": [
    "## Week 3 Assignment - W18 MIDS python"
   ]
  },
  {
   "cell_type": "markdown",
   "metadata": {},
   "source": [
    "Write code in this Jupyter Notebook to solve each of the following problems. Each problem should have its solution in a separate cell. Please upload this Notebook with your solutions to your GitHub repository in your week_3 folder by the midnight before class."
   ]
  },
  {
   "cell_type": "markdown",
   "metadata": {
    "collapsed": true
   },
   "source": [
    "### 3-1. Pig Latin Translator\n",
    "\n",
    "Write code that translates names into a (simplified) Pig Latin. Have your script ask the user for his or her name. For each part of the name, move the first letter to the end of the name and add the letters \"ay\".  Make sure that only the first letter of eacn word in your output is capitalized. You can use the `split()` method on the string to create a list of the name segments.\n",
    "\n",
    "** Hint: Be sure that your script can handle one, two or three names. This will likely involve a loop.**\n",
    "\n",
    "Your script should re-create the following behavior exactly:\n",
    "\n",
    "```\n",
    "Enter your name: Paul Laskowski\n",
    "Aulpay Askowskilay\n",
    "```"
   ]
  },
  {
   "cell_type": "code",
   "execution_count": 3,
   "metadata": {},
   "outputs": [
    {
     "name": "stdout",
     "output_type": "stream",
     "text": [
      "Enter a name to translate into Pig Latin: Jack Back Doit\n",
      "['Jack', 'Back', 'Doit']\n",
      "Ackjay Ackbay Oitday "
     ]
    }
   ],
   "source": [
    "### [W18 intstructors]\n",
    "\n",
    "name = input(\"Enter a name to translate into Pig Latin: \")\n",
    "\n",
    "name_list = str.split(name)\n",
    "print(name_list)\n",
    "#there are two ways to call this\n",
    "#name_list = name.split()\n",
    "\n",
    "while name_list != []:\n",
    "\n",
    "    this_word = name_list.pop(0)\n",
    "    if len(this_word)==1:\n",
    "        updated_word = this_word[0].upper() + \"ay\"\n",
    "    else:\n",
    "        updated_word = this_word[1].upper() + this_word[2:] + this_word[0].lower() + \"ay\"\n",
    "    print(updated_word, end = \" \")"
   ]
  },
  {
   "cell_type": "markdown",
   "metadata": {
    "collapsed": true
   },
   "source": [
    "### 3-2. Matrix Inverter\n",
    "\n",
    "One place tuples are convenient is in the representation of matrices.  Label the values in a 2x2 matrix as follows:\n",
    "$$\n",
    "\\begin{bmatrix}\n",
    "    a       & b  \\\\\n",
    "    c       & d\n",
    "\\end{bmatrix}\n",
    "$$\n",
    "Write code that asks the user for a text string including the four values, a, b, c, and d, separated by spaces.  You can use the `split()` method on the string to create a list of the four values in order.\n",
    "\n",
    "Create a tuple that represents each row, then create a tuple that contains those two tuples.  It should have the form `((a, b), (c, d))`.  Print this representation.\n",
    "\n",
    "The inverse of the matrix above is given by the formula,\n",
    "\n",
    "$$\n",
    "\\frac{1}{ad-bc} \\begin{bmatrix}\n",
    "    d       & -b  \\\\\n",
    "    -c       & a\n",
    "\\end{bmatrix}\n",
    "$$\n",
    "\n",
    "Compute the inverse of the given matrix, again represented as nested tuples, and print this representation. Use the example below to make sure you understand the equation correctly.  For example:\n",
    "\n",
    "\n",
    "input: 1 2 3 4\n",
    "\n",
    "output:\n",
    "```\n",
    "matrix: ((1.0, 2.0), (3.0, 4.0))\n",
    "inverse: ((-2.0, 1.0), (1.5, -0.5))\n",
    "```"
   ]
  },
  {
   "cell_type": "code",
   "execution_count": 4,
   "metadata": {},
   "outputs": [
    {
     "name": "stdout",
     "output_type": "stream",
     "text": [
      "Input four numbers separated by spaces: 1 2 3 4\n",
      "matrix: ((1.0, 2.0), (3.0, 4.0))\n",
      "inverse:  ((-2.0, 1.0), (1.5, -0.5))\n"
     ]
    }
   ],
   "source": [
    "### [W18 instructors]\n",
    "\n",
    "numbers = input(\"Input four numbers separated by spaces: \").split()\n",
    "\n",
    "a = float(numbers[0])\n",
    "b = float(numbers[1])\n",
    "c = float(numbers[2])\n",
    "d = float(numbers[3])\n",
    "\n",
    "num_tup = ((a, b), (c, d))\n",
    "print(\"matrix:\" , num_tup)\n",
    "\n",
    "inverse_a = 1/((a * d) - (b * c)) * a\n",
    "inverse_b = 1/((a * d) - (b * c)) * b\n",
    "inverse_c = 1/((a * d) - (b * c)) * c\n",
    "inverse_d = 1/((a * d) - (b * c)) * d\n",
    "\n",
    "inv_tup = ((inverse_d, -inverse_b), (-inverse_c, inverse_a))\n",
    "print(\"inverse: \", inv_tup)"
   ]
  },
  {
   "cell_type": "markdown",
   "metadata": {},
   "source": [
    "### 3-3 Create a to-do list program using a dictionary of lists\n",
    "\n",
    "Write a program that stores a to-do list for each day of the week (Sunday through Saturday). Your program should have the following elements:\n",
    "\n",
    "1. An empty dictionary to store information\n",
    "\n",
    "3. A key for each day of the week\n",
    "\n",
    "4. Each key has a value of a list that stores items\n",
    "\n",
    "5. User is prompted to add to or view to-do list\n",
    "\n",
    "6. User can type \"add\" program will ask what day and add it correctly\n",
    "\n",
    "7. User can type \"get\" and the program will ask for the day and print the values\n",
    "\n",
    "8. The program will loop, using a while loop, until the user specifies \"quit\"\n",
    "\n",
    "** Hint: This task requires you to use tools you learned about in Unit 2 (\"if\" and \"loops\") along with dictionaries and lists.**\n",
    "\n",
    "Example:\n",
    "```\n",
    "Prompt: What would you like to do?\n",
    "add\n",
    "\n",
    "Prompt: What day?\n",
    "Friday\n",
    "\n",
    "Prompt: What would you like to add to Friday's to-do list?\n",
    "practice clarinet\n",
    "\n",
    "Prompt: What would you like to do?\n",
    "get\n",
    "\n",
    "Prompt: What day?\n",
    "Friday\n",
    "\n",
    "Response: You have to practice clarinet.\n",
    "\n",
    "Prompt: What would you like to do?\n",
    "quit\n",
    "\n",
    "Response: Ending program. Thank you for using the to-do list!\n",
    "```"
   ]
  },
  {
   "cell_type": "code",
   "execution_count": 6,
   "metadata": {},
   "outputs": [
    {
     "name": "stdout",
     "output_type": "stream",
     "text": [
      "What would you like to do (get, add, quit)? add\n",
      "What day ? FriDaY\n",
      "What would you like to add ? Practice claranet\n",
      "What would you like to do (get, add, quit)? get \n",
      "Error: type an allowed action (get, add, quit)\n",
      "What would you like to do (get, add, quit)? get\n",
      "What day ? friday\n",
      "this is the friday list: ['Practice claranet']\n",
      "What would you like to do (get, add, quit)? add\n",
      "What day ? friday\n",
      "What would you like to add ? tie my shoes\n",
      "What would you like to do (get, add, quit)? get \n",
      "Error: type an allowed action (get, add, quit)\n",
      "What would you like to do (get, add, quit)? get\n",
      "What day ? friday\n",
      "this is the friday list: ['Practice claranet', 'tie my shoes']\n",
      "What would you like to do (get, add, quit)? quit\n"
     ]
    }
   ],
   "source": [
    "### [W18 instructors]\n",
    "# intitialze the dictionary\n",
    "ToDoDict ={'monday':[], 'tuesday':[], \n",
    "           'wednesday':[], 'thursday':[], \n",
    "           'friday':[], 'saturday':[], 'sunday':[]}\n",
    "\n",
    "#print(ToDoDict)\n",
    "\n",
    "action='start' # start with a space holder action\n",
    "# lists of allowed inputs\n",
    "weekLs=['monday', 'tuesday', 'wednesday', 'thursday', 'friday', 'saturday', 'sunday']\n",
    "actionLs= ['get', 'add', 'quit']\n",
    "#print(ToDoDict)\n",
    "#print(action!='quit')\n",
    "\n",
    "while action != \"quit\": \n",
    "    action=input('What would you like to do (get, add, quit)? ')\n",
    "    #print(ToDoDict)\n",
    "    if action in actionLs:\n",
    "        if action != \"quit\":\n",
    "            day =(input('What day ? ')).lower() \n",
    "            if day in weekLs:\n",
    "                if action == 'get':\n",
    "                    #ToDoItem = ToDoDict.get(day)\n",
    "                    ToDoItem =str(ToDoDict[day][::])\n",
    "                    print ('this is the ' +  day + ' list: ' + ToDoItem)\n",
    "                elif action == 'add': \n",
    "                    addItem= input('What would you like to add ? ')\n",
    "                    #ToDoDict[day] = addItem\n",
    "                    ToDoDict[day].append(addItem)\n",
    "                #elif action == 'quit':\n",
    "                    #break\n",
    "            else: \n",
    "                print('Error: type an allowed day (Monday, Tuesday, Wednesday, Thursday, Friday, Saturday, Sunday)')\n",
    "    else:\n",
    "        print('Error: type an allowed action (get, add, quit)')\n",
    "          "
   ]
  },
  {
   "cell_type": "markdown",
   "metadata": {},
   "source": [
    "### 3-4 Fibonacci\n",
    "\n",
    "The Fibonacci numbers begin with 1, 1.  After the first two numbers, each number is the sum of the previous two. 1 + 1 = 2, so 2 is the third number. Then 1 + 2 = 3, so 3 is the next one, and so on. Write a script that prompts the user for a number, then prints all the Fibonacci numbers that are less than or equal to the input, in order.\n",
    "\n",
    "```\n",
    "Enter a number: 15\n",
    "1 1 2 3 5 8 13\n",
    "```"
   ]
  },
  {
   "cell_type": "code",
   "execution_count": 10,
   "metadata": {},
   "outputs": [
    {
     "name": "stdout",
     "output_type": "stream",
     "text": [
      "Enter a number: 15\n",
      "[1, 1, 2, 3, 5, 8, 13]\n"
     ]
    }
   ],
   "source": [
    "### [W18 python instructors]\n",
    "\n",
    "fibnum = int(input(\"Enter a number: \"))\n",
    "cnum=fibnum\n",
    "NumLs=[1,1]\n",
    "while cnum <= fibnum:\n",
    "    cnum=NumLs[len(NumLs)-1] + NumLs[len(NumLs)-2]\n",
    "    NumLs.append(cnum)\n",
    "print (NumLs[:-1])"
   ]
  },
  {
   "cell_type": "markdown",
   "metadata": {},
   "source": [
    "### 3-5 Pascal's Triangle\n",
    "\n",
    "Pascal's triangle is a triangle of numbers that is computed as follows.  The first row contains a 1.  Each row after that begins and ends with a 1, and every other number is the sum of the two numbers above it.  The first six rows of Pascal's triangle are shown below.\n",
    "```\n",
    "      1\n",
    "     1 1\n",
    "    1 2 1\n",
    "  1  3 3  1\n",
    " 1 4  6  4 1\n",
    "1 5 10 10 5 1\n",
    "```\n",
    "Write a script to compute and print the *n*th row of Pascal's triangle. Do not spend time trying to print the entire triangle in the format above (it is for illustrative purposes only).\n",
    "\n",
    "** Hint: Think about the type of objects you need to solve the problem. What are you iterating over? It may help to calculate a couple of rows by hand and think about the process you take. **\n"
   ]
  },
  {
   "cell_type": "code",
   "execution_count": 11,
   "metadata": {},
   "outputs": [
    {
     "name": "stdout",
     "output_type": "stream",
     "text": [
      "Enter a number: 8\n",
      "1 7 21 35 35 21 7 1 "
     ]
    }
   ],
   "source": [
    "### [W18 python instructors]\n",
    "\n",
    "n=int(input(\"Enter a number: \"))\n",
    "line=[1] # base state\n",
    "nct = 1\n",
    "\n",
    "while nct <= n-1: #repeat the algorythm once for each line    \n",
    "    # pad line with 0s to make the math work for the flanking ones\n",
    "    line.insert(0,0)\n",
    "    line.insert(len(line), 0)\n",
    "    line2=[]\n",
    "    ct = 1\n",
    "\n",
    "    # build the new line \n",
    "    # the number of elements is equal to each row\n",
    "    # the value of each \n",
    "    while ct < len(line): \n",
    "        line2.append(line[ct-1]+line[ct])\n",
    "        #print(line2) #check - comment out to run\n",
    "        ct += 1    \n",
    "        i=0\n",
    "        \n",
    "    #print each element in the list individually (removes list punctuation)\n",
    "    if nct==n-1:\n",
    "        while i < len(line2):\n",
    "        #print('{num:^{width}d}'.format(num=base ** 2, width= * 2 + 1))    \n",
    "            print (line2[i], end=\" \")\n",
    "            i += 1\n",
    "    # reset\n",
    "    line=line2 \n",
    "    nct += 1"
   ]
  },
  {
   "cell_type": "markdown",
   "metadata": {},
   "source": [
    "## Please submit feedback for any and all homeworks!\n",
    "\n",
    "http://goo.gl/forms/74yCiQTf6k"
   ]
  }
 ],
 "metadata": {
  "kernelspec": {
   "display_name": "Python 3",
   "language": "python",
   "name": "python3"
  },
  "language_info": {
   "codemirror_mode": {
    "name": "ipython",
    "version": 3
   },
   "file_extension": ".py",
   "mimetype": "text/x-python",
   "name": "python",
   "nbconvert_exporter": "python",
   "pygments_lexer": "ipython3",
   "version": "3.6.3"
  }
 },
 "nbformat": 4,
 "nbformat_minor": 1
}
