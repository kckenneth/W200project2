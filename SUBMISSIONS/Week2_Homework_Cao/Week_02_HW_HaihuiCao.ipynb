{
 "cells": [
  {
   "cell_type": "markdown",
   "metadata": {},
   "source": [
    "# W200 Python for Data Science   \n",
    "## Week 2 Assignment - Spring Session 2018\n",
    "******"
   ]
  },
  {
   "cell_type": "markdown",
   "metadata": {},
   "source": [
    "## Python Coding"
   ]
  },
  {
   "cell_type": "markdown",
   "metadata": {},
   "source": [
    "Write a script to solve each of the following problems.  Each problem should have its solution as a separate .py file, named as outlined in each problem. Please upload the .py scripts to your GitHub repository in your week_2 folder.\n",
    "\n",
    "Assignment due date: 11:59PM the night before the Week 3 Live Session.\n",
    "\n",
    "NOTE #1: Even though your final submission must be individual .py files, it may be helpful to first solve the problems in this Jupyter Notebook, then translate the files into .py form.\n",
    "\n",
    "NOTE #2: Please format your input and output strings to be user friendly.  For tips on how to do this, see the python string formatting cookbook at: https://mkaz.tech/code/python-string-format-cookbook/.  For example, in the first problem below, format the tip to two decimal places like 15.25 instead of 15.25000001.\n",
    "\n",
    "### 1. Tip Calculator\n",
    "\n",
    "Below, you can see the script we wrote to compute the tip for a meal.  Fix it so that it works correctly.  \n",
    "Save your result as the file: tip_LastName.py."
   ]
  },
  {
   "cell_type": "code",
   "execution_count": 1,
   "metadata": {},
   "outputs": [
    {
     "name": "stdout",
     "output_type": "stream",
     "text": [
      "Enter the price of a meal:345.45\n",
      "A 16% tip would be 55.27\n",
      "The total including tip would be 400.72\n"
     ]
    }
   ],
   "source": [
    "price = float(input(\"Enter the price of a meal:\"))\n",
    "\n",
    "tip = price * 0.16\n",
    "total = price + tip\n",
    "\n",
    "print(\"A 16% tip would be {:.2f}\".format(tip))\n",
    "print(\"The total including tip would be {:.2f}\".format(total))"
   ]
  },
  {
   "cell_type": "markdown",
   "metadata": {},
   "source": [
    "### 2. Gas Pump Informer\n",
    "\n",
    "Write a script that prompts the user for a number of gallons of gasoline. Reprint that value, along with its conversion to other measurements:\n",
    "\n",
    "- Equivalent number of liters\n",
    "- Number of barrels of oil required to produce it\n",
    "- Price in U.S. dollars\n",
    "\n",
    "Figures to use:\n",
    "\n",
    "- 1 gallon is equivalent to 3.7854 liters.\n",
    "- 1 barrel of oil produces 19.5 gallons of gas.\n",
    "- The average price of gas is approximately $3.65.\n",
    "\n",
    "Save your script as: gas_LastName.py"
   ]
  },
  {
   "cell_type": "code",
   "execution_count": 2,
   "metadata": {},
   "outputs": [
    {
     "name": "stdout",
     "output_type": "stream",
     "text": [
      "Enter a number of gallons of gasoline: 34.56\n",
      "You entered the number of gallons of gasoline:  34.56\n",
      "Equivalent number of liters:  130.82342400000002\n",
      "Number of barrels of oil required to produce it:  1.7723076923076924\n",
      "Price in U.S. dollars: 126.14\n"
     ]
    }
   ],
   "source": [
    "gallon_number=float(input(\"Enter a number of gallons of gasoline: \"))\n",
    "print(\"You entered the number of gallons of gasoline: \", gallon_number)\n",
    "print(\"Equivalent number of liters: \", gallon_number*3.7854)\n",
    "print(\"Number of barrels of oil required to produce it: \", gallon_number/19.5)\n",
    "print(\"Price in U.S. dollars: {:.2f}\".format(gallon_number*3.65))"
   ]
  },
  {
   "cell_type": "markdown",
   "metadata": {},
   "source": [
    "### 3. Number Averager\n",
    "\n",
    "Write a script that prompts the user for two numbers, a and b.  Then, prompt the user to enter a type of average (out of the three options below). Output the correct average, based on what the user selected:\n",
    "\n",
    "1. The arithmetic mean $(a + b) / 2 $\n",
    "2. The geometric mean $\\sqrt{ab}$\n",
    "3. The root-mean-square $\\sqrt{\\frac{a^2 + b^2}{n}}$\n",
    "\n",
    "Save your script as: averages_LastName.py"
   ]
  },
  {
   "cell_type": "code",
   "execution_count": 3,
   "metadata": {},
   "outputs": [
    {
     "name": "stdout",
     "output_type": "stream",
     "text": [
      "Enter the first number: 4\n",
      "Enter the second number: 5\n",
      "Enter a type of average out of the three options: arithmetic, geometric, or root-mean-square: arithmetic\n",
      "The arithmetic mean is:  4.5\n"
     ]
    }
   ],
   "source": [
    "import math\n",
    "a=float(input(\"Enter the first number: \"))\n",
    "b=float(input(\"Enter the second number: \"))\n",
    "option=str(input(\"Enter a type of average out of the three options: arithmetic, geometric, or root-mean-square: \"))\n",
    "if option==\"arithmetic\":\n",
    "    average=(a+b)/2\n",
    "    print(\"The arithmetic mean is: \", average)\n",
    "elif option==\"geometric\":\n",
    "    average=math.sqrt(a*b)\n",
    "    print(\"The geometric mean is: \", average)\n",
    "elif option==\"root-mean-square\":\n",
    "    average=math.sqrt((a**2+b**2)/2)\n",
    "    print(\"The root-mean-square is : \", average)\n",
    "else:\n",
    "    print(\"You entered an invalid option\")\n"
   ]
  },
  {
   "cell_type": "markdown",
   "metadata": {},
   "source": [
    "### 4. Income Tax\n",
    "\n",
    "The mythical island nation of Laskoatu has a rather simple tax code.  The first \\$1000 of income is taxed at 5%.  The next \\$1000 is taxed at 10%.  Any income beyond the first \\$2000 is taxed at 15%.  Complete the following script so that it asks the user for his or her income and outputs the amount of tax owed. \n",
    "\n",
    "Save your script as: tax_LastName.py"
   ]
  },
  {
   "cell_type": "code",
   "execution_count": 4,
   "metadata": {},
   "outputs": [
    {
     "name": "stdout",
     "output_type": "stream",
     "text": [
      "Please enter your income:345\n",
      "Tax owed: 17.25\n"
     ]
    }
   ],
   "source": [
    "income = int(input(\"Please enter your income:\"))\n",
    "if income<=1000 and income>=0:\n",
    "    tax=income*0.05\n",
    "    print(\"Tax owed: {:.2f}\".format(tax))\n",
    "elif income <=2000 and income>1000:\n",
    "    tax=1000*0.05+(income-1000)*0.10\n",
    "    print(\"Tax owed: {:.2f}\".format(tax))\n",
    "elif income > 2000:\n",
    "    tax=1000*0.05+1000*0.10+(income-2000)*0.15\n",
    "    print(\"Tax owed: {:.2f}\".format(tax))\n",
    "else:\n",
    "    print(\"You entered an invalid income number\")"
   ]
  },
  {
   "cell_type": "markdown",
   "metadata": {},
   "source": [
    "### 5. Palindrome\n",
    "\n",
    "Write a script that prompts the user for his or her name. Using a while loop that counts downwards (instead of using the 'reverse' function), print the letters of the name reversed (hint: use print(var, end='') in each iteration of the loop). You should use s.lower() and s.upper() as appropriate to change a string s to lowercase and uppercase letters. Make sure your code prints the examples exactly as shown below.\n",
    "\n",
    "Enter your name: Paul <br>\n",
    "Luap\n",
    "\n",
    "If the name is the same forward and backwards, print \"Palindrome!\" on the next line.\n",
    "\n",
    "Enter your name: Ana <br>\n",
    "Ana <br>\n",
    "Palindrome!\n",
    "\n",
    "Save your script as: palindrome_LastName.py"
   ]
  },
  {
   "cell_type": "code",
   "execution_count": 11,
   "metadata": {},
   "outputs": [
    {
     "name": "stdout",
     "output_type": "stream",
     "text": [
      "Enter your name: Ana\n",
      "Ana\n",
      "Palindrome!\n"
     ]
    }
   ],
   "source": [
    "name=str(input(\"Enter your name: \"))\n",
    "reversename=name[::-1]\n",
    "reversename=reversename[0].upper() + reversename[1:].lower()\n",
    "length=len(reversename)\n",
    "count=0\n",
    "while count<length:\n",
    "    letter=reversename[count]\n",
    "    print(letter,end='')\n",
    "    count+=1\n",
    "\n",
    "if name.lower()==reversename.lower():\n",
    "    print(\"\\nPalindrome!\")\n",
    "\n",
    "    "
   ]
  },
  {
   "cell_type": "code",
   "execution_count": null,
   "metadata": {
    "collapsed": true
   },
   "outputs": [],
   "source": []
  }
 ],
 "metadata": {
  "anaconda-cloud": {},
  "kernelspec": {
   "display_name": "Python 3",
   "language": "python",
   "name": "python3"
  },
  "language_info": {
   "codemirror_mode": {
    "name": "ipython",
    "version": 3
   },
   "file_extension": ".py",
   "mimetype": "text/x-python",
   "name": "python",
   "nbconvert_exporter": "python",
   "pygments_lexer": "ipython3",
   "version": "3.6.3"
  }
 },
 "nbformat": 4,
 "nbformat_minor": 1
}
