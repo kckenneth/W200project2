{
 "cells": [
  {
   "cell_type": "markdown",
   "metadata": {},
   "source": [
    "## Week 4 Assignment - W200 MIDS Python"
   ]
  },
  {
   "cell_type": "markdown",
   "metadata": {},
   "source": [
    "Write code in this Jupyter Notebook to solve each of the following problems. Each problem should have its solution in a separate cell. Please upload this Notebook with your solutions to your GitHub repository in your week_4 folder by 11:59 PM the night before class."
   ]
  },
  {
   "cell_type": "markdown",
   "metadata": {},
   "source": [
    "## Part 1 - Loops\n",
    "### 4-1-1. For Loops\n",
    "\n",
    "Write a script that prompts the user for two words.  Print all the letters that are common to both words, in alphabetical order, using for loops in your solution.\n",
    "\n",
    "For example,\n",
    "```\n",
    "Enter one word: Home\n",
    "Enter another word: meter\n",
    "Letters in common: em\n",
    "```"
   ]
  },
  {
   "cell_type": "code",
   "execution_count": 1,
   "metadata": {},
   "outputs": [
    {
     "name": "stdout",
     "output_type": "stream",
     "text": [
      "Enter one word: Home\n",
      "Enter another word: meter\n",
      "Letters in common:  em\n"
     ]
    }
   ],
   "source": [
    "# Steps: \n",
    "#1. ask user to input two words. \n",
    "#2. setup an empty list to store the common letters.\n",
    "#3. using for loops to iterate the letters in the two words. \n",
    "#4. compare and append the common letters to the list.\n",
    "#5. sort the list in alphabetical order, then turn the letter list into string.\n",
    "#6. print out the letters string.\n",
    "\n",
    "word1=input(\"Enter one word: \")\n",
    "word2=input(\"Enter another word: \")\n",
    "letter=[]  #list to store the common letters\n",
    "for letter1 in word1.lower():\n",
    "    for letter2 in word2.lower():\n",
    "        if letter1==letter2 and letter1 not in letter:\n",
    "            letter.append(letter1)\n",
    "letter.sort() #sort the letter list in alphabetical order\n",
    "letter_str=''.join(letter) #turn the list into string\n",
    "print(\"Letters in common: \",letter_str)  "
   ]
  },
  {
   "cell_type": "markdown",
   "metadata": {},
   "source": [
    "### 4-1-2. A Game of Chess\n",
    "You place a pawn at the top left corner of an n-by-n chess board, labeled (0,0).  For each move, you have a choice: move the pawn down a single space, or move the pawn down one space and right one space.  That is, if the pawn is at position (i,j), you can move the pawn to (i+1,j) or (i+1, j+1).\n",
    "\n",
    "Ask the user for the size of a chessboard, n.  Find the number of different paths the pawn could take to reach each position on the chess board.  For example, there are two different paths the pawn can take to reach (2,1). Look at the diagrams below to convince yourself of this: \n",
    "\n",
    "   Start| Move 1   |Move 2\n",
    "\n",
    "  (0,0)  -> (1,0)   ->(2,1)\n",
    "  \n",
    "  (0,0)  -> (1,0)   ->(2,0)\n",
    "  \n",
    "  (0,0)  -> (1,1)   ->(2,1)\n",
    "  \n",
    "  (0,0)  -> (1,1)   ->(2,2)\n",
    "\n",
    "Print the board with the number of ways to reach each square labeled as shown below.\n",
    "\n",
    "For example,\n",
    "```\n",
    "Enter a board size: 3\n",
    "\n",
    "1 0 0\n",
    "1 1 0\n",
    "1 2 1\n",
    "```\n",
    "\n",
    "#### Please create pseudocode for this problem in the first cell then implement your solution in the second cell."
   ]
  },
  {
   "cell_type": "code",
   "execution_count": 1,
   "metadata": {
    "collapsed": true
   },
   "outputs": [],
   "source": [
    "# Pseudocode Here\n",
    "# 1. ask the user to input the size of a chessboard, n.\n",
    "# 2. The board will have n rows and n columns. In this program, the list named board is two dimensional and \\n\n",
    "# will hold n lists representing n rows, each list (or each row) has n numbers representing n columns.\n",
    "# 3. row[0] has list [1,0,0...0] , len(row[0])=n, append row[0] to board as board[0]\n",
    "# 4. row[1] has list [1,1,0,..0] , len(row[1])=n, append row[1] to board as board[1]\n",
    "\n",
    "# 5. for row[i] if i>=2, acoording to the movement rule, the pawn will move from (i,j) to (i+1,j) or (i+1, j+1). \\n\n",
    "# vise versa, row[i][j] contain movements from row[i-1][j] and row[i-1][j-1], \\n\n",
    "# hence row[i][j]=row[i-1][j]+row[i-1][j-1]. The first number of row[i] is row[i][0]=1, the index i is row[i][i]=1. \n",
    "# the lenght of row[i], len(row[i])=n.\n",
    "\n",
    "# 6. Therefore row[i] has the list [1,(row[i-1][j]+row[i-1]row[j-1]),1], len(row[i])=n, \n",
    "#   append row[i] to board as board[i]\n",
    "# 7. print row, column of the list board using loops"
   ]
  },
  {
   "cell_type": "code",
   "execution_count": 128,
   "metadata": {},
   "outputs": [
    {
     "name": "stdout",
     "output_type": "stream",
     "text": [
      "Enter a board size: 3\n",
      "1 0 0 \n",
      "1 1 0 \n",
      "1 2 1 \n"
     ]
    }
   ],
   "source": [
    "# Implement Here\n",
    "n = int(input(\"Enter a board size: \"))\n",
    "board=[]  # will hold the lists of row and column. \n",
    "for i in range(n):\n",
    "    if i==0:\n",
    "        row=[0 for n in range(n)] #initiate row[0] list with number 0 \n",
    "        row[0]=1        # set up row[0] list\n",
    "        #print(row)   \n",
    "        board.append(row)\n",
    "        continue\n",
    "    \n",
    "    elif i==1:\n",
    "        row=[0 for n in range(n)] #initiate row[1] list with number 0 \n",
    "        row[0]=1        # set up row[1] list\n",
    "        row[1]=1        # set up row[1] list\n",
    "        #print(row)   \n",
    "        board.append(row)\n",
    "        continue\n",
    "    # make up the rowi list\n",
    "    row=[0 for i in range(n)]  #initiate row[i] with 0 if i!=0 and i!=1\n",
    "    for j in range(i):        # set up row[i] list \n",
    "        row[0]=1\n",
    "        row[i]=1\n",
    "        row[j]=board[i-1][j]+board[i-1][j-1]\n",
    "        #print(row)\n",
    "    board.append(row)   #append row[i] to board\n",
    "               \n",
    "#print(board)\n",
    "i=0\n",
    "while i<len(board):\n",
    "    for j in range(len(board[i])):\n",
    "        print(board[i][j],end=\" \")\n",
    "    print(\"\")\n",
    "    i+=1"
   ]
  },
  {
   "cell_type": "markdown",
   "metadata": {},
   "source": [
    "## Part 2 - Algorithms\n",
    "\n",
    "### 4-2-1. Fixing the Bisection Search\n",
    "\n",
    "The bisection code below finds the square root of a number. Try inputting 16 into the code to confirm it works. Next, try inputting 0.25 into the bisection search algorithm below and confirm that it doesn't work. Then correct the algorithm so that it works for all positive numbers, including decimals such as 0.25."
   ]
  },
  {
   "cell_type": "code",
   "execution_count": 130,
   "metadata": {},
   "outputs": [
    {
     "name": "stdout",
     "output_type": "stream",
     "text": [
      "enter a number:0.25\n",
      "low = 0.25 high = 1\n",
      "low = 0.25 high = 0.625\n",
      "low = 0.4375 high = 1\n",
      "low = 0.25 high = 0.71875\n",
      "low = 0.484375 high = 1\n",
      "low = 0.25 high = 0.7421875\n",
      "low = 0.49609375 high = 1\n",
      "low = 0.25 high = 0.748046875\n",
      "low = 0.4990234375 high = 1\n",
      "low = 0.25 high = 0.74951171875\n",
      "low = 0.499755859375 high = 1\n",
      "low = 0.25 high = 0.7498779296875\n",
      "low = 0.49993896484375 high = 1\n",
      "low = 0.25 high = 0.749969482421875\n",
      "low = 0.4999847412109375 high = 1\n",
      "number of guesses = 15\n",
      "0.4999961853027344 is close to square root of 0.25\n"
     ]
    }
   ],
   "source": [
    "## Bisection Search to Find a Square Root\n",
    "\n",
    "x = float(input(\"enter a number:\"))\n",
    "epsilon = 0.00001\n",
    "num_guesses = 0\n",
    "\n",
    "if x>=1:\n",
    "    low = 0.0\n",
    "    high = x\n",
    "    ans = (high + low)/2.0\n",
    "    while high-low > epsilon:\n",
    "        print(\"low =\",low,\"high =\", high)\n",
    "        num_guesses += 1\n",
    "        if ans**2 < x:\n",
    "            low = ans\n",
    "        else:\n",
    "            high = ans\n",
    "        ans = (high + low)/2.0\n",
    "else:\n",
    "    low=x\n",
    "    high=1\n",
    "    ans=(high+low)/2\n",
    "    while abs(ans**2-x) > epsilon:\n",
    "        print(\"low =\",low,\"high =\", high)\n",
    "        num_guesses += 1\n",
    "        if ans**2 < x:\n",
    "            low = ans\n",
    "            high=1\n",
    "        else:\n",
    "            low=x\n",
    "            high = ans\n",
    "        ans=(high+low)/2\n",
    "print('number of guesses =', num_guesses)\n",
    "print(ans, 'is close to square root of', x)"
   ]
  },
  {
   "cell_type": "markdown",
   "metadata": {},
   "source": [
    "### 4-2-2. Bisection Search Runtime\n",
    "\n",
    "You run the bisection search algorithm to find the square root of x to a precision of epsilon.  Write down a formula for how many loop iterations it takes for the algorithm to complete.  Hint: first suppose that x has the special value $epsilon * 2^n$, where n is an integer. Write your answer below."
   ]
  },
  {
   "cell_type": "markdown",
   "metadata": {},
   "source": [
    "# Haihui Cao: Answer\n",
    "**[In bisection search, each comparison eliminates about half of the remaining items from consideration. \n",
    "\n",
    "Suppose    \n",
    "\n",
    "        x=epsilon*(2**n) \n",
    "\n",
    "each comparison, the remaining items:  \n",
    "\n",
    "        epsilon*(2**n)/2\n",
    "\n",
    "after ans loop iterations, the algorithm completes and the equation is: \n",
    "\n",
    "         epsilon*(2**n)/(2**ans)= epsilon, then 2**n/2**ans=1, ans=n    \n",
    "         \n",
    "The answer is that it takes n loop iterations to complete. \n",
    "\n",
    "From above, we can see that bisection search has algorithm running time of O(logn).\n",
    "]**"
   ]
  },
  {
   "cell_type": "markdown",
   "metadata": {},
   "source": [
    "### 4-2-3. Explaining the Bisection Search\n",
    "\n",
    "Please answer the following questions:\n",
    "\n",
    "In your own words, why does the bisection search algorithm for finding square roots work faster on large numbers than the brute force algorithm? Write your answer below."
   ]
  },
  {
   "cell_type": "markdown",
   "metadata": {},
   "source": [
    "# Haihui Cao: answer\n",
    "**[The bisection search elimiantes about half of the remaining items for consideration, and the running time is O(logn) function. When the number is large, the execution steps won't increase a lot compared to small numbers.\n",
    "\n",
    "On the other hand, the brute force algorithm running steps depend on the numbers linearly. When the number is large, the running time increases proportionally on the orders of magnitude. The brute force algorithm will take very long for extremely large numbers.]**"
   ]
  },
  {
   "cell_type": "markdown",
   "metadata": {},
   "source": [
    "In your own words, why does Newton's method for finding square roots outperform both the brute force and the bisection search algorithms? Write your answer below."
   ]
  },
  {
   "cell_type": "markdown",
   "metadata": {},
   "source": [
    "# Haihui Cao: Answer\n",
    "\n",
    "**[Newton's method uses the function f(ans)=ans**2-x to find the answer for f(ans)=0. \n",
    "\n",
    "From the starting guess, a tangent line is drawn on the above function curve and find where the tangent line crosses x-axis, then the cross becomes the next guess. The new guess is closer to the answer, making Newton's method faster than both the bisection search and brute force algorithms. ]**"
   ]
  },
  {
   "cell_type": "markdown",
   "metadata": {},
   "source": [
    "# 4-2-4. Following Pseudocode for an Algorithm\n",
    "\n",
    "Implement this digit-by-digit algorithm to find the square root of $x$ to a precision of epsilon.\n",
    "  1. Begin with a step of 1 and guess of zero.\n",
    "  2. Increase the guess by the step repeatedly as long as doing so would not cause the guess**2 to exceed x.\n",
    "  3. If the step makes the guess**2  greater than the  x , divide the step by 10 and go back to step 2.\n",
    "  4. once the step is smaller than epsilon then stop.\n",
    "\n",
    "Notice that once a digit has been found, it is not changed again.  Try using your script to find the square root of 10 to 10 decimal places."
   ]
  },
  {
   "cell_type": "code",
   "execution_count": 12,
   "metadata": {},
   "outputs": [
    {
     "name": "stdout",
     "output_type": "stream",
     "text": [
      "Enter a number: 10\n",
      "number of guesses: 19\n",
      "3.1622000000 is close to the square root of  10.0\n"
     ]
    }
   ],
   "source": [
    "x=float(input(\"Enter a number: \"))\n",
    "\n",
    "num_guesses=0\n",
    "epsilon=0.00001\n",
    "ans=0.0\n",
    "step=1\n",
    "\n",
    "while step>epsilon:\n",
    "    while ans**2<=x:\n",
    "        ans +=step\n",
    "        num_guesses+=1\n",
    "    ans -=step\n",
    "    step=step/10\n",
    "\n",
    "print(\"number of guesses:\", num_guesses)\n",
    "print(\"{:.10f}\".format(ans), \"is close to the square root of \", x)\n"
   ]
  },
  {
   "cell_type": "markdown",
   "metadata": {},
   "source": [
    "## Part 3 - Comprehensions\n",
    "### 4-3. Comprehensions\n",
    "\n",
    "**4-3-1:** Use a comprehension to make a list of the square numbers below 100 that give a remainder of 1 when divided by 3."
   ]
  },
  {
   "cell_type": "code",
   "execution_count": 1,
   "metadata": {},
   "outputs": [
    {
     "data": {
      "text/plain": [
       "[1, 4, 16, 25, 49, 64]"
      ]
     },
     "execution_count": 1,
     "metadata": {},
     "output_type": "execute_result"
    }
   ],
   "source": [
    "[i**2 for i in range(10) if (i**2)%3==1 ]"
   ]
  },
  {
   "cell_type": "markdown",
   "metadata": {},
   "source": [
    "**4-3-2:** A string is defined in the code snippet below. Split it into individual words and use a comprehension to make a list of the first letters of each word in the snippet."
   ]
  },
  {
   "cell_type": "code",
   "execution_count": 2,
   "metadata": {},
   "outputs": [
    {
     "name": "stdout",
     "output_type": "stream",
     "text": [
      "['I', 'l', 'm', 'l', 'a', 'q', 'm', 'a', 'a', 't', 'N', 'e', 'm', 'n', 't', 'm', 'n', 't', 's', 'n', 'm', 't', 'a', 'a', 't', 'b', 'F', 't', 't', 's', 'o', 'l', 'I', 'f']"
     ]
    }
   ],
   "source": [
    "text = \"I live my life a quarter mile at a time. \\\n",
    "Nothing else matters: not the mortgage, not the store, \\\n",
    "not my team and all their bullshit. \\\n",
    "For those ten seconds or less, I’m free.\"\n",
    "# the slashes just mean that the string continues onto the next line\n",
    "# if you print the text, it will make no difference\n",
    "text_word=text.split()\n",
    "a=[word[0] for word in text_word]\n",
    "print(a, end=\"\")\n"
   ]
  },
  {
   "cell_type": "markdown",
   "metadata": {},
   "source": [
    "**4-3-3:** A Pythagorean triple is a set (x,y,z), with positive integers x≤y≤z such that $x^2+y^2=z^2$. Use a comprehension to make a list of all Pythagorean triples with numbers below 25."
   ]
  },
  {
   "cell_type": "code",
   "execution_count": 22,
   "metadata": {},
   "outputs": [
    {
     "data": {
      "text/plain": [
       "[(0, 0, 0),\n",
       " (0, 1, 1),\n",
       " (0, 2, 2),\n",
       " (0, 3, 3),\n",
       " (0, 4, 4),\n",
       " (0, 5, 5),\n",
       " (0, 6, 6),\n",
       " (0, 7, 7),\n",
       " (0, 8, 8),\n",
       " (0, 9, 9),\n",
       " (0, 10, 10),\n",
       " (0, 11, 11),\n",
       " (0, 12, 12),\n",
       " (0, 13, 13),\n",
       " (0, 14, 14),\n",
       " (0, 15, 15),\n",
       " (0, 16, 16),\n",
       " (0, 17, 17),\n",
       " (0, 18, 18),\n",
       " (0, 19, 19),\n",
       " (0, 20, 20),\n",
       " (0, 21, 21),\n",
       " (0, 22, 22),\n",
       " (0, 23, 23),\n",
       " (0, 24, 24),\n",
       " (3, 4, 5),\n",
       " (5, 12, 13),\n",
       " (6, 8, 10),\n",
       " (8, 15, 17),\n",
       " (9, 12, 15),\n",
       " (12, 16, 20)]"
      ]
     },
     "execution_count": 22,
     "metadata": {},
     "output_type": "execute_result"
    }
   ],
   "source": [
    "[(x,y,z) for x in range(25) for y in range(25) for z in range(25) if x<=y and y<=z and x**2+y**2==z**2]"
   ]
  },
  {
   "cell_type": "markdown",
   "metadata": {},
   "source": [
    "**4-3-4:** Given a word, provided below, use a comprehension to make a list of all strings that can be formed by deleting exactly one character from the word."
   ]
  },
  {
   "cell_type": "code",
   "execution_count": 4,
   "metadata": {},
   "outputs": [
    {
     "name": "stdout",
     "output_type": "stream",
     "text": [
      "['elcomed', 'Wlcomed', 'Wecomed', 'Welomed', 'Welcmed', 'Welcoed', 'Welcomd', 'Welcome']"
     ]
    }
   ],
   "source": [
    "word = \"Welcomed\"\n",
    "newword=[word[:i]+word[i+1:] for i in range(len(word))]\n",
    "print(newword, end=\"\")"
   ]
  },
  {
   "cell_type": "markdown",
   "metadata": {},
   "source": [
    "**4-3-5:** Given a word, provided below, use a comprehension to make a list of all strings that can be formed by replacing exactly one vowel in the word with a different vowel.\n",
    "\n",
    "Your output should look like this:  **'Baoted',\n",
    " 'Beoted',\n",
    " 'Bioted',\n",
    " 'Booted',\n",
    " 'Buoted',\n",
    " 'Boated',\n",
    " 'Boeted',\n",
    " 'Boited',\n",
    " 'Booted',\n",
    " 'Bouted',\n",
    " 'Bootad',\n",
    " 'Booted',\n",
    " 'Bootid',\n",
    " 'Bootod',\n",
    " 'Bootud''**"
   ]
  },
  {
   "cell_type": "code",
   "execution_count": 3,
   "metadata": {},
   "outputs": [
    {
     "name": "stdout",
     "output_type": "stream",
     "text": [
      "['Baoted', 'Beoted', 'Bioted', 'Booted', 'Buoted', 'Boated', 'Boeted', 'Boited', 'Booted', 'Bouted', 'Bootad', 'Booted', 'Bootid', 'Bootod', 'Bootud']"
     ]
    }
   ],
   "source": [
    "word = \"Booted\"\n",
    "newword=[word[:i]+vowel+word[i+1:] for i in range(len(word)) if word[i] in 'aeiou' for vowel in 'aeiou']\n",
    "print(newword, end=\"\")"
   ]
  },
  {
   "cell_type": "markdown",
   "metadata": {},
   "source": [
    "# Please submit feedback for any and all homeworks!\n",
    "\n",
    "http://goo.gl/forms/74yCiQTf6k"
   ]
  }
 ],
 "metadata": {
  "kernelspec": {
   "display_name": "Python 3",
   "language": "python",
   "name": "python3"
  },
  "language_info": {
   "codemirror_mode": {
    "name": "ipython",
    "version": 3
   },
   "file_extension": ".py",
   "mimetype": "text/x-python",
   "name": "python",
   "nbconvert_exporter": "python",
   "pygments_lexer": "ipython3",
   "version": "3.6.3"
  }
 },
 "nbformat": 4,
 "nbformat_minor": 1
}
