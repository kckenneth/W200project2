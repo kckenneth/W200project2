{
 "cells": [
  {
   "cell_type": "markdown",
   "metadata": {},
   "source": [
    "# Python Fundamentals for Data Science: Midterm Exam\n",
    "### Fall 2017"
   ]
  },
  {
   "cell_type": "markdown",
   "metadata": {},
   "source": [
    "## Instructions\n",
    "The midterm exam is designed to evaluate your grasp of Python theory as well as Python coding.\n",
    "\n",
    "- This is an individual open book exam.\n",
    "- You have 24 hours to complete the exam, starting from the point at which you first access it.\n",
    "\n",
    "For the coding questions, follow best practices.  Partial credit may be given for submissions that are clearly commented and well organized."
   ]
  },
  {
   "cell_type": "markdown",
   "metadata": {},
   "source": [
    "# Short Questions (15 pts)\n",
    "\n",
    "- Python's dynamic typing allows one variable to refer to multiple types of objects within the same program execution.  This can speed program development.  Name one disadvantage of dynamic typing."
   ]
  },
  {
   "cell_type": "markdown",
   "metadata": {
    "collapsed": true
   },
   "source": [
    "\"Answer: Haihui Cao\"\n",
    "\n",
    "One disadvantage of dynamic typing is that the compiler cannot perform complete typechecks at compile-time, therefore there are significantly more run time errors and some are hard to find, especially for large applications. This means more costs in development process. "
   ]
  },
  {
   "cell_type": "markdown",
   "metadata": {},
   "source": [
    "- Compiled languages typically offer faster performance than interpreted languages.  Why would you choose an interpreted language like Python for the purpose of analyzing a data set?"
   ]
  },
  {
   "cell_type": "markdown",
   "metadata": {
    "collapsed": true
   },
   "source": [
    "\"Answer: Haihui Cao\"\n",
    "\n",
    "Python is easy to learn and use. Data scientists are generally people who aren’t purely software engineers, and they prefer ease of programming in order to do their job quickly and with the greatest convenience. python also has numerous libraries that provide the needed functionality for scientific computations and data analysis, such as numpy and pandas. Python is also very convenient when you need to redesign your code. For example, you want to add features later, or completely redesign the inner logic, or change the codes for something different - python is nice for this."
   ]
  },
  {
   "cell_type": "markdown",
   "metadata": {},
   "source": [
    "* We have gone over FOR and WHILE loops.  Discuss one reason to use a for loop over a while loop and one reason to do the opposite. Please elaborate beyond a single word."
   ]
  },
  {
   "cell_type": "markdown",
   "metadata": {
    "collapsed": true
   },
   "source": [
    "\"Answer: Haihui Cao\"\n",
    "\n",
    "A “for” loop iterates over a predefined group of objects, acting once on each one. Generally, use a “for” loop when a known set of items and how many times are known to be iterated. \n",
    "\n",
    "WHILE loops have a little more flexability than FOR loops. A \"while\" loop will keep looping until a condtion is met. Use a “while” loop when you are not sure how many iterations are needed in advance."
   ]
  },
  {
   "cell_type": "markdown",
   "metadata": {},
   "source": [
    "# Programming Styles (10 pts)\n",
    "\n",
    "We have taught you a number of ways to program python. These have included using scripts versus functions and using jupyter notebooks versus calling .py files from the command line. Describe a scenario in which you would use a script versus a function and the opposite. Then describe a senario in which you would use .py files from the command line over a jupyter notebook and the opposite. There are four cases and each answer should be about 1-2 sentences."
   ]
  },
  {
   "cell_type": "markdown",
   "metadata": {},
   "source": [
    "\"Answer: Haihui Cao\" \n",
    " \n",
    " * I would use a jupyter notebook over .py files:\n",
    "\n",
    "I would use a jupyter notbook when I work on the workflow of the program or debuging the codes. Thanks to the feature where code is written into independent cells of Jupyter notebook, which can each execute independently from the rest of the code, this allows me to quickly test a specific step in a sequential workflow without re-executing code from the beginning of the script.\n",
    "\n",
    "* I would use .py files over a notebook:\n",
    "\n",
    "I would use .py files over a notebook when I want to run the python program in terminal window/command line or shell. Sometimes I don't want to open the Conda and Jupiter interface and just want to quickly run the python scripts through the command line.\n",
    "\n",
    "\n",
    "* I would use a script over a function:\n",
    "\n",
    "I would use a script over a function when I do small tasks and don't reuse the script. for example, I use a script when I import python packages: import numpy as np.\n",
    "\n",
    "\n",
    "\n",
    "* I would use a function over a script:\n",
    "\n",
    "I would use a function over a script when I need some way of organizing larger code into manageable pieces and reuse the codes. For example, I want to add 100 numbers together, I would define an \"add\" function and use this \"add\" function, instead of use scripts and retype the scripts many times. \n",
    "\n"
   ]
  },
  {
   "cell_type": "markdown",
   "metadata": {},
   "source": [
    "# Dictionaries vs Lists (10 pts)\n",
    "\n",
    "Suppose we have the following problem.  We have a dictionary of names and ages and we would like to find the oldest person.\n",
    "\n",
    "```\n",
    "ages_dict = {'Bill':34, 'Fred':45, 'Alice':14, 'Betty':17}\n",
    "```"
   ]
  },
  {
   "cell_type": "markdown",
   "metadata": {},
   "source": [
    "### Dictionary approach\n",
    "Here is a loop that shows how to iterate through the dictionary:"
   ]
  },
  {
   "cell_type": "code",
   "execution_count": 106,
   "metadata": {},
   "outputs": [
    {
     "name": "stdout",
     "output_type": "stream",
     "text": [
      "Fred is the oldest\n"
     ]
    }
   ],
   "source": [
    "ages_dict = {'Bill':34, 'Fred':45, 'Alice':14, 'Betty':17}\n",
    "\n",
    "max_age = 0\n",
    "max_name = ''\n",
    "for name,age in ages_dict.items():\n",
    "    if age > max_age:\n",
    "        max_age = age\n",
    "        max_name = name\n",
    "        \n",
    "print(max_name, \"is the oldest\")    "
   ]
  },
  {
   "cell_type": "markdown",
   "metadata": {},
   "source": [
    "### List approach \n",
    "\n",
    "Your friend comes to you and says that this dictionary is hard to deal with and instead offers a different plan with 2 lists.\n",
    "\n",
    "```\n",
    "names = ['Bill', 'Fred', 'Alice', 'Betty']\n",
    "ages = [34, 45, 14, 17]\n",
    "```"
   ]
  },
  {
   "cell_type": "markdown",
   "metadata": {},
   "source": [
    "Instead of using a loop, your friend writes this code to find the oldest person."
   ]
  },
  {
   "cell_type": "code",
   "execution_count": 107,
   "metadata": {},
   "outputs": [
    {
     "name": "stdout",
     "output_type": "stream",
     "text": [
      "Fred is the oldest\n"
     ]
    }
   ],
   "source": [
    "names = ['Bill', 'Fred', 'Alice', 'Betty']\n",
    "ages = [34, 45, 14, 17]\n",
    "\n",
    "max_age = max(ages)\n",
    "index_max = ages.index(max_age)\n",
    "max_name = names[index_max]\n",
    "\n",
    "print(max_name, 'is the oldest')"
   ]
  },
  {
   "cell_type": "markdown",
   "metadata": {},
   "source": [
    "### Discussion\n",
    "\n",
    "Discuss the advantages and disadvantages of each of the approaches.  \n",
    "* Is one more efficient (i.e. faster) than the other?\n",
    "* Why would you prefer the dictionary?\n",
    "* Why would you prefer the 2 lists?"
   ]
  },
  {
   "cell_type": "markdown",
   "metadata": {},
   "source": [
    "\"Answer: Haihui Cao\"\n",
    "\n",
    "The Big-O running time bound for the dictionary algorithm is O(N), while the 2 lists running time is O(1). Therefore 2 lists algorithm is more efficient than dictionary algorithm, especially for large data sets.\n",
    "\n",
    "Dictionary is preferred that it gives a unique key to associate with each value. SO the names are associated with their specific ages. Adding or changing an item to a dictionary is easy. Just refer to the item by its key and assign a value. If the key was already in the dictionary, the existing value is replaced by the new one. If the key is new, it is added to the dictionary with its value. Unlike lists, you don't need to worry about Python throwing an exception during assignment by specifying an index that's out of range. \n",
    "\n",
    "2 lists are prefered when we need fast algorithms, especially when we deal with very large data sets. Lists are mutable, the elements or order of the elements may changed. The association between the two lists may get lost during the change and generate errors."
   ]
  },
  {
   "cell_type": "markdown",
   "metadata": {},
   "source": [
    "# Mutability Surprises (15 pts)\n",
    "\n",
    "In the asyncronous sessions, we discussed mutability. Please describe, in your own words, why mutability is a useful feature in Python lists and dictionaries."
   ]
  },
  {
   "cell_type": "markdown",
   "metadata": {},
   "source": [
    "\"Answer: Haihui Cao\"\n",
    "\n",
    "Mutability refers to the ability to modify the object, in place, in memory. Mutability is a useful feature if you are iterating a lot and building large lists and dictionaries. by takeing advantage of the mutability, a single list or dictionary object can be used to gather your data together and then to put your data in. Mutability will save a lot of memory without creating a third object to store the temporary lists."
   ]
  },
  {
   "cell_type": "markdown",
   "metadata": {},
   "source": [
    "Mutability can also lead to unexpected behavior - specifically when multiple variables point to the same object or when mutable objects are nested inside each other. \n",
    "\n",
    "Please write some code demonstrating a situation where mutability could lead to unexpected behavior. Specifically, show how updating just one object (list_a) can change the value when you print a second variable (list_b)."
   ]
  },
  {
   "cell_type": "code",
   "execution_count": 108,
   "metadata": {},
   "outputs": [
    {
     "name": "stdout",
     "output_type": "stream",
     "text": [
      "list_a:  [1, 2, 3, ['Frank', 'Fred']] list_b:  [1, 2, 3, ['Frank', 'Fred']]\n",
      "list_a:  [1, 2, 600, ['Frank', 'Fred']] list_b:  [1, 2, 600, ['Frank', 'Fred']]\n"
     ]
    }
   ],
   "source": [
    "# \"Answer: Haihui Cao\"\n",
    "# with the intention of only changing list_a, the values of both list_a and list_b get changed.\n",
    "\n",
    "list_a = [1, 2, 3, [\"Frank\", \"Fred\"]]\n",
    "list_b = list_a\n",
    "print(\"list_a: \", list_a, \"list_b: \", list_b)\n",
    "\n",
    "list_a[2]= 600\n",
    "print(\"list_a: \", list_a, \"list_b: \", list_b)\n"
   ]
  },
  {
   "cell_type": "markdown",
   "metadata": {},
   "source": [
    "Show how \"copy\" or \"deepcopy\" could be used to prevent the unexpected problem you described, above."
   ]
  },
  {
   "cell_type": "code",
   "execution_count": 109,
   "metadata": {},
   "outputs": [
    {
     "name": "stdout",
     "output_type": "stream",
     "text": [
      "list_a:                      [1, 2, 3, ['Frank', 'Fred']]\n",
      "list_b (copy of list_a):     [1, 2, 3, ['Frank', 'Fred']]\n",
      "list_c (deepcopy of list_a): [1, 2, 3, ['Frank', 'Fred']]\n",
      "\n",
      "After change only list_a, list_b changed at second_level, while list_c didn't change at all by using deepcopy.\n",
      "list_a:                      [1, 2, 80, ['Frank', 'Tom']]\n",
      "list_b (copy of list_a):     [1, 2, 3, ['Frank', 'Tom']]\n",
      "list_c (deepcopy of list_a): [1, 2, 3, ['Frank', 'Fred']]\n"
     ]
    }
   ],
   "source": [
    "#\"Answer: Haihui Cao\"\n",
    "\n",
    "from copy import deepcopy\n",
    "\n",
    "list_a = [1, 2, 3, [\"Frank\", \"Fred\"]]\n",
    "list_b = list_a.copy()         \n",
    "list_c = deepcopy(list_a) \n",
    "print(\"list_a:                     \", list_a) \n",
    "print(\"list_b (copy of list_a):    \", list_b)\n",
    "print(\"list_c (deepcopy of list_a):\", list_c)\n",
    "\n",
    "# copy and deepcopy will prevent the unexpected problem above. \n",
    "# The differences between copy and deepcopy\n",
    "# Copy will create an independent copy of all list elements at the first level of the list, \n",
    "# Deep copy will create an independent copy of all list elements at all level\n",
    "\n",
    "list_a[2] = 80\n",
    "list_a[3][1] = \"Tom\"\n",
    "\n",
    "print()\n",
    "print(\"After change only list_a, list_b changed at second_level, while list_c didn't change at all by using deepcopy.\")\n",
    "print(\"list_a:                     \", list_a) \n",
    "print(\"list_b (copy of list_a):    \", list_b)\n",
    "print(\"list_c (deepcopy of list_a):\", list_c)\n",
    "\n"
   ]
  },
  {
   "cell_type": "markdown",
   "metadata": {},
   "source": [
    "Now, show the same problem using two dictionaries. Again show how \"copy\" or \"deepcopy\" can fix the issue."
   ]
  },
  {
   "cell_type": "code",
   "execution_count": 110,
   "metadata": {},
   "outputs": [
    {
     "name": "stdout",
     "output_type": "stream",
     "text": [
      "a1: {'martini': ['vodka', ['lemmon', 'soda water']], 'screwdriver': ['orange juice', 'vodka']}\n",
      "a2: {'martini': ['vodka', ['lemmon', 'soda water']], 'screwdriver': ['orange juice', 'vodka']}\n",
      "a3: {'martini': ['vodka', ['lemmon', 'soda water']], 'screwdriver': ['orange juice', 'vodka']}\n",
      "\n",
      "a1: {'martini': ['vodka', ['lemmon', 'juice']], 'screwdriver': ['orange juice', 'vodka']}\n",
      "a2: {'martini': ['vodka', ['lemmon', 'soda water']], 'screwdriver': ['orange juice', 'vodka']}\n",
      "a3: {'martini': ['vodka', ['lemmon', 'coke']], 'screwdriver': ['orange juice', 'vodka']}\n"
     ]
    }
   ],
   "source": [
    "#\"Answer: Haihui Cao\"\n",
    "\n",
    "from copy import deepcopy\n",
    "\n",
    "a1 = {'martini': ['vodka', 'vermouth'], 'screwdriver': ['orange juice', 'vodka']}\n",
    "\n",
    "a2 = a1\n",
    "a3 = a2\n",
    "\n",
    "# you can change any of them and it changes all\n",
    "a1['martini'] = ['vodka', ['lemmon', 'soda water']]\n",
    "print(\"a1:\", a1)\n",
    "print(\"a2:\", a2)\n",
    "print(\"a3:\", a3)\n",
    "print()\n",
    "\n",
    "# Copy and deepcopy make an independant copy of a1 dictionary, so change one of them won't change the others.\n",
    "a2 = a1.copy()\n",
    "a3 = deepcopy(a1)\n",
    "a1['martini'] = ['vodka', ['lemmon', 'juice']]\n",
    "a3['martini'] = ['vodka', ['lemmon', 'coke']]\n",
    "print(\"a1:\", a1)\n",
    "print(\"a2:\", a2)\n",
    "print(\"a3:\", a3)"
   ]
  },
  {
   "cell_type": "markdown",
   "metadata": {},
   "source": [
    "Can this unexpected behavior problem occur with tuples? Why, or why not?"
   ]
  },
  {
   "cell_type": "markdown",
   "metadata": {},
   "source": [
    "\"Answer: Haihui Cao\"\n",
    "\n",
    "No, this unexpected behavior problem won't occur with tuples. Tuples are immutable, meaning you can't add, delete, or change items after the tuple is defined. "
   ]
  },
  {
   "cell_type": "markdown",
   "metadata": {},
   "source": [
    "# Tweet Analysis (15 pts)\n",
    "\n",
    "A tweet is a string that is between 1 and 140 characters long (inclusive). A username is a string of letters and/or digits that is between 1 and 14 characters long (inclusive). A username is mentioned in a tweet by including @username in the tweet. A retweet is way to share another user's tweet, and can be identified by the string RT, followed by the original username who tweeted it.\n",
    "\n",
    "Your job is to fill in the function count_retweets_by_username so that it returns a frequency dictionary that indicates how many times each username was retweeted."
   ]
  },
  {
   "cell_type": "code",
   "execution_count": 111,
   "metadata": {
    "collapsed": true
   },
   "outputs": [],
   "source": [
    "tweets = [\"This is great! RT @fake_user: Can you believe this http://some-link.com\",\n",
    "         \"It's the refs! RT @dubsfan: Boo the refs and stuff wargarbal\",\n",
    "         \"That's right RT @ladodgers: The dodgers are destined to win the west!\",\n",
    "         \"RT @sportball: That sporting event was not cool\",\n",
    "         \"This is just a tweet about things @person, how could you\",\n",
    "         \"RT @ladodgers: The season is looking great!\",\n",
    "         \"RT @dubsfan: I can't believe it!\",\n",
    "         \"I can't believe it either! RT @dubsfan: I can't believe it\"]"
   ]
  },
  {
   "cell_type": "code",
   "execution_count": 113,
   "metadata": {},
   "outputs": [],
   "source": [
    "#\"Answer: Haihui Cao\"\n",
    "\n",
    "def count_retweets_by_username(tweet_list):\n",
    "    \"\"\" (list of tweets) -> dict of {username: int}\n",
    "    Returns a dictionary in which each key is a username that was \n",
    "    retweeted in tweet_list and each value is the total number of times this \n",
    "    username was retweeted.\n",
    "    \"\"\"\n",
    "    \n",
    "    # write code here and update return statement with your dictionary\n",
    "    user_dict = {}\n",
    "    \n",
    "    for item in tweet_list:\n",
    "        if \"@\" in item:\n",
    "            index_num = item.index(\"@\")\n",
    "            \n",
    "            if item[index_num - 3] ==\"R\" and item[index_num - 2] ==\"T\":\n",
    "                \n",
    "                # A username is a string of letters and/or digits that is between 1 and 14 characters long \n",
    "                # (inclusive). so index_num of \"@\" + 15 is the range of username.\n",
    "                # Assume user name ends with \":\" in RT @username:\n",
    "                \n",
    "                a = item.index(\":\", index_num, index_num + 15) # get the index number of the first \":\" after username\n",
    "                name = item[index_num + 1 : a]         # get the username\n",
    "                user_dict[name] = user_dict.get(name, 0) + 1   #get the count of username and put in the user_dict\n",
    "    \n",
    "    return user_dict\n",
    "                               "
   ]
  },
  {
   "cell_type": "code",
   "execution_count": 114,
   "metadata": {},
   "outputs": [
    {
     "name": "stdout",
     "output_type": "stream",
     "text": [
      "{'fake_user': 1, 'dubsfan': 3, 'ladodgers': 2, 'sportball': 1}\n"
     ]
    }
   ],
   "source": [
    "# allow this code to work by implementing count_retweets_by_username function above\n",
    "print(count_retweets_by_username(tweets))"
   ]
  },
  {
   "cell_type": "markdown",
   "metadata": {},
   "source": [
    "# Looking for Minerals (20 pts)\n",
    "\n",
    "A mining company conducts a survey of an n-by-n square grid of land.  Each row of land is numbered from 0 to n-1 where 0 is the top and n-1 is the bottom, and each column is also numbered from 0 to n-1 where 0 is the left and n-1 is the right.  The company wishes to record which squares of this grid contain mineral deposits.\n",
    "\n",
    "The company decides to use a list of tuples to store the location of each deposit.  The first item in each tuple is the row of the deposit.  The second item is the column.  The third item is a non-negative number representing the size of the deposit, in tons.  For example, the following code defines a sample representation of a set of deposits in an 8-by-8 grid."
   ]
  },
  {
   "cell_type": "code",
   "execution_count": 38,
   "metadata": {
    "collapsed": true
   },
   "outputs": [],
   "source": [
    "deposits = [(0,4,.3), (6, 2, 3), (3, 7, 2.2), (5, 5, .5), (3, 5, .8), (7,7, .3)]"
   ]
  },
  {
   "cell_type": "markdown",
   "metadata": {},
   "source": [
    "Given a list of deposits like the one above, write a function to create a string representation for a rectangular subregion of the land.  Your function should take a list of deposits, then a set of parameters denoting the top, bottom, left, and right edges of the subgrid.  It should return a multi-line string in which grid squares without deposits are represented by \"-\" and grid squares with a deposit are represented by \"X\"."
   ]
  },
  {
   "cell_type": "code",
   "execution_count": 115,
   "metadata": {},
   "outputs": [
    {
     "name": "stdout",
     "output_type": "stream",
     "text": [
      "- - - - X - - -\n",
      "- - - - - - - -\n",
      "- - - - - - - -\n",
      "- - - - - X - X\n",
      "- - - - - - - -\n",
      "- - - - - X - -\n",
      "- - X - - - - -\n",
      "- - - - - - - X\n",
      "\n"
     ]
    }
   ],
   "source": [
    "#\"Answer: Haihui Cao\"\n",
    "\n",
    "def display(deposits, top, bottom, left, right):\n",
    "    \"\"\"display a subgrid of the land, with rows starting at top and up to \n",
    "    but not including bottom, and columns starting at left and up to but\n",
    "    not including right.\"\"\"\n",
    "    \n",
    "    # construct the nxn list with all \"-\"\n",
    "    depo_list = [[\"-\" for column in range(0, bottom)] for row in range(0, right)]\n",
    "    \n",
    "    # the list that hold the position of \"-\" and \"X\"\n",
    "    print_list = []  \n",
    "    \n",
    "    # turn the list into the string list and for printing purpose\n",
    "    str_list = \"\"      \n",
    "    \n",
    "    for item in deposits:\n",
    "        if item[2] > 0:       # item[2] is a deposite amount\n",
    "            depo_list[item[0]][item[1]] = \"X\"        #grid squares with a deposit are represented by \"X\"\n",
    "    \n",
    "    # a is the sublist with specified top, bottom, left, right in the function arguments\n",
    "    a = [[depo_list[row][column] for column in range(top, bottom)] for row in range(left, right)]\n",
    "    \n",
    "    # turn list a into a string for printing use\n",
    "    for row in a:\n",
    "        row_str = ' '.join(row)\n",
    "        str_list += row_str + \"\\n\"\n",
    "    \n",
    "    return str_list\n",
    "\n",
    "print(display(deposits, 0, 8, 0, 8))\n"
   ]
  },
  {
   "cell_type": "code",
   "execution_count": 116,
   "metadata": {},
   "outputs": [
    {
     "name": "stdout",
     "output_type": "stream",
     "text": [
      "X - -\n",
      "- - -\n",
      "- - X\n",
      "\n"
     ]
    }
   ],
   "source": [
    "print(display(deposits, 5, 8, 5, 8))"
   ]
  },
  {
   "cell_type": "markdown",
   "metadata": {},
   "source": [
    "For example, your function should replicate the following behavior for the example grid:\n",
    "```\n",
    "print(display(deposits, 0, 8, 0, 8))\n",
    "----X---\n",
    "--------\n",
    "--------\n",
    "-----X-X\n",
    "--------\n",
    "-----X--\n",
    "--X-----\n",
    "-------X\n",
    "\n",
    "print(display(deposits, 5, 8, 5, 8))\n",
    "X--\n",
    "---\n",
    "--X\n",
    "\n",
    "```\n"
   ]
  },
  {
   "cell_type": "markdown",
   "metadata": {},
   "source": [
    "Next, complete the following function to compute the total number of tons in a rectangular subregion of the grid."
   ]
  },
  {
   "cell_type": "code",
   "execution_count": 117,
   "metadata": {},
   "outputs": [],
   "source": [
    "#\"Answer: Haihui Cao\"\n",
    "\n",
    "def tons_inside(deposits, top, bottom, left, right):\n",
    "    \"\"\"Returns the total number of tons of deposits for which the row is at least top,\n",
    "    but strictly less than bottom, and the column is at least left, but strictly\n",
    "    less than right.\"\"\"\n",
    "    # Do not alter the function header.  \n",
    "    # Just fill in the code so it returns the correct number of tons.\n",
    "    total = 0.0\n",
    "    for item in deposits:\n",
    "        if item[0] >= top and item[0] < bottom: \n",
    "            if item[1] >= left and item[1] < right:\n",
    "                total += item[2]\n",
    "    return total\n",
    "\n"
   ]
  },
  {
   "cell_type": "code",
   "execution_count": 118,
   "metadata": {},
   "outputs": [
    {
     "name": "stdout",
     "output_type": "stream",
     "text": [
      "7.1\n",
      "0.8\n"
     ]
    }
   ],
   "source": [
    "print(tons_inside(deposits, 0, 8, 0, 8))\n",
    "print(tons_inside(deposits, 5, 8, 5, 8))"
   ]
  },
  {
   "cell_type": "markdown",
   "metadata": {
    "collapsed": true
   },
   "source": [
    "## Birthday planning (15 pts)\n",
    "\n",
    "Suppose you record a list of birthdays for your classmates, recorded as month day tuples.  An example is given below."
   ]
  },
  {
   "cell_type": "code",
   "execution_count": 119,
   "metadata": {
    "collapsed": true
   },
   "outputs": [],
   "source": [
    "dates = [(3,14),(2,8),(10,25),(5,17),(3,2),(7,25),(4,30),(8,7),(2,8),(1,22)]"
   ]
  },
  {
   "cell_type": "markdown",
   "metadata": {},
   "source": [
    "You read about the famous birthday problem (https://en.wikipedia.org/wiki/Birthday_problem) and you become interested in the number of pairs of classmates that share the same birthday.  Here is an algorithm you write to do this:"
   ]
  },
  {
   "cell_type": "code",
   "execution_count": 120,
   "metadata": {},
   "outputs": [
    {
     "name": "stdout",
     "output_type": "stream",
     "text": [
      "Total birthday pairs: 1\n"
     ]
    }
   ],
   "source": [
    "count = 0\n",
    "\n",
    "for person_a in dates:\n",
    "    for person_b in dates:\n",
    "        # Make sure we have different people\n",
    "        if person_a is person_b:\n",
    "            continue\n",
    "            \n",
    "        # Check both month and day\n",
    "        if person_a[0] == person_b[0] and person_a[1] == person_b[1]:\n",
    "            count += 1\n",
    "            \n",
    "# We counted each pair twice (e.g. jane-bob and bob-jane) so divide by 2:\n",
    "print(\"Total birthday pairs:\", count//2)"
   ]
  },
  {
   "cell_type": "markdown",
   "metadata": {},
   "source": [
    "What is the (tightest) Big-O running time bound for the above algorithm?  You may assume that simple operations like equality check, addition, and print take constant time."
   ]
  },
  {
   "cell_type": "markdown",
   "metadata": {
    "collapsed": true
   },
   "source": [
    "\"Answer: Haihui Cao\"\n",
    "\n",
    "The Big-O running time bound for the above algorithm is O(N^2). "
   ]
  },
  {
   "cell_type": "markdown",
   "metadata": {},
   "source": [
    "You notice that your algorithm is inefficient in that it counts each pair twice.  For example, it will increment count once when person_a is Jane and person_b is Bob, and again when person_a is Bob and person_b is Jane.  Below, revise the algorithm so that it only looks at each pair once."
   ]
  },
  {
   "cell_type": "code",
   "execution_count": 121,
   "metadata": {},
   "outputs": [
    {
     "name": "stdout",
     "output_type": "stream",
     "text": [
      "Total birthday pairs: 1\n"
     ]
    }
   ],
   "source": [
    "#\"Answer: Haihui Cao\"\n",
    "# the algorithm below only looks at each pair once.\n",
    "\n",
    "count = 0\n",
    "i = 0\n",
    "\n",
    "while i < len(dates):\n",
    "    for j in range(i+1, len(dates)):\n",
    "        if dates[i] == dates[j]:\n",
    "            count +=1\n",
    "    i +=1\n",
    "print(\"Total birthday pairs:\", count)    "
   ]
  },
  {
   "cell_type": "markdown",
   "metadata": {},
   "source": [
    "What is the (tighest) Big-O running time bound for your new algorithm?  What does this tell you about whether your revision was worth making?\n",
    "\n"
   ]
  },
  {
   "cell_type": "markdown",
   "metadata": {},
   "source": [
    "\"Answer: Haihui Cao\"\n",
    "\n",
    "The Big-O running time bound for the new algorithm is still O(N^2). Although each pair are only compared once, the new algorithm didn't speed up the running time significantly. The revision is not worth making regarding the running time improvement."
   ]
  },
  {
   "cell_type": "markdown",
   "metadata": {},
   "source": [
    "Finally, create a third revision of your algorithm which has a faster Big-O running time bound that both the previous algorithms.\n",
    "\n",
    "Hint: Start by creating a list of 12 lists that are each 31 items long.  You'll need to do a little bit of algebra as a post-processing step."
   ]
  },
  {
   "cell_type": "code",
   "execution_count": 122,
   "metadata": {},
   "outputs": [
    {
     "name": "stdout",
     "output_type": "stream",
     "text": [
      "Birthday pairs and number of apperance: {(2, 8): 3, (5, 17): 2}\n",
      "Total birthday pairs: 3\n"
     ]
    }
   ],
   "source": [
    "#\"Answer: Haihui Cao\"\n",
    "# the algorithm below has a faster Big-O running time bound that both the previous algorithms.\n",
    "\n",
    "dates = [(3,14),(2,8),(10,25),(5,17),(3,2),(7,25),(4,30),(8,7),(2,8),(1,22),(2,8),(3,3),(5,30),(5,20), (5,17)]\n",
    "blist = {}  # dictionary holds the birthday and number of apperance in the list.\n",
    "\n",
    "for num in dates:\n",
    "    if dates.count(num) > 1:\n",
    "        blist[num] = blist.get(num,0) +1\n",
    "        \n",
    "count = int(sum((blist[key]+1)/2 for key in blist))   \n",
    "\n",
    "print(\"Birthday pairs and number of apperance:\", blist)\n",
    "print(\"Total birthday pairs:\", count)"
   ]
  },
  {
   "cell_type": "markdown",
   "metadata": {},
   "source": [
    "What is the (tightest) Big-O running time bound for your last algorithm?  Explain what trade-off you made to have a faster running time."
   ]
  },
  {
   "cell_type": "markdown",
   "metadata": {
    "collapsed": true
   },
   "source": [
    "\"Answer: Haihui Cao\"\n",
    "\n",
    "The (tightest) Big-O running time bound for my last algorithm is O(N). No trade-off I can think of."
   ]
  }
 ],
 "metadata": {
  "kernelspec": {
   "display_name": "Python 3",
   "language": "python",
   "name": "python3"
  },
  "language_info": {
   "codemirror_mode": {
    "name": "ipython",
    "version": 3
   },
   "file_extension": ".py",
   "mimetype": "text/x-python",
   "name": "python",
   "nbconvert_exporter": "python",
   "pygments_lexer": "ipython3",
   "version": "3.6.3"
  }
 },
 "nbformat": 4,
 "nbformat_minor": 1
}
