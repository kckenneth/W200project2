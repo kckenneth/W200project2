{
 "cells": [
  {
   "cell_type": "markdown",
   "metadata": {},
   "source": [
    "## Week 3 Assignment - w200 Python Fundamentals for Data Science"
   ]
  },
  {
   "cell_type": "markdown",
   "metadata": {},
   "source": [
    "Write code in this Jupyter Notebook to solve each of the following problems. Each problem should have its solution in a separate cell. Please upload this Notebook with your solutions to your GitHub repository in your week_03 folder by the midnight before class."
   ]
  },
  {
   "cell_type": "markdown",
   "metadata": {
    "collapsed": true
   },
   "source": [
    "### 3-1. Pig Latin Translator\n",
    "\n",
    "Write code that translates names into a (simplified) Pig Latin. Have your script ask the user for his or her name. For each part of the name, move the first letter to the end of the name and add the letters \"ay\".  Make sure that only the first letter of each word in your output is capitalized. You can use the `split()` method on the string to create a list of the name segments.\n",
    "\n",
    "** Hint: Be sure that your script can handle one, two or three names. This will likely involve a loop.**\n",
    "\n",
    "Your script should re-create the following behavior exactly:\n",
    "\n",
    "```\n",
    "Enter your name: Paul Laskowski\n",
    "Aulpay Askowskilay\n",
    "```"
   ]
  },
  {
   "cell_type": "code",
   "execution_count": 1,
   "metadata": {},
   "outputs": [
    {
     "name": "stdout",
     "output_type": "stream",
     "text": [
      "Enter your name: Paul Laskowski\n",
      "Aulpay Askowskilay "
     ]
    }
   ],
   "source": [
    "### [Haihui Cao]\n",
    "name=str(input(\"Enter your name: \"))\n",
    "splitname=name.split()\n",
    "\n",
    "for word in splitname:\n",
    "    newword=word[1].upper()+word[2:].lower()+word[0].lower()+\"ay\"\n",
    "    print(newword,end=\" \")\n",
    "    "
   ]
  },
  {
   "cell_type": "markdown",
   "metadata": {
    "collapsed": true
   },
   "source": [
    "### 3-2. Matrix Inverter\n",
    "\n",
    "One place tuples are convenient is in the representation of matrices.  Label the values in a 2x2 matrix as follows:\n",
    "$$\n",
    "\\begin{bmatrix}\n",
    "    a       & b  \\\\\n",
    "    c       & d\n",
    "\\end{bmatrix}\n",
    "$$\n",
    "Write code that asks the user for a text string including the four values, a, b, c, and d, separated by spaces.  You can use the `split()` method on the string to create a list of the four values in order.\n",
    "\n",
    "Create a tuple that represents each row, then create a tuple that contains those two tuples.  It should have the form `((a, b), (c, d))`.  Print this representation.\n",
    "\n",
    "The inverse of the matrix above is given by the formula,\n",
    "\n",
    "$$\n",
    "\\frac{1}{ad-bc} \\begin{bmatrix}\n",
    "    d       & -b  \\\\\n",
    "    -c       & a\n",
    "\\end{bmatrix}\n",
    "$$\n",
    "\n",
    "Compute the inverse of the given matrix, again represented as nested tuples, and print this representation. Use the example below to make sure you understand the equation correctly.  For example:\n",
    "\n",
    "\n",
    "input: 1 2 3 4\n",
    "\n",
    "output:\n",
    "```\n",
    "matrix: ((1.0, 2.0), (3.0, 4.0))\n",
    "inverse: ((-2.0, 1.0), (1.5, -0.5))\n",
    "```"
   ]
  },
  {
   "cell_type": "code",
   "execution_count": 1,
   "metadata": {},
   "outputs": [
    {
     "name": "stdout",
     "output_type": "stream",
     "text": [
      "Enter four values separated by spaces: 1 2 3 4\n",
      "matrix:  ((1.0, 2.0), (3.0, 4.0))\n",
      "inverse:  ((-2.0, 1.0), (1.5, -0.5))\n"
     ]
    }
   ],
   "source": [
    "### [Haihui Cao]\n",
    "valuestr=str(input(\"Enter four values separated by spaces: \"))\n",
    "values=valuestr.split()\n",
    "\n",
    "a=float(values[0])\n",
    "b=float(values[1])\n",
    "c=float(values[2])\n",
    "d=float(values[3])\n",
    "\n",
    "matrix=((a,b),(c,d))\n",
    "print(\"matrix: \", matrix)\n",
    "\n",
    "factor=1/(a*d-b*c)\n",
    "inverse=((d*factor, -b*factor),(-c*factor, a*factor))\n",
    "print(\"inverse: \", inverse)\n"
   ]
  },
  {
   "cell_type": "markdown",
   "metadata": {},
   "source": [
    "### 3-3. Create a to-do list program using a dictionary of lists\n",
    "\n",
    "Write a program that stores a to-do list for each day of the week (Sunday through Saturday). Your program should have the following elements:\n",
    "\n",
    "1. An empty dictionary to store information\n",
    "\n",
    "3. A key for each day of the week\n",
    "\n",
    "4. Each key has a value of a list that stores items\n",
    "\n",
    "5. User is prompted to add to or view to-do list\n",
    "\n",
    "6. User can type \"add\" program will ask what day and add it correctly\n",
    "\n",
    "7. User can type \"get\" and the program will ask for the day and print the values\n",
    "\n",
    "8. The program will loop, using a while loop, until the user specifies \"quit\"\n",
    "\n",
    "** Hint: This task requires you to use tools you learned about in Unit 2 (\"if\" and \"loops\") along with dictionaries and lists.**\n",
    "\n",
    "Example:\n",
    "```\n",
    "Prompt: What would you like to do?\n",
    "add\n",
    "\n",
    "Prompt: What day?\n",
    "Friday\n",
    "\n",
    "Prompt: What would you like to add to Friday's to-do list?\n",
    "practice clarinet\n",
    "\n",
    "Prompt: What would you like to do?\n",
    "get\n",
    "\n",
    "Prompt: What day?\n",
    "Friday\n",
    "\n",
    "Response: You have to practice clarinet.\n",
    "\n",
    "Prompt: What would you like to do?\n",
    "quit\n",
    "\n",
    "Response: Ending program. Thank you for using the to-do list!\n",
    "```"
   ]
  },
  {
   "cell_type": "code",
   "execution_count": 15,
   "metadata": {},
   "outputs": [
    {
     "name": "stdout",
     "output_type": "stream",
     "text": [
      "\n",
      "Prompt: What would you like to do? \n",
      "add\n",
      "\n",
      "Prompt: What day? \n",
      "Friday\n",
      "\n",
      "Prompt: What would you like to add to Friday's to do list? \n",
      "practice clarinet\n",
      "\n",
      "Prompt: What would you like to do? \n",
      "get\n",
      "\n",
      "Prompt: What day? \n",
      "Friday\n",
      "\n",
      "Response: You have to practice clarinet\n",
      "\n",
      "Prompt: What would you like to do? \n",
      "quit\n",
      "\n",
      "Response: Ending program. Thank you for using the to-do list!\n"
     ]
    }
   ],
   "source": [
    "### [Haihui Cao]\n",
    "todolist={'Sunday':'','Monday':'','Tuesday':'','Wednesday':'','Thursday':'','Friday':'','Saturday':''}\n",
    "while True:\n",
    "    prompt1=str(input(\"\\nPrompt: What would you like to do? \\n\"))\n",
    "    prompt1=prompt1.lower()\n",
    "    if prompt1==\"add\":\n",
    "        prompt2=str(input(\"\\nPrompt: What day? \\n\"))\n",
    "        if prompt2 in todolist:\n",
    "            prompt3=str(input(\"\\nPrompt: What would you like to add to %s's to do list? \\n\" %(prompt2) ))\n",
    "            test={prompt2:prompt3}\n",
    "            todolist.update(test)\n",
    "            #print(todolist)\n",
    "    elif prompt1=='get':\n",
    "        prompt2=str(input(\"\\nPrompt: What day? \\n\"))\n",
    "        if prompt2 in todolist:\n",
    "            #print(todolist)\n",
    "            print(\"\\nResponse: You have to\",todolist.get(prompt2))\n",
    "    elif prompt1=='quit':\n",
    "        print(\"\\nResponse: Ending program. Thank you for using the to-do list!\")\n",
    "        break\n"
   ]
  },
  {
   "cell_type": "markdown",
   "metadata": {},
   "source": [
    "### 3-4. Fibonacci Series\n",
    "\n",
    "The Fibonacci numbers begin with 1, 1.  After the first two numbers, each number is the sum of the previous two. 1 + 1 = 2, so 2 is the third number. Then 1 + 2 = 3, so 3 is the next one, and so on. Write a script that prompts the user for a number, then prints all the Fibonacci numbers that are less than or equal to the input, in order.\n",
    "\n",
    "Example:\n",
    "```\n",
    "Enter a number: 15\n",
    "1 1 2 3 5 8 13\n",
    "```"
   ]
  },
  {
   "cell_type": "code",
   "execution_count": 38,
   "metadata": {},
   "outputs": [
    {
     "name": "stdout",
     "output_type": "stream",
     "text": [
      "Enter a number: 15\n",
      "1 1 2 3 5 8 13 "
     ]
    }
   ],
   "source": [
    "### [Haihui Cao]\n",
    "n = int(input(\"Enter a number: \"))\n",
    "\n",
    "a=1\n",
    "b=1\n",
    "print(a,b, end=\" \")\n",
    "while (a+b) <= n:\n",
    "    print((a+b),end=\" \")\n",
    "    b=a+b\n",
    "    a=b-a"
   ]
  },
  {
   "cell_type": "markdown",
   "metadata": {},
   "source": [
    "### 3-5. Pascal's Triangle\n",
    "\n",
    "Pascal's triangle is a triangle of numbers that is computed as follows.  The first row contains a 1.  Each row after that begins and ends with a 1, and every other number is the sum of the two numbers above it.  The first six rows of Pascal's triangle are shown below.\n",
    "```\n",
    "      1\n",
    "     1 1\n",
    "    1 2 1\n",
    "  1  3 3  1\n",
    " 1 4  6  4 1\n",
    "1 5 10 10 5 1\n",
    "```\n",
    "Write a script to compute and print the *n*th row of Pascal's triangle. Do not spend time trying to print the entire triangle in the format above (it is for illustrative purposes only).\n",
    "\n",
    "** Hint: Think about the type of objects you need to solve the problem. What are you iterating over? It may help to calculate a couple of rows by hand and think about the process you take. **\n",
    "\n",
    "Example:\n",
    "```\n",
    "Enter a row number: 4\n",
    "1 3 3 1\n",
    "```\n"
   ]
  },
  {
   "cell_type": "code",
   "execution_count": 22,
   "metadata": {},
   "outputs": [
    {
     "name": "stdout",
     "output_type": "stream",
     "text": [
      "Enter a row number: 4\n",
      "1 3 3 1 "
     ]
    }
   ],
   "source": [
    "### [Haihui Cao]\n",
    "n = int(input(\"Enter a row number: \"))\n",
    "\n",
    "pascal=[]\n",
    "\n",
    "for x in range(n):\n",
    "    if x==0:\n",
    "        list=[1]\n",
    "        pascal.append(list)\n",
    "        continue\n",
    "    if x==1:\n",
    "        list=[1,1]\n",
    "        pascal.append(list)\n",
    "        continue\n",
    "    \n",
    "    list=[1 for i in range(x+1)]\n",
    "    for y in range(x):\n",
    "        list[0]=1\n",
    "        list[x]=1\n",
    "        list[y]=pascal[x-1][y]+pascal[x-1][y-1]\n",
    "    pascal.append(list)\n",
    "#print(pascal)            \n",
    "\n",
    "for i in range(len(pascal[n-1])):\n",
    "    print(pascal[n-1][i],end=\" \")\n",
    "    "
   ]
  },
  {
   "cell_type": "markdown",
   "metadata": {},
   "source": [
    "## Please submit feedback for any and all homeworks!\n",
    "\n",
    "http://goo.gl/forms/74yCiQTf6k"
   ]
  }
 ],
 "metadata": {
  "anaconda-cloud": {},
  "kernelspec": {
   "display_name": "Python 3",
   "language": "python",
   "name": "python3"
  },
  "language_info": {
   "codemirror_mode": {
    "name": "ipython",
    "version": 3
   },
   "file_extension": ".py",
   "mimetype": "text/x-python",
   "name": "python",
   "nbconvert_exporter": "python",
   "pygments_lexer": "ipython3",
   "version": "3.6.3"
  }
 },
 "nbformat": 4,
 "nbformat_minor": 1
}
