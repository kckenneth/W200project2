{
 "cells": [
  {
   "cell_type": "markdown",
   "metadata": {},
   "source": [
    "## Week 7 Assignment - W18 MIDS Python\n",
    "\n",
    "Assignment due date: 11:59PM PST the night before the Week 8 Live Session."
   ]
  },
  {
   "cell_type": "markdown",
   "metadata": {},
   "source": [
    "## Part 1 - Project Proposal\n",
    "Please complete your project proposal, as discussed in class and outlined in the project_1 folder.  You may submit your 1-2 page proposal in a Google Doc or PDF.  Please store your proposal (or a link to it) in your repo under the project_1 folder.\n",
    "This is worth 10 points of your **project** grade (not the grade for this homework)."
   ]
  },
  {
   "cell_type": "markdown",
   "metadata": {},
   "source": [
    "## Part 2 - A Quick Reading\n",
    "\n",
    "Please read the following article and write a couple sentences of reaction. What is the most interesting part?\n",
    "\n",
    "<a href=\"http://programmingisterrible.com/post/139222674273/write-code-that-is-easy-to-delete-not-easy-to\">Write code that is easy to delete, not easy to extend</a> This article is to explain an \"architectural\" perspective towards thinking about writing in large code bases. This might not really apply to the work that you are doing now but should provide some food for thought on upcoming projects. Think about the author's perspective and why he seems to have come to it. Please don't worry about knowing all the terminology or programs/systems that he refers to. I want you to extract what he's trying to say about writing code rather than the intricacies of the low-level systems that is referring to.\n"
   ]
  },
  {
   "cell_type": "markdown",
   "metadata": {},
   "source": [
    "\n",
    "# Haihui Cao's response\n",
    "\n",
    "As a new programmer who just started the journey, I'm surprised to learn that the software/codes we wrote change all the time, and soon become legacy. The author is telling us that the strategies he learned from his real experiences are not about writing good software, but how to build software that can change over time. He listed a few good strategies such as layering, isolation, common interfaces, composition (the terminologies that I don't understand now and I think I will learn in the near future).  The most interesting part to me is that \"Being able to write new code without dealing with old code makes it far easier to experiment with new ideas.\" I seem starting  to understand this. \n"
   ]
  },
  {
   "cell_type": "markdown",
   "metadata": {},
   "source": [
    "#                               Please do 2 out of the 3 parts below.  \n",
    "#                        That is, please do two parts of Parts 3, 4 & 5."
   ]
  },
  {
   "cell_type": "markdown",
   "metadata": {},
   "source": [
    "## Part 3 - Building Two Classes\n",
    "\n",
    "Please design two classes in this notebook as follows:\n",
    "\n",
    "1\\. Please create a class called **playing_card**. This class should have: <br>\n",
    "- An attribute, \"rank\" that takes a value of 2-10, J, Q, K, or A. <br>\n",
    "- An attribute, \"suit\" that takes a value of \"♠\" \"♥\" \"♦\" or \"♣\". <br>\n",
    "- An __init__ function "
   ]
  },
  {
   "cell_type": "markdown",
   "metadata": {},
   "source": [
    "2\\. Please create a class called **deck**.  This class should have: <br>\n",
    "- An attribute, \"cards\", that holds a list of playing_card objects. <br>\n",
    "- An __init__ function that: <br>\n",
    "    - By default stores a full deck of 52 playing cards (with proper numbers and suits) in the \"cards\" list. <br>\n",
    "    - Allows the user to specify a specific suit.  In this case, the program should only populate the deck with the 13 cards of that suit.\n",
    "    - After the cards object is initialized, call the \"shuffle_deck()\" function (below).<br>\n",
    "    \n",
    "- A \"shuffle_deck()\" function that randomly changes the order of cards in the deck.<br>\n",
    "- A \"deal_card(card_count)\" function that removes the first X cards from the deck and returns them as a list.<br>\n",
    "    - Make sure this function gives an appropriate response when the deck is out of cards."
   ]
  },
  {
   "cell_type": "markdown",
   "metadata": {},
   "source": [
    "3\\. Please write a few lines of code in this notebook to demonstrate that the functions work as expected."
   ]
  },
  {
   "cell_type": "code",
   "execution_count": 3,
   "metadata": {},
   "outputs": [
    {
     "name": "stdout",
     "output_type": "stream",
     "text": [
      "The playing card is: 7 of Diamonds\n",
      "\n",
      "The default deck is:\n",
      " 2 of Spades, 3 of Spades, 4 of Spades, 5 of Spades, 6 of Spades, 7 of Spades, 8 of Spades, 9 of Spades, 10 of Spades, J of Spades, Q of Spades, K of Spades, A of Spades, 2 of Hearts, 3 of Hearts, 4 of Hearts, 5 of Hearts, 6 of Hearts, 7 of Hearts, 8 of Hearts, 9 of Hearts, 10 of Hearts, J of Hearts, Q of Hearts, K of Hearts, A of Hearts, 2 of Diamonds, 3 of Diamonds, 4 of Diamonds, 5 of Diamonds, 6 of Diamonds, 7 of Diamonds, 8 of Diamonds, 9 of Diamonds, 10 of Diamonds, J of Diamonds, Q of Diamonds, K of Diamonds, A of Diamonds, 2 of Clubs, 3 of Clubs, 4 of Clubs, 5 of Clubs, 6 of Clubs, 7 of Clubs, 8 of Clubs, 9 of Clubs, 10 of Clubs, J of Clubs, Q of Clubs, K of Clubs, A of Clubs, \n",
      "\n",
      "The deck of the chosen suit is:\n",
      " 2 of Diamonds, 3 of Diamonds, 4 of Diamonds, 5 of Diamonds, 6 of Diamonds, 7 of Diamonds, 8 of Diamonds, 9 of Diamonds, 10 of Diamonds, J of Diamonds, Q of Diamonds, K of Diamonds, A of Diamonds, \n",
      "\n",
      "The shuffled deck of the chosen suit is:\n",
      " K of Diamonds, 9 of Diamonds, 6 of Diamonds, 5 of Diamonds, A of Diamonds, 3 of Diamonds, 8 of Diamonds, Q of Diamonds, 2 of Diamonds, 7 of Diamonds, 10 of Diamonds, J of Diamonds, 4 of Diamonds, \n",
      "\n",
      "The deck is out of cards if removing 15 cards.\n",
      "\n",
      "The removed 4 cards are:\n",
      "K of Diamonds\n",
      "9 of Diamonds\n",
      "6 of Diamonds\n",
      "5 of Diamonds\n",
      "\n",
      "The remaining cards after removal are:\n",
      " A of Diamonds, 3 of Diamonds, 8 of Diamonds, Q of Diamonds, 2 of Diamonds, 7 of Diamonds, 10 of Diamonds, J of Diamonds, 4 of Diamonds, \n"
     ]
    }
   ],
   "source": [
    "## Haihui Cao##\n",
    "\n",
    "class playing_card:\n",
    "    \"\"\"Class representing a playing card. \n",
    "    \n",
    "    Attributes:\n",
    "      rank : takes a value of 2-10, J, Q, K, or A. \n",
    "      suit : takes a value of \"Spades\", \"Hearts\", \"Diamonds\", \"Clubs\"\n",
    "    \"\"\"\n",
    "    \n",
    "    ranks = ['2', '3', '4', '5', '6', '7', '8', '9', '10', 'J', 'Q', 'K', 'A']\n",
    "    suits = ['Spades', 'Hearts', 'Diamonds', 'Clubs']\n",
    "    \n",
    "    def __init__(self, suit = 0, rank = 0):\n",
    "        \n",
    "        if suit > 3 or suit < 0:\n",
    "            raise Exception(\"Suit can only take a interger of 0 to 3.\")\n",
    "        self.suit = suit\n",
    "        \n",
    "        if rank > 12 or rank < 0:\n",
    "            raise Exception(\"rank can only take a interger of 0 to 12.\")\n",
    "        self.rank = rank\n",
    "\n",
    "    def __str__(self):  \n",
    "        return '{0} of {1}'.format(self.ranks[self.rank], self.suits[self.suit])\n",
    "     \n",
    "    \n",
    "class deck:\n",
    "    \n",
    "    def __init__(self, suit = None):\n",
    "        self.cards = [playing_card(s, r) for s in range(4) for r in range(13)]\n",
    "        if suit in range(4):\n",
    "            self.cards = [playing_card(suit, r) for r in range(13)]\n",
    "\n",
    "    def shuffle_deck(self):   \n",
    "    # randomly changes the order of cards in the deck\n",
    "        import random\n",
    "        num_cards = len(self.cards)\n",
    "        for i in range(num_cards):\n",
    "            j = random.randrange(i, num_cards)\n",
    "            self.cards[i], self.cards[j] = self.cards[j], self.cards[i]\n",
    "        return self.cards\n",
    "            \n",
    "    def deal_card(self, card_count):\n",
    "    # removes the first X = card_count cards from the deck and returns them as a list\n",
    "         \n",
    "        if card_count <= len(self.cards):\n",
    "            self.removed_cards = [self.cards[i] for i in range(card_count)]\n",
    "            self.cards = [self.cards[i] for i in range(card_count, len(self.cards))]\n",
    "            print(\"The removed {0} cards are:\".format(card_count))\n",
    "            for card in self.removed_cards:\n",
    "                print(card)\n",
    "\n",
    "        else:\n",
    "            print(\"The deck is out of cards if removing {0} cards.\".format(card_count))\n",
    "\n",
    "    def __repr__(self):\n",
    "        s = \"\"\n",
    "        for i in range(len(self.cards)):\n",
    "            s += str(self.cards[i]) + \", \"\n",
    "        return s\n",
    "    \n",
    "    def __str__(self):\n",
    "        s = \"\"\n",
    "        for i in range(len(self.cards)):\n",
    "            s += str(self.cards[i]) + \", \"\n",
    "        return s\n",
    "    \n",
    "# testing lines for class playing_card        \n",
    "\n",
    "d1 = playing_card(2, 5)\n",
    "print(\"The playing card is:\", d1)\n",
    "print()\n",
    "\n",
    "# testing lines for class deck \n",
    "\n",
    "d2 = deck()\n",
    "print(\"The default deck is:\\n\", d2)\n",
    "print()\n",
    "\n",
    "d3 = deck(2)\n",
    "print(\"The deck of the chosen suit is:\\n\", d3)\n",
    "print()\n",
    "\n",
    "d3.shuffle_deck()\n",
    "print(\"The shuffled deck of the chosen suit is:\\n\", d3)\n",
    "print()\n",
    "\n",
    "d3.deal_card(15)\n",
    "print()\n",
    "d3.deal_card(4)\n",
    "print()\n",
    "print(\"The remaining cards after removal are:\\n\", d3)"
   ]
  },
  {
   "cell_type": "markdown",
   "metadata": {},
   "source": [
    "## Part 4 - Galton's Box\n",
    "\n",
    "The following figure depicts Galton's box, a game in which marbles are dropped through N rows of pins.  In row 0, there is one position a marble can be in (labeled 0), in row 1, there are two positions (labeled 0 and 1), and so forth.  Each time the marble bounces from one row to the next, there is a 50% probability it bounces left and a 50% probability it bounces right.\n",
    "\n",
    "<img src=\"Galton_Box.png\">\n",
    "<img src=\"Galton2.jpg\">\n",
    "\n",
    "Notice that if a marble is in position x of row y, and it bounces left, it ends up in position x of row y+1.  If it bounces right, it ends up in position x+1.\n",
    "\n",
    "Create a class, **Marble**, to represent a single Marble that will drop through Galton's Box.  You should include attributes to represent the position of the marble.  Additionally, your \\_\\_init\\_\\_ method should accept a one-character label for use when printing the Marble.\n",
    "\n",
    "Next, create a class, **GaltonBox**, to represent the overall setup.  You should include the following methods:\n",
    "\n",
    "- \\_\\_init\\_\\_ - Your initializer should accept the size of the box, N.\n",
    "- insert\\_marble - This method should accept a Marble instance and sets its position to position 0, row 0.\n",
    "- time\\_step - This method should cause all Marbles in Galton's box to bounce to the next row, dropping left or right with equal probability.  When a marble reaches row N-1 at the bottom of the box, it should not move any more.  Note that you should simply allow marbles to occupy the same position (instead of working out a system to prevent a Marble from entering a position if another Marble is already there).\n",
    "- \\_\\_str\\_\\_ and \\_\\_repr\\_\\_ - Include methods to display the Marbles currently in the box.  To keep things simple, if there are multiple Marbles in a given position, you only have to display one of the labels.\n",
    "\n",
    "Your classes should mimic the following behavior (except that the horizontal positions are random):\n",
    "\n",
    "```\n",
    ">>> m1 = Marble(\"x\")\n",
    ">>> m2 = Marble(\"o\")\n",
    ">>> box = GaltonBox(3)\n",
    ">>> box.insert_marble(m1)\n",
    ">>> box\n",
    "x\n",
    "--\n",
    "---\n",
    ">>> box.time_step()\n",
    ">>> box\n",
    "-\n",
    "-x\n",
    "---\n",
    ">>> box.insert_marble(m2)\n",
    ">>> box\n",
    "o\n",
    "-x\n",
    "---\n",
    ">>> box.time_step()\n",
    ">>> box\n",
    "-\n",
    "o-\n",
    "-x-\n",
    ">>> box.time_step()\n",
    ">>> box\n",
    "-\n",
    "--\n",
    "ox-\n",
    "```\n",
    "\n"
   ]
  },
  {
   "cell_type": "code",
   "execution_count": 2,
   "metadata": {
    "scrolled": true
   },
   "outputs": [
    {
     "name": "stdout",
     "output_type": "stream",
     "text": [
      "x\n",
      "--\n",
      "---\n",
      "\n",
      "-\n",
      "-x\n",
      "---\n",
      "\n",
      "o\n",
      "-x\n",
      "---\n",
      "\n",
      "-\n",
      "-o\n",
      "-x-\n",
      "\n",
      "-\n",
      "--\n",
      "-xo\n",
      "\n"
     ]
    }
   ],
   "source": [
    "## Haihui Cao ## \n",
    "\n",
    "import random\n",
    "\n",
    "class Marble():\n",
    "    \"\"\"Class Marble represents a single Marble that will drop through Galton's Box.\n",
    "    \n",
    "    Attributes:\n",
    "    Position: row y, position x. Defaults are 0\n",
    "    name: a one-character label for use when printing the Marble.\n",
    "    \"\"\"\n",
    "  \n",
    "    def __init__(self, name):\n",
    "\n",
    "        if len(name) > 1:\n",
    "            raise Exception(\"Name can only be one character.\")\n",
    "        self.name = name\n",
    "        self.y = 0\n",
    "        self.x = 0\n",
    "\n",
    "    def __str__(self):\n",
    "        return self.name\n",
    "\n",
    "class GaltonBox():\n",
    "    \"\"\"Class GaltonBox represents overall setup.\"\"\"\n",
    "    \n",
    "    def __init__(self, N):\n",
    "        \n",
    "        self.N = N\n",
    "        \n",
    "        self.box = [[\"-\"]]\n",
    "        for y in range(1, N):\n",
    "            row = [\"-\" for x in range(y+1)] \n",
    "            self.box.append(row)\n",
    "           \n",
    "        self.ball = []\n",
    "\n",
    "    # This method should accept a Marble instance and sets its position to position 0, row 0.\n",
    "    \n",
    "    def insert_marble(self, ins):       \n",
    "        self.ball.append(ins)\n",
    "        self.box[0][0] = ins.name\n",
    "        return self.box\n",
    "        \n",
    "        \n",
    "    # This method should cause all Marbles in Galton's box to bounce to the next row, dropping left or right \n",
    "    # with equal probability. When a marble reaches row N-1 at the bottom of the box, it should not move any more.\n",
    "    \n",
    "    def time_step(self):\n",
    "        for ball in self.ball:\n",
    "            self.box[ball.y][ball.x] = \"-\"\n",
    "            if ball.y < (self.N - 1):\n",
    "                ball.y += 1\n",
    "                ball.x += random.randint(0,1)\n",
    "            else:\n",
    "                pass\n",
    "            if self.box[ball.y][ball.x] == \"-\":\n",
    "                self.box[ball.y][ball.x] = ball.name\n",
    "            else:\n",
    "                self.box[ball.y][ball.x] += \"(\" + ball.name + \")\"\n",
    "        return self.box           \n",
    "\n",
    "    def __repr__(self):\n",
    "        \n",
    "        s = \"\"\n",
    "        for y in range(self.N):\n",
    "            s += ''.join(self.box[y]) + \"\\n\"\n",
    "        return s\n",
    "    \n",
    "    def __str__(self):\n",
    "        \n",
    "        s = \"\"\n",
    "        for y in range(self.N):\n",
    "            s += ''.join(self.box[y]) + \"\\n\"\n",
    "        return s\n",
    "        \n",
    "# Testing                \n",
    "\n",
    "m1 = Marble(\"x\")\n",
    "m2 = Marble(\"o\")\n",
    "\n",
    "box = GaltonBox(3)\n",
    "\n",
    "box.insert_marble(m1)\n",
    "print(box)\n",
    "box.time_step()\n",
    "print(box)\n",
    "\n",
    "box.insert_marble(m2)\n",
    "print(box)\n",
    "\n",
    "box.time_step()\n",
    "print(box)\n",
    "\n",
    "box.time_step()\n",
    "print(box)"
   ]
  },
  {
   "cell_type": "markdown",
   "metadata": {},
   "source": [
    "**Bonus Investigation:** (Extra Credit: 2 points) Once your code is working, write a script to create a box with 20 rows, insert a few dozen Marbles, and repeatedly call time_step() until all Marbles are at the bottom.  Now adapt the following code to display a histogram of the final Marble positions.  What does the shape of the distribution look like?"
   ]
  },
  {
   "cell_type": "code",
   "execution_count": 71,
   "metadata": {},
   "outputs": [
    {
     "data": {
      "text/plain": [
       "(array([ 1.,  2.,  3.,  2.,  0.,  1.]),\n",
       " array([ 0.5,  1.5,  2.5,  3.5,  4.5,  5.5,  6.5]),\n",
       " <a list of 6 Patch objects>)"
      ]
     },
     "execution_count": 71,
     "metadata": {},
     "output_type": "execute_result"
    },
    {
     "data": {
      "image/png": "[encoded data removed]",
      "text/plain": [
       "<matplotlib.figure.Figure at 0x108b1be48>"
      ]
     },
     "metadata": {},
     "output_type": "display_data"
    }
   ],
   "source": [
    "%matplotlib inline\n",
    "import matplotlib.pyplot as plt\n",
    "import numpy as np\n",
    "\n",
    "x_positions = (2,3,4,6,7,4,3,2,3,1)\n",
    "cutoffs = np.arange(min(x_positions) - .5, max(x_positions)+.5)\n",
    "plt.hist(x_positions, bins = cutoffs)"
   ]
  },
  {
   "cell_type": "markdown",
   "metadata": {},
   "source": [
    "If you have taken a statistics course, you may recognize that the final position of each Marble follows a Binomial distribution.  Specifically, it is a Binomial distribution with parameters N and 0.5.  As you let N grow larger and larger, the Binomial distribution will approach the famous Normal distribution that you will see over and over in parametric statistics.  This is a consequence of an extremely important result known as the Central Limit Theorem."
   ]
  },
  {
   "cell_type": "markdown",
   "metadata": {},
   "source": [
    "## Part 5 - Sorting Marbles\n",
    "\n",
    "In a particular board game, there are N spaces in a row, numbered 0 through N - 1 from left to right. There are also N marbles, numbered 0 through N - 1, initially placed in some arbitrary order. After that, there are two moves available:\n",
    "\n",
    "- Switch: Switch the marbles in positions 0 and 1.\n",
    "- Rotate: Move the marble in position 0 to position N - 1, and move all other marbles one space to the left (one index lower).\n",
    "The objective is to arrange the marbles in order, with each marble i in position i.\n",
    "\n",
    "a. Write a class, MarblesBoard, to represent the game above. The class should be initialized with a particular sequence of Marbles.  Write an \\_\\_init\\_\\_ function that takes a starting sequence of marbles (the number of each marble listed in the positions from 0 to N - 1).\n",
    "Next, write switch() and rotate() methods to simulate the player's moves. Write a method, is_solved(), that returns True if the marbles are in the correct order.\n",
    "\n",
    "Additionally, you may want to write \\_\\_str\\_\\_ and \\_\\_repr\\_\\_ methods that display the current state of the board. Your class should behave like the following example.\n",
    "```\n",
    ">>> board = MarblesBoard((3,6,7,4,1,0,8,2,5)) \n",
    ">>> board \n",
    "3 6 7 4 1 0 8 2 5 \n",
    ">>> board.switch() \n",
    ">>> board \n",
    "6 3 7 4 1 0 8 2 5 \n",
    ">>> board.rotate() \n",
    ">>> board \n",
    "3 7 4 1 0 8 2 5 6 \n",
    ">>> board.switch() \n",
    ">>> board \n",
    "7 3 4 1 0 8 2 5 6\n",
    "```\n",
    "\n",
    "b. Write a second class, Solver, that actually plays the MarblesGame. You class should take a MarblesBoard in its initializer. Write a solve() method that repeatedly calls the switch() and rotate() methods of the given MarblesBoard until the game is solved.  You should print the state of the board after each move.  Additionally, print out the total number of moves at the end.\n",
    "\n",
    "You are to come up with your own algorithm for solving the marbles game.  Before you write your solve() method, you may want to practice solving some small versions of the marbles game yourself.  Here is an example of using a Solver.\n",
    "\n",
    "```\n",
    ">>> board2 = MarblesBoard((1,3,0,2))\n",
    ">>> solver = Solver(board2)\n",
    ">>> solver.solve()\n",
    "1 3 0 2 \n",
    "3 0 2 1 \n",
    "0 2 1 3 \n",
    "2 1 3 0 \n",
    "1 2 3 0 \n",
    "2 3 0 1 \n",
    "3 0 1 2 \n",
    "0 1 2 3 \n",
    "total steps: 7\n",
    "```\n",
    "\n",
    "Your Solver does not that to follow the fastest possible running time, but you should strive to make it reasonably efficient.  When you are done, compute the (tightest) big-O running time bound for your script.  \n",
    "\n",
    "You may be interested to know that your program is a variation of a well-known sorting algorithm called bubble sort.  Bubble sort would normally be used on a list of items, not on a rotating track, but adapting your algorithm to this setting would be easy."
   ]
  },
  {
   "cell_type": "code",
   "execution_count": null,
   "metadata": {
    "collapsed": true
   },
   "outputs": [],
   "source": [
    "## YOUR NAME HERE ## "
   ]
  },
  {
   "cell_type": "markdown",
   "metadata": {},
   "source": [
    "Below, explain what the big-O running time of your algorithm is."
   ]
  },
  {
   "cell_type": "markdown",
   "metadata": {},
   "source": [
    "**Your response here**"
   ]
  }
 ],
 "metadata": {
  "kernelspec": {
   "display_name": "Python 3",
   "language": "python",
   "name": "python3"
  },
  "language_info": {
   "codemirror_mode": {
    "name": "ipython",
    "version": 3
   },
   "file_extension": ".py",
   "mimetype": "text/x-python",
   "name": "python",
   "nbconvert_exporter": "python",
   "pygments_lexer": "ipython3",
   "version": "3.6.3"
  }
 },
 "nbformat": 4,
 "nbformat_minor": 1
}
