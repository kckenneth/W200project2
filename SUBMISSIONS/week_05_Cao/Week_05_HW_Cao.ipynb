{
 "cells": [
  {
   "cell_type": "markdown",
   "metadata": {},
   "source": [
    "## Week 5 Assignment - W200 MIDS Python"
   ]
  },
  {
   "cell_type": "markdown",
   "metadata": {},
   "source": [
    "Write code in this Jupyter Notebook to solve each of the following problems. Each problem should have its solution in a separate cell. Please upload this **Notebook** with your solutions to your GitHub repository in your SUBMISSIONS/week_05 folder by 11:59PM PST the night before class."
   ]
  },
  {
   "cell_type": "markdown",
   "metadata": {},
   "source": [
    "## Part 1 - Function Exercises\n",
    "\n",
    "### 5-1-1 Nested (\"Wrapped\") Functions\n",
    "Write a function, `sum_digits`, which takes an `int` and returns the sum of its (positive value) digits. \n",
    "\n",
    "Write another function that \"wraps\" `sum_digits` in that it calls `sum_digits` from within it. Call this function `diff_sum_digits`. Use that function to compute the input number minus the sum of digits of input number.\n",
    "\n",
    "Write another function that \"wraps\" `diff_sum_digits` call it `wraps_diff_sum_digits` . If `diff_sum_digits` returns a result that has more than one digit (either negative or positive) have this new function replace the result with the sum of the digits of the result. Do this repeatedly until the result has just one digit, then display it.\n",
    "\n",
    "Below you'll find an example of what we mean when we say \"wraps\" - this is not a decorator function or anything like that, just a function that calls another function inside of it."
   ]
  },
  {
   "cell_type": "code",
   "execution_count": 13,
   "metadata": {
    "scrolled": true
   },
   "outputs": [
    {
     "name": "stdout",
     "output_type": "stream",
     "text": [
      "38\n",
      "-120037\n",
      "4\n"
     ]
    }
   ],
   "source": [
    "### [Haihui Cao's answer on 5-1-1 Nested (\"Wrapped\") Functions]\n",
    "### The arguments of the functions are intergers. \n",
    "### Disclaimer:this program didn't check the exception errors from the wrong input type.\n",
    "\n",
    "\n",
    "# sum_digits function\n",
    "\n",
    "def sum_digits(num):\n",
    "    \"takes an int and returns the sum of its (positive value) digits.\"\n",
    "    \n",
    "    # turn num into a list using comprehension. disregard the minus sign if num is negative.\n",
    "    lst = [int(i) for i in str(num) if i in \"0123456789\"]\n",
    "    \n",
    "    # add all numbers in lst\n",
    "    return sum(lst)\n",
    "\n",
    "# diff_sum_digits function\n",
    "\n",
    "def diff_sum_digits(num):\n",
    "    \"calls sum_digits function and compute the input number minus the sum of digits of input number.\"\n",
    "    \n",
    "    temp_val = sum_digits(num)\n",
    "    return num - temp_val\n",
    "    \n",
    "\n",
    "# wraps_diff_sum_digits function\n",
    "\n",
    "def wraps_diff_sum_digits(num):\n",
    "    \"\"\"calls diff_sum_digits function. \n",
    "    If diff_sum_digits returns a result that has more than one digit(either negative or positive), \n",
    "    have this new function replace the result with the sum of the digits of the result.  \n",
    "    Do this repeatedly until the result has just one digit, then display it.\"\"\"\n",
    "    \n",
    "    result = diff_sum_digits(num)\n",
    "    \n",
    "    while len(str(result)) > 1:\n",
    "        result = sum_digits(result) \n",
    "    \n",
    "    return result\n",
    "\n",
    "print(sum_digits(-119999))\n",
    "print(diff_sum_digits(-119999))\n",
    "print(wraps_diff_sum_digits(-119999))"
   ]
  },
  {
   "cell_type": "markdown",
   "metadata": {},
   "source": [
    "You can use the sample output in this cell to sanity check your work.\n",
    "\n",
    "\n",
    "```python\n",
    "print(sum_digits(54321))\n",
    "print(sum_digits(-54321))\n",
    "print(diff_sum_digits(54321))\n",
    "print('final value: ' + str(wraps_diff_sum_digits(54321)))\n",
    "\n",
    "15\n",
    "15\n",
    "54306\n",
    "final value: 9\n",
    "```"
   ]
  },
  {
   "cell_type": "code",
   "execution_count": 14,
   "metadata": {},
   "outputs": [
    {
     "name": "stdout",
     "output_type": "stream",
     "text": [
      "15\n",
      "15\n",
      "54306\n",
      "final value: 9\n"
     ]
    }
   ],
   "source": [
    "### [Haihui Cao]\n",
    "### sanity check the work on 5-1-1 Nested (\"Wrapped\") Functions\n",
    "\n",
    "print(sum_digits(54321))\n",
    "print(sum_digits(-54321))\n",
    "print(diff_sum_digits(54321))\n",
    "print('final value: ' + str(wraps_diff_sum_digits(54321)))"
   ]
  },
  {
   "cell_type": "markdown",
   "metadata": {},
   "source": [
    "### 5-1-2 Pigs, Continued\n",
    "\n",
    "Write a function `is_consonant` that takes a character and returns `True` if it is a consonant.\n",
    "\n",
    "Use your function to create a new fuction `to_piglatin` that takes a word, moves all starting consonants (all consonants before the first vowel) to the end of the word, then adds *ay* to the end and returns the result. You may expect that the input will be just one word.\n",
    "\n",
    "*Extra Credit: Have this function check whether or not the input is multiple words and return the whole sentence in pig latin. For this you may assume that a sentence always ends with a period and the input is always one sentence, never more than one.*\n",
    "\n",
    "Examples:\n",
    "```\n",
    "to_piglatin('stay') -> Aystay\n",
    "to_piglatin('Jared') -> Aredjay \n",
    "to_piglatin('and') -> Anday\n",
    "to_piglatin('car') -> Arcay\n",
    "```"
   ]
  },
  {
   "cell_type": "code",
   "execution_count": 23,
   "metadata": {},
   "outputs": [
    {
     "name": "stdout",
     "output_type": "stream",
     "text": [
      "to_piglatin('stay') ->  Aystay\n",
      "to_piglatin('Jared') ->  Aredjay\n",
      "to_piglatin('and') ->  Anday\n",
      "to_piglatin('car') ->  Arcay\n",
      "to_piglatin('You need to stay in the car, not in the builing, not in the cafe.') ->  Ouyay Eednay Otay Aystay Inay Ethay Arcay, Otnay Inay Ethay Uilingbay, Otnay Inay Ethay Afecay.\n"
     ]
    }
   ],
   "source": [
    "### [Haihui Cao]\n",
    "\n",
    "### is_consonant function\n",
    "\n",
    "def is_consonant(char):\n",
    "    \n",
    "    \"takes a character and returns True if it is a consonant\"\n",
    "    \n",
    "    if char not in 'aeiou':\n",
    "        return True\n",
    "    else:\n",
    "        return False\n",
    "\n",
    "### to_piglatin function\n",
    "\n",
    "def to_piglatin(words):\n",
    "    \n",
    "    \"\"\"takes a word, moves all starting consonants (all consonants before the first vowel) to the end of the word, \n",
    "    then adds ay to the end and returns the result.\n",
    "    Have this function check whether or not the input is multiple words and return the whole sentence in pig latin.\n",
    "    For this you may assume that a sentence always ends with a period and the input is always one sentence, \n",
    "    never more than one. \n",
    "    \n",
    "    This function also assumes that the sentence only contains letters and ',', no numbers and other characters. \"\"\"\n",
    "    \n",
    "    # check whether or not input is a sentence with a period at the end. \n",
    "    #if yes, return the whole sentence in pig latin\n",
    "    \n",
    "    \n",
    "    # Check whether or not a sentence. If yes, get rid of '.' and split the sentence to word list\n",
    "    \n",
    "    # the sentence \n",
    "    \n",
    "    if words[-1] == '.':\n",
    "        \n",
    "        splitword=words[:-1].split()\n",
    "        \n",
    "        # newwordlst is a list that holds the the pig latin words in the sentence\n",
    "        # check each word in the list for the first vowel and get its index number, \n",
    "        # then stop the loop after finding the first vowel for each word using break statement.\n",
    "        # make the new word using the found index number and pig latin rule.\n",
    "        # append the pig latin word to the newwordlst\n",
    "        \n",
    "        \n",
    "        newwordlst=[]\n",
    "        \n",
    "        for word in splitword:\n",
    "            for char in word:\n",
    "                \n",
    "                # assumes the word in the sentence only contains letters, no numbers or other characters.\n",
    "                # numbers or other characters will be treated as vowels if existed.\n",
    "                \n",
    "                if not is_consonant(char):\n",
    "                    j = word.index(char)\n",
    "                    break\n",
    "            \n",
    "            # This program only checks if ',' in the word. if yes, move ',' to the end of newword\n",
    "            # the other special characters other than ',' in the middle of the sentence \n",
    "            # are assumed out of the scope of the function.\n",
    "            \n",
    "            if ',' not in word: \n",
    "                newword=word[j].upper() + word[j+1:].lower() + word[0:j].lower() + \"ay\"\n",
    "            \n",
    "            else:\n",
    "                newword=word[j].upper() + word[j+1:-1].lower() + word[0:j].lower() + \"ay,\"\n",
    "                \n",
    "            newwordlst.append(newword)\n",
    "        \n",
    "        # turn the newwordlst into a string, add the period at the end, return the string \n",
    "        \n",
    "        return ' '.join(newwordlst) + '.'\n",
    "    \n",
    "    # if not a sentence, check the word for the first vowel, and get the index of the first vowel\n",
    "    \n",
    "    else: \n",
    "        for char in words:\n",
    "            if not is_consonant(char):\n",
    "                j = words.index(char)\n",
    "                break\n",
    "        newword=words[j].upper() + words[j+1:].lower() + words[0:j].lower() + \"ay\"\n",
    "        return newword\n",
    "\n",
    "print(\"to_piglatin('stay') -> \", to_piglatin('stay'))\n",
    "print(\"to_piglatin('Jared') -> \", to_piglatin('Jared'))\n",
    "print(\"to_piglatin('and') -> \", to_piglatin('and'))\n",
    "print(\"to_piglatin('car') -> \", to_piglatin('car'))\n",
    "print(\"to_piglatin('You need to stay in the car, not in the builing, not in the cafe.') -> \", to_piglatin('You need to stay in the car, not in the builing, not in the cafe.'))\n"
   ]
  },
  {
   "cell_type": "markdown",
   "metadata": {},
   "source": [
    "## Part 2 - Namespace Exercise\n",
    "\n",
    "### 5-2-1 Process Order\n",
    "\n",
    "The following script defines a list of customer orders.  Each item in the list is a tuple containing the name of the item, the number requested, and the price per item.\n",
    "\n",
    "Fill in just the `process_order` function below without changing any other code. This function should remove one of the elements of the order list and print a nice message about it each time through the loop. Finally, make sure that the final print statement correctly displays the total price for the entire list.\n",
    "\n",
    "Example:\n",
    "```\n",
    "You filled an order for 1 antacid for a total of $5.33\n",
    "You filled an order for 3 sour bites for a total of $6.99\n",
    "You filled an order for 1 gummy bears for a total of $1.99\n",
    "You filled an order for 4 oranges for a total of $12.88\n",
    "Total price:  27.19\n",
    "```"
   ]
  },
  {
   "cell_type": "code",
   "execution_count": 24,
   "metadata": {
    "scrolled": true
   },
   "outputs": [
    {
     "name": "stdout",
     "output_type": "stream",
     "text": [
      "You filled an order for 1 antacid for a total of $ 5.33\n",
      "You filled an order for 3 sour bites for a total of $ 6.99\n",
      "You filled an order for 1 gummy bears for a total of $ 1.99\n",
      "You filled an order for 4 oranges for a total of $ 12.88\n",
      "Total price:  27.19\n"
     ]
    }
   ],
   "source": [
    "### [Haihui Cao]\n",
    "\n",
    "total = 0\n",
    "\n",
    "def process_order(x_list):\n",
    "    \"\"\"This function should remove one of the elements of the list and print a nice message about it \n",
    "    each time through the loop. The function displays the total price for the entire list\"\"\"\n",
    "    \n",
    "    # make total a global namespace\n",
    "    global total\n",
    "    \n",
    "    while len(x_list) > 0:\n",
    "        a = x_list.pop()\n",
    "        print(\"You filled an order for\", a[1], a[0], \"for a total of $\", a[1]*a[2])\n",
    "        total += a[1]*a[2]\n",
    "    return total\n",
    "\n",
    "x = [(\"oranges\", 4, 3.22),(\"gummy bears\",1,1.99),(\"sour bites\", 3, 2.33), (\"antacid\", 1, 5.33)]\n",
    "while(len(x)>0):\n",
    "    process_order(x)\n",
    "print(\"Total price: \", total)"
   ]
  },
  {
   "cell_type": "markdown",
   "metadata": {},
   "source": [
    "## Part 3 - Functions as Objects\n",
    "\n",
    "### 5-3-1 A Flexible \"Scoring\" Function\n",
    "\n",
    "The following code defines a list of names and also contains a header for the function `best`.  This function should take two arguments: a function, `score`, and a list of strings, `names`.  Fill in the function so that it applies the `score` function to each string in `names` and returns the one with the highest score. If there are ties in the list, your function should return the first item with the maximum score. For this question, make the score function equal to the length of the word.\n",
    "\n",
    "Hint - it may help to define a temporary function that calculates a score as a placeholder while you troubleshoot.\n",
    "\n",
    "Example:\n",
    "```\n",
    "    McJagger has the longest name\n",
    "```"
   ]
  },
  {
   "cell_type": "code",
   "execution_count": 25,
   "metadata": {
    "scrolled": true
   },
   "outputs": [
    {
     "name": "stdout",
     "output_type": "stream",
     "text": [
      "McJagger has the longest name\n"
     ]
    }
   ],
   "source": [
    "### [Haihui Cao]\n",
    "\n",
    "def best(score, names):\n",
    "    \"\"\"The function applies the score function to each string in names and returns the one with the highest score.\"\"\"\n",
    "    \n",
    "    # construct the list of tuples (name and score(name)) using names. \n",
    "    \n",
    "    a = [(name, score(name)) for name in names]\n",
    "    \n",
    "    # using lambda function to find the names with max score from list a \n",
    "    \n",
    "    return max(a, key = lambda item:item[1])[0]        \n",
    "\n",
    "names = [\"Ben\", \"April\", \"Zaber\", \"Alexis\", \"McJagger\", \"J.J.\", \"Madonna\"]\n",
    "\n",
    "# using lambda to define score function that equals to the length of the word.\n",
    "\n",
    "score = lambda name: len(name)\n",
    "\n",
    "print(best(score, names), \"has the longest name\")"
   ]
  },
  {
   "cell_type": "markdown",
   "metadata": {},
   "source": [
    "### 5-3-2 Using Our Flexible Function\n",
    "\n",
    "Define a function, `number_of_vowels`, that returns the number of vowels in a string.  Use it with your `best` function to find the name in `names` with the most vowels.\n",
    "\n",
    "Next, pass a `lambda` function into your `best` function to find the name in `names` with the highest number of a's.\n",
    "\n",
    "See how easy it is to change the score function for different functionalities!\n",
    "\n",
    "Example: \n",
    "```\n",
    "Alexis has the most vowels\n",
    "Madonna has the most As\n",
    "```"
   ]
  },
  {
   "cell_type": "code",
   "execution_count": 26,
   "metadata": {},
   "outputs": [
    {
     "name": "stdout",
     "output_type": "stream",
     "text": [
      "Alexis has the most vowels\n",
      "Madonna has the most As\n"
     ]
    }
   ],
   "source": [
    "### [Haihui Cao]\n",
    "\n",
    "# Disclaimer: the functions in this homework didn't check exception errors from input types.\n",
    "\n",
    "def number_of_vowels(string):\n",
    "    \"\"\"returns the number of vowels in a string\"\"\"\n",
    "    \n",
    "    count = 0\n",
    "    for i in string.lower(): \n",
    "        if i in 'aeiou':\n",
    "            count = count + 1\n",
    "    return count\n",
    "\n",
    "# using lambda to define the function that finds the number of a and A's in name.\n",
    "\n",
    "find_a = lambda name: name.count('a') + name.count('A')\n",
    "\n",
    "print(best(number_of_vowels, names), \"has the most vowels\")\n",
    "print(best(find_a, names), \"has the most As\")"
   ]
  },
  {
   "cell_type": "markdown",
   "metadata": {},
   "source": [
    "## Part 4 - Recursion Basics\n",
    "\n",
    "### 5-4-1 Computing Fibonacci Numbers\n",
    "\n",
    "You are probably familiar (from two homework ago!) with the famous Fibonacci sequence of numbers, which begins like this:\n",
    "```\n",
    "1, 1, 2, 3, 5, 8, 13, 21...\n",
    "```\n",
    "We'll index from 0, so the 0th and 1st numbers are both 1.  The 2nd Fibonacci number is found by summing the 0th and 1st: 1 + 1 = 2.  The 3rd is found by summing the 1st and 2nd: 1 + 2 = 3.  After this point, each Fibonacci number is found by summing the previous 2.\n",
    "\n",
    "You are to write a recursive function to compute the nth Fibonacci number.  This means that your function will call itself and will **NOT** include explicit loops.\n",
    "\n",
    "Hint: Your function should include a line that looks a lot like the mathematical definition of the nth Fibonacci number.\n",
    "\n",
    "Another Hint: It's possible for a recursive function to call itself more than once.\n",
    "\n",
    "Once you are done, think about whether your function is efficient.  Compare it to a non-recursive implementation (from homework 3)."
   ]
  },
  {
   "cell_type": "code",
   "execution_count": 27,
   "metadata": {},
   "outputs": [
    {
     "data": {
      "text/plain": [
       "[1, 1, 2, 3, 5, 8, 13, 21, 34, 55]"
      ]
     },
     "execution_count": 27,
     "metadata": {},
     "output_type": "execute_result"
    }
   ],
   "source": [
    "### [Haihui Cao]\n",
    "\n",
    "def Fibonacci(n):\n",
    "    \"\"\"This is a recursive function to compute the nth Fibonacci number.\"\"\"\n",
    "    \n",
    "    ### base case: \n",
    "    \n",
    "    if n==0 or n==1:\n",
    "        return 1\n",
    "    \n",
    "    ### recursive rule that nth Fibonacci is the sum of the previous two numbers.\n",
    "    \n",
    "    return Fibonacci(n-1)+Fibonacci(n-2)\n",
    "\n",
    "## Using a comprehension to print the list of nth Fibonacci. \n",
    "## Change the number of n in range(n) for nth Fibonacci printed.\n",
    "\n",
    "[Fibonacci(i) for i in range(10)]"
   ]
  },
  {
   "cell_type": "markdown",
   "metadata": {},
   "source": [
    "## Part 5 - Exceptions Exercises\n",
    "\n",
    "### 5-5-1 Refactoring for Exceptions\n",
    "Refactor this code that attempts to compute a reciprocal so that it keeps prompting the user for a number repeatedly until the user successfully enters a valid number.  If the user enters 0, the program should print that zero does not have a reciprocal, then terminate."
   ]
  },
  {
   "cell_type": "code",
   "execution_count": 29,
   "metadata": {
    "scrolled": true
   },
   "outputs": [
    {
     "name": "stdout",
     "output_type": "stream",
     "text": [
      "Enter a number: df\n",
      "You did not enter a valid number.\n",
      "Enter a number: ge\n",
      "You did not enter a valid number.\n",
      "Enter a number: ?\n",
      "You did not enter a valid number.\n",
      "Enter a number: e\n",
      "You did not enter a valid number.\n",
      "Enter a number: 45\n",
      "The reciprocal of your number is 0.022222222222222223\n"
     ]
    }
   ],
   "source": [
    "### [Haihui Cao]\n",
    "\n",
    "\"\"\"This code uses a while loop to keep prompting the user for a number repeatedly unitl a valid number is entered.\n",
    "If the user enters 0, the program prints that zero does not have a reciprocal, then terminate.\"\"\"\n",
    "\n",
    "# break is used to terminate the loop after try and ZeroDivisionError.\n",
    "\n",
    "while True:\n",
    "    try:\n",
    "        x = float(input(\"Enter a number: \"))\n",
    "        print(\"The reciprocal of your number is\", 1/x)\n",
    "        break\n",
    "        \n",
    "    except ValueError:\n",
    "        print(\"You did not enter a valid number.\")\n",
    "        \n",
    "    except ZeroDivisionError:\n",
    "        print(\"Zero does not have a reciprocal\")\n",
    "        break\n",
    "        \n",
    "    except:\n",
    "        print(\"something else went wrong.\")"
   ]
  },
  {
   "cell_type": "markdown",
   "metadata": {},
   "source": [
    "### 5-5-2 Raising Custom Exceptions\n",
    "\n",
    "Write a function that takes a list of grades and a corresponding list of percentages and returns the weighted average of the grades.  Your function should raise an exception if a percentage is less than 0 or greater than 100, and a different exception if the weights do not add to 100 points.\n",
    "\n",
    "Run your function on `grades1` with `weights1` and `grades2` with `weights2` and `grades3` with `weights3` and `grades4` with `weights4`, defined below.  Catch the errors generated in each case and print a useful message for the user.\n",
    "\n",
    "Example:\n",
    "```\n",
    "weighted_avg(grades4, weights4) -> % List: [0.22, 0.495, 0.15, 0.07]\n",
    "                                   Your weighted grade is: 93.5\n",
    "```"
   ]
  },
  {
   "cell_type": "code",
   "execution_count": 32,
   "metadata": {
    "scrolled": true
   },
   "outputs": [
    {
     "name": "stdout",
     "output_type": "stream",
     "text": [
      "Your weighted grade is -> error:  The weights do not add to 100 points.\n",
      "Your weighted grade is -> error:  A weight percentage can't be less than 0 or greater than 100.\n",
      "Your weighted grade is ->  78.75\n",
      "Your weighted grade is ->  85.0\n"
     ]
    }
   ],
   "source": [
    "### [Haihui Cao]\n",
    "\n",
    "\n",
    "def weighted_avg(grades, weights):\n",
    "    \"\"\"The function takes a list of grades and a corresponding list of percentages and \n",
    "    returns the weighted average of the grades. The function raises an exception if a percentage is less than 0 \n",
    "    or greater than 100, and a different exception if the weights do not add to 100 points.\"\"\"\n",
    "    \n",
    "    # calculate weights total\n",
    "    \n",
    "    total = sum(weights)\n",
    "    \n",
    "    if total != 100:\n",
    "        raise Exception(\"The weights do not add to 100 points.\")\n",
    "    \n",
    "    # check items in weights to see if weights less than 0 or more than 100\n",
    "    \n",
    "    for i in weights:\n",
    "        if i < 0 or i > 100:\n",
    "            raise Exception(\"A weight percentage can't be less than 0 or greater than 100.\")\n",
    "    \n",
    "    # using lambda function to make the list by multiplying corresponding grades and weights \n",
    "    \n",
    "    a = list(map(lambda x,y:x*y/100, grades, weights))\n",
    "    \n",
    "    # return the weighted average by adding all the items in list a\n",
    "    return sum(a)      \n",
    "    \n",
    "\n",
    "grades1 = [88,99,100,70]\n",
    "weights1 = [30, 30, 30, 5]\n",
    "\n",
    "grades2 = [78, 75, 80, 99]\n",
    "weights2 = [110, 10, -20, 0]\n",
    "\n",
    "grades3 = [84, 80, 67, 97]\n",
    "weights3 = [50, 25, 25]\n",
    "\n",
    "grades4 = [100, 80, 90, 75]\n",
    "weights4 = [20, 25, 25, 30]\n",
    "\n",
    "### using higher function try/except to capture the exception and bind it to e.\n",
    "\n",
    "try:\n",
    "    print(\"Your weighted grade is-> \", weighted_avg(grades1,weights1))\n",
    "except Exception as e:\n",
    "    print(\"Your weighted grade is -> error: \", str(e))\n",
    "\n",
    "try:\n",
    "    print(\"Your weighted grade is -> \", weighted_avg(grades2,weights2))\n",
    "except Exception as e:\n",
    "    print(\"Your weighted grade is -> error: \", str(e))\n",
    "    \n",
    "try:\n",
    "    print(\"Your weighted grade is -> \", weighted_avg(grades3,weights3))\n",
    "except Exception as e:\n",
    "    print(\"Your weighted grade is -> error: \", str(e))\n",
    "    \n",
    "try:\n",
    "    print(\"Your weighted grade is -> \", weighted_avg(grades4,weights4))\n",
    "except Exception as e:\n",
    "    print(\"Your weighted grade is -> error: \", str(e))"
   ]
  }
 ],
 "metadata": {
  "anaconda-cloud": {},
  "kernelspec": {
   "display_name": "Python 3",
   "language": "python",
   "name": "python3"
  },
  "language_info": {
   "codemirror_mode": {
    "name": "ipython",
    "version": 3
   },
   "file_extension": ".py",
   "mimetype": "text/x-python",
   "name": "python",
   "nbconvert_exporter": "python",
   "pygments_lexer": "ipython3",
   "version": "3.6.3"
  }
 },
 "nbformat": 4,
 "nbformat_minor": 1
}
