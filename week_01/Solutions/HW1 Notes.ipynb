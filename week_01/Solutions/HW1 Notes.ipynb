{
 "cells": [
  {
   "cell_type": "markdown",
   "metadata": {
    "collapsed": true
   },
   "source": [
    "## HW1 - Answers and notes \n",
    "1) you can efficently make directories and manipulate files using relative paths. \n",
    " * This will make your code more portable\n",
    " * If you stay one working folder you can write clearer code.\n",
    " * you dont have to use cd which is disallowed in some scripts.\n",
    "\n",
    "2) chmod +x  make_tree.sh  #is called from the command line to change the file permissions\n",
    "3) The folder structure, answers.txt and a .sh or .bat script should be included in your submission"
   ]
  },
  {
   "cell_type": "code",
   "execution_count": 3,
   "metadata": {},
   "outputs": [
    {
     "ename": "SyntaxError",
     "evalue": "invalid syntax (<ipython-input-3-b4ec0a43406d>, line 3)",
     "output_type": "error",
     "traceback": [
      "\u001b[0;36m  File \u001b[0;32m\"<ipython-input-3-b4ec0a43406d>\"\u001b[0;36m, line \u001b[0;32m3\u001b[0m\n\u001b[0;31m    mkdir s1\u001b[0m\n\u001b[0m           ^\u001b[0m\n\u001b[0;31mSyntaxError\u001b[0m\u001b[0;31m:\u001b[0m invalid syntax\n"
     ]
    }
   ],
   "source": [
    "#!/bin/bash\n",
    "\n",
    "mkdir s1\n",
    "mkdir s1/s3\n",
    "mkdir s1/s2\n",
    "echo \"I love bash scripting\" > s1/s3/conf.txt\n",
    "echo \"A Whole new world\" >> s1/s2/text_chunk1.txt\n",
    "echo \"A new fantastic point of view\" >> s1/s2/text_chunk1.txt\n",
    "mkdir s1/s2/Advanced\n",
    "touch s1/s2/Advanced/text_chunk2.txt\n",
    "cat s1/s2/text_chunk1.txt >> s1/s2/Advanced/text_chunk2.txt\n",
    "echo \"Do you want to build a snowman?\" >> s1/s2/Advanced/text_chunk2.txt"
   ]
  },
  {
   "cell_type": "code",
   "execution_count": null,
   "metadata": {
    "collapsed": true
   },
   "outputs": [],
   "source": []
  }
 ],
 "metadata": {
  "kernelspec": {
   "display_name": "Python 3",
   "language": "python",
   "name": "python3"
  },
  "language_info": {
   "codemirror_mode": {
    "name": "ipython",
    "version": 3
   },
   "file_extension": ".py",
   "mimetype": "text/x-python",
   "name": "python",
   "nbconvert_exporter": "python",
   "pygments_lexer": "ipython3",
   "version": "3.5.4"
  },
  "widgets": {
   "state": {},
   "version": "1.1.2"
  }
 },
 "nbformat": 4,
 "nbformat_minor": 1
}
